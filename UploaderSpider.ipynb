{
 "cells": [
  {
   "cell_type": "code",
   "execution_count": 1,
   "metadata": {},
   "outputs": [],
   "source": [
    "import os"
   ]
  },
  {
   "cell_type": "code",
   "execution_count": 2,
   "metadata": {},
   "outputs": [],
   "source": [
    "import requests"
   ]
  },
  {
   "cell_type": "code",
   "execution_count": null,
   "metadata": {},
   "outputs": [],
   "source": []
  },
  {
   "cell_type": "code",
   "execution_count": 3,
   "metadata": {},
   "outputs": [],
   "source": [
    "up_name = '纳豆奶奶'\n",
    "up_id = '6574487'"
   ]
  },
  {
   "cell_type": "markdown",
   "metadata": {},
   "source": [
    "# 探索-视频列表"
   ]
  },
  {
   "cell_type": "code",
   "execution_count": 5,
   "metadata": {},
   "outputs": [],
   "source": [
    "page = 1"
   ]
  },
  {
   "cell_type": "code",
   "execution_count": 6,
   "metadata": {},
   "outputs": [],
   "source": [
    "base_api = \"https://api.bilibili.com/x/space/arc/search?mid=%s&ps=30&tid=0&pn=%s&keyword=&order=pubdate&jsonp=jsonp\"%(up_id,page)"
   ]
  },
  {
   "cell_type": "code",
   "execution_count": 7,
   "metadata": {},
   "outputs": [],
   "source": [
    "headers = {\"accept\":\"application/json, text/plain, */*\",\n",
    "            \"accept-encoding\":\"gzip, deflate, br\",\n",
    "            \"accept-language\":\"zh-CN,zh;q=0.9\",\n",
    "            \"origin\":\"https://space.bilibili.com\",\n",
    "            \"referer\":\"https://space.bilibili.com/6574487/video\",\n",
    "            \"sec-fetch-dest\":\"empty\",\n",
    "            \"sec-fetch-mode\":\"cors\",\n",
    "            \"sec-fetch-site\":\"same-site\",\n",
    "            \"user-agent\":\"Mozilla/5.0 (Windows NT 10.0; Win64; x64) AppleWebKit/537.36 (KHTML, like Gecko) Chrome/81.0.4044.122 Safari/537.36\",\n",
    "          }"
   ]
  },
  {
   "cell_type": "code",
   "execution_count": 9,
   "metadata": {},
   "outputs": [],
   "source": [
    "page_data = requests.get(base_api,headers=headers)"
   ]
  },
  {
   "cell_type": "code",
   "execution_count": 14,
   "metadata": {},
   "outputs": [
    {
     "data": {
      "text/plain": [
       "{'comment': 2655,\n",
       " 'typeid': 76,\n",
       " 'play': 560212,\n",
       " 'pic': '//i0.hdslb.com/bfs/archive/b028214e048c8d104062a2613a1a510bb9fa62d0.jpg',\n",
       " 'subtitle': '',\n",
       " 'description': '花1000元买日本天价外卖值不值？一开门四大箱女子惊呆了。。。\\n记得关注我@豆奶子呀~别忘了点赞收藏！\\n❤豆奶日语学习公众号：豆日语\\\\(^o^)/~\\n碎片时间轻松学日语~~记得关注一下哦\\n→av41491192 片尾曲 日语版改革春风吹满地\\n→av40409086 日本妹子为什么这么瘦\\n→av42806782 日本妹子为啥冬天光腿\\n→av43240232 日本妹子吃超难吃中国菜的反应\\n→av40892710 日本妹子为啥牙齿不太好看\\n→av42064376 日本妹子为啥胸大',\n",
       " 'copyright': '',\n",
       " 'title': '花1000元买日本天价外卖值不值？一开门四大箱女子惊呆了。。。',\n",
       " 'review': 0,\n",
       " 'author': '纳豆奶奶',\n",
       " 'mid': 6574487,\n",
       " 'created': 1590404450,\n",
       " 'length': '10:22',\n",
       " 'video_review': 15232,\n",
       " 'aid': 540804257,\n",
       " 'bvid': 'BV1si4y1s7Z4',\n",
       " 'hide_click': False,\n",
       " 'is_pay': 0,\n",
       " 'is_union_video': 0}"
      ]
     },
     "execution_count": 14,
     "metadata": {},
     "output_type": "execute_result"
    }
   ],
   "source": [
    "page_data.json()[\"data\"][\"list\"][\"vlist\"][0]"
   ]
  },
  {
   "cell_type": "code",
   "execution_count": null,
   "metadata": {},
   "outputs": [],
   "source": []
  },
  {
   "cell_type": "markdown",
   "metadata": {},
   "source": [
    "# 抓取-视频列表"
   ]
  },
  {
   "cell_type": "code",
   "execution_count": 15,
   "metadata": {},
   "outputs": [],
   "source": [
    "import pandas as pd"
   ]
  },
  {
   "cell_type": "code",
   "execution_count": 28,
   "metadata": {},
   "outputs": [],
   "source": [
    "pd.options.display.max_columns = None"
   ]
  },
  {
   "cell_type": "code",
   "execution_count": 21,
   "metadata": {},
   "outputs": [],
   "source": [
    "a = {1:\"a\",2:\"b\"}\n",
    "b = {1:\"a\",2:\"c\"}"
   ]
  },
  {
   "cell_type": "code",
   "execution_count": 22,
   "metadata": {},
   "outputs": [
    {
     "data": {
      "text/html": [
       "<div>\n",
       "<style scoped>\n",
       "    .dataframe tbody tr th:only-of-type {\n",
       "        vertical-align: middle;\n",
       "    }\n",
       "\n",
       "    .dataframe tbody tr th {\n",
       "        vertical-align: top;\n",
       "    }\n",
       "\n",
       "    .dataframe thead th {\n",
       "        text-align: right;\n",
       "    }\n",
       "</style>\n",
       "<table border=\"1\" class=\"dataframe\">\n",
       "  <thead>\n",
       "    <tr style=\"text-align: right;\">\n",
       "      <th></th>\n",
       "      <th>1</th>\n",
       "      <th>2</th>\n",
       "    </tr>\n",
       "  </thead>\n",
       "  <tbody>\n",
       "    <tr>\n",
       "      <th>0</th>\n",
       "      <td>a</td>\n",
       "      <td>b</td>\n",
       "    </tr>\n",
       "    <tr>\n",
       "      <th>1</th>\n",
       "      <td>a</td>\n",
       "      <td>c</td>\n",
       "    </tr>\n",
       "  </tbody>\n",
       "</table>\n",
       "</div>"
      ],
      "text/plain": [
       "   1  2\n",
       "0  a  b\n",
       "1  a  c"
      ]
     },
     "execution_count": 22,
     "metadata": {},
     "output_type": "execute_result"
    }
   ],
   "source": [
    "pd.DataFrame(data=[a,b])"
   ]
  },
  {
   "cell_type": "code",
   "execution_count": null,
   "metadata": {},
   "outputs": [],
   "source": []
  },
  {
   "cell_type": "code",
   "execution_count": 23,
   "metadata": {},
   "outputs": [],
   "source": [
    "data = []"
   ]
  },
  {
   "cell_type": "code",
   "execution_count": 24,
   "metadata": {},
   "outputs": [],
   "source": [
    "page = 1\n",
    "while True:\n",
    "    base_api = \"https://api.bilibili.com/x/space/arc/search?mid=%s&ps=30&tid=0&pn=%s&keyword=&order=pubdate&jsonp=jsonp\"%(up_id,page)\n",
    "    page_data = requests.get(base_api,headers=headers)\n",
    "    video_data = page_data.json()[\"data\"][\"list\"][\"vlist\"]\n",
    "    if not video_data:\n",
    "        break\n",
    "    data += page_data.json()[\"data\"][\"list\"][\"vlist\"]\n",
    "    page += 1"
   ]
  },
  {
   "cell_type": "code",
   "execution_count": 77,
   "metadata": {
    "scrolled": true
   },
   "outputs": [],
   "source": [
    "videos = pd.DataFrame(data)"
   ]
  },
  {
   "cell_type": "code",
   "execution_count": 79,
   "metadata": {
    "scrolled": true
   },
   "outputs": [
    {
     "data": {
      "text/html": [
       "<div>\n",
       "<style scoped>\n",
       "    .dataframe tbody tr th:only-of-type {\n",
       "        vertical-align: middle;\n",
       "    }\n",
       "\n",
       "    .dataframe tbody tr th {\n",
       "        vertical-align: top;\n",
       "    }\n",
       "\n",
       "    .dataframe thead th {\n",
       "        text-align: right;\n",
       "    }\n",
       "</style>\n",
       "<table border=\"1\" class=\"dataframe\">\n",
       "  <thead>\n",
       "    <tr style=\"text-align: right;\">\n",
       "      <th></th>\n",
       "      <th>comment</th>\n",
       "      <th>typeid</th>\n",
       "      <th>play</th>\n",
       "      <th>pic</th>\n",
       "      <th>subtitle</th>\n",
       "      <th>description</th>\n",
       "      <th>copyright</th>\n",
       "      <th>title</th>\n",
       "      <th>review</th>\n",
       "      <th>author</th>\n",
       "      <th>mid</th>\n",
       "      <th>created</th>\n",
       "      <th>length</th>\n",
       "      <th>video_review</th>\n",
       "      <th>aid</th>\n",
       "      <th>bvid</th>\n",
       "      <th>hide_click</th>\n",
       "      <th>is_pay</th>\n",
       "      <th>is_union_video</th>\n",
       "    </tr>\n",
       "  </thead>\n",
       "  <tbody>\n",
       "    <tr>\n",
       "      <th>0</th>\n",
       "      <td>2678</td>\n",
       "      <td>76</td>\n",
       "      <td>572189</td>\n",
       "      <td>//i0.hdslb.com/bfs/archive/b028214e048c8d10406...</td>\n",
       "      <td></td>\n",
       "      <td>花1000元买日本天价外卖值不值？一开门四大箱女子惊呆了。。。\\n记得关注我@豆奶子呀~别忘...</td>\n",
       "      <td></td>\n",
       "      <td>花1000元买日本天价外卖值不值？一开门四大箱女子惊呆了。。。</td>\n",
       "      <td>0</td>\n",
       "      <td>纳豆奶奶</td>\n",
       "      <td>6574487</td>\n",
       "      <td>1590404450</td>\n",
       "      <td>10:22</td>\n",
       "      <td>15421</td>\n",
       "      <td>540804257</td>\n",
       "      <td>BV1si4y1s7Z4</td>\n",
       "      <td>False</td>\n",
       "      <td>0</td>\n",
       "      <td>0</td>\n",
       "    </tr>\n",
       "    <tr>\n",
       "      <th>1</th>\n",
       "      <td>4353</td>\n",
       "      <td>21</td>\n",
       "      <td>942038</td>\n",
       "      <td>//i2.hdslb.com/bfs/archive/dc27f79f4873f79d510...</td>\n",
       "      <td></td>\n",
       "      <td>很多人来日本都不安了。。。\\n记得关注我@豆奶子呀~别忘了点赞收藏！\\n❤豆奶日语学习公众号...</td>\n",
       "      <td></td>\n",
       "      <td>为什么日本妹子日常不安？可能你也。。。</td>\n",
       "      <td>0</td>\n",
       "      <td>纳豆奶奶</td>\n",
       "      <td>6574487</td>\n",
       "      <td>1590055230</td>\n",
       "      <td>07:54</td>\n",
       "      <td>23552</td>\n",
       "      <td>540767702</td>\n",
       "      <td>BV11i4y147uX</td>\n",
       "      <td>False</td>\n",
       "      <td>0</td>\n",
       "      <td>0</td>\n",
       "    </tr>\n",
       "    <tr>\n",
       "      <th>2</th>\n",
       "      <td>5057</td>\n",
       "      <td>21</td>\n",
       "      <td>1412914</td>\n",
       "      <td>//i2.hdslb.com/bfs/archive/ab6c56bc86410650668...</td>\n",
       "      <td></td>\n",
       "      <td>姐的标签很精彩。\\n记得关注我@豆奶子呀~别忘了点赞收藏！\\n❤豆奶日语学习公众号：豆日语\\...</td>\n",
       "      <td></td>\n",
       "      <td>你...你馋什么？？？一女子收到私信后作出这样的反应.....</td>\n",
       "      <td>0</td>\n",
       "      <td>纳豆奶奶</td>\n",
       "      <td>6574487</td>\n",
       "      <td>1589796036</td>\n",
       "      <td>10:10</td>\n",
       "      <td>31429</td>\n",
       "      <td>968193344</td>\n",
       "      <td>BV1ap4y1Q7jL</td>\n",
       "      <td>False</td>\n",
       "      <td>0</td>\n",
       "      <td>0</td>\n",
       "    </tr>\n",
       "    <tr>\n",
       "      <th>3</th>\n",
       "      <td>5159</td>\n",
       "      <td>21</td>\n",
       "      <td>1206575</td>\n",
       "      <td>//i1.hdslb.com/bfs/archive/8d6b36c78cd7a125a54...</td>\n",
       "      <td></td>\n",
       "      <td>男生女生都应该了解下\\n记得关注我@豆奶子呀~别忘了点赞收藏！\\n❤豆奶日语学习公众号：豆日...</td>\n",
       "      <td></td>\n",
       "      <td>为什么日本妹子不管做什么都喜欢很多人一起？</td>\n",
       "      <td>0</td>\n",
       "      <td>纳豆奶奶</td>\n",
       "      <td>6574487</td>\n",
       "      <td>1589185840</td>\n",
       "      <td>06:03</td>\n",
       "      <td>22864</td>\n",
       "      <td>710500019</td>\n",
       "      <td>BV1uQ4y1N76K</td>\n",
       "      <td>False</td>\n",
       "      <td>0</td>\n",
       "      <td>0</td>\n",
       "    </tr>\n",
       "    <tr>\n",
       "      <th>4</th>\n",
       "      <td>4329</td>\n",
       "      <td>21</td>\n",
       "      <td>1421025</td>\n",
       "      <td>//i2.hdslb.com/bfs/archive/72c0807b7b839e6dc2b...</td>\n",
       "      <td></td>\n",
       "      <td>生涯最骚翻拍日本广告~~\\n° ͜ʖ ͡°)记得关注我@豆奶子呀~别忘了点赞收藏！\\n❤豆奶...</td>\n",
       "      <td></td>\n",
       "      <td>纳豆奶奶教你做正宗日式广告</td>\n",
       "      <td>0</td>\n",
       "      <td>纳豆奶奶</td>\n",
       "      <td>6574487</td>\n",
       "      <td>1588511677</td>\n",
       "      <td>08:15</td>\n",
       "      <td>23765</td>\n",
       "      <td>583059471</td>\n",
       "      <td>BV1pz4y1R7xg</td>\n",
       "      <td>False</td>\n",
       "      <td>0</td>\n",
       "      <td>0</td>\n",
       "    </tr>\n",
       "    <tr>\n",
       "      <th>...</th>\n",
       "      <td>...</td>\n",
       "      <td>...</td>\n",
       "      <td>...</td>\n",
       "      <td>...</td>\n",
       "      <td>...</td>\n",
       "      <td>...</td>\n",
       "      <td>...</td>\n",
       "      <td>...</td>\n",
       "      <td>...</td>\n",
       "      <td>...</td>\n",
       "      <td>...</td>\n",
       "      <td>...</td>\n",
       "      <td>...</td>\n",
       "      <td>...</td>\n",
       "      <td>...</td>\n",
       "      <td>...</td>\n",
       "      <td>...</td>\n",
       "      <td>...</td>\n",
       "      <td>...</td>\n",
       "    </tr>\n",
       "    <tr>\n",
       "      <th>152</th>\n",
       "      <td>665</td>\n",
       "      <td>157</td>\n",
       "      <td>359222</td>\n",
       "      <td>//i1.hdslb.com/bfs/archive/eed9c12b2251ea41669...</td>\n",
       "      <td></td>\n",
       "      <td>分享了自己的经验和最近一直在梳的发型，希望各位方脸妹子更自信，方脸也是很美的~~\\n如果不是...</td>\n",
       "      <td></td>\n",
       "      <td>【发型教程】大脸必须知道的发型，手残福音，拯救方脸！</td>\n",
       "      <td>0</td>\n",
       "      <td>纳豆奶奶</td>\n",
       "      <td>6574487</td>\n",
       "      <td>1491465239</td>\n",
       "      <td>11:35</td>\n",
       "      <td>2521</td>\n",
       "      <td>9648737</td>\n",
       "      <td>BV1Qx411Q72Y</td>\n",
       "      <td>False</td>\n",
       "      <td>0</td>\n",
       "      <td>0</td>\n",
       "    </tr>\n",
       "    <tr>\n",
       "      <th>153</th>\n",
       "      <td>2013</td>\n",
       "      <td>157</td>\n",
       "      <td>311042</td>\n",
       "      <td>//i0.hdslb.com/bfs/archive/42154eddfcdb63fa0ac...</td>\n",
       "      <td></td>\n",
       "      <td>第一次发美妆区，请多多包涵♪(づ￣3￣)づ╭❤～\\n嗯，怕疼的憋看。。。\\n牌子+safet...</td>\n",
       "      <td></td>\n",
       "      <td>【自己打耳洞教程】估计看完这个视频也没人敢自己打了。。。</td>\n",
       "      <td>0</td>\n",
       "      <td>纳豆奶奶</td>\n",
       "      <td>6574487</td>\n",
       "      <td>1488815029</td>\n",
       "      <td>09:00</td>\n",
       "      <td>3903</td>\n",
       "      <td>9011835</td>\n",
       "      <td>BV15x411C7oE</td>\n",
       "      <td>False</td>\n",
       "      <td>0</td>\n",
       "      <td>0</td>\n",
       "    </tr>\n",
       "    <tr>\n",
       "      <th>154</th>\n",
       "      <td>411</td>\n",
       "      <td>76</td>\n",
       "      <td>214906</td>\n",
       "      <td>//i1.hdslb.com/bfs/archive/edac3401847b09956d8...</td>\n",
       "      <td></td>\n",
       "      <td>已加入豪华黑名单\\n 对不起这碗蓝色拖把我真的吃不下去 \\n 还不快去微博@纳豆少女 安慰...</td>\n",
       "      <td></td>\n",
       "      <td>活死人拉面！蓝色食物究竟有多恶心？</td>\n",
       "      <td>0</td>\n",
       "      <td>纳豆奶奶</td>\n",
       "      <td>6574487</td>\n",
       "      <td>1484213820</td>\n",
       "      <td>03:38</td>\n",
       "      <td>1426</td>\n",
       "      <td>7972646</td>\n",
       "      <td>BV1xs411h7cL</td>\n",
       "      <td>False</td>\n",
       "      <td>0</td>\n",
       "      <td>0</td>\n",
       "    </tr>\n",
       "    <tr>\n",
       "      <th>155</th>\n",
       "      <td>512</td>\n",
       "      <td>21</td>\n",
       "      <td>232061</td>\n",
       "      <td>//i1.hdslb.com/bfs/archive/606acdae5e84ec97e47...</td>\n",
       "      <td></td>\n",
       "      <td>各位久等了~ 如果喜欢 请给我爱╮(╯▽╰)╭ 微博：@纳豆少女</td>\n",
       "      <td></td>\n",
       "      <td>狂搅纳豆四千次 你以为。。。</td>\n",
       "      <td>0</td>\n",
       "      <td>纳豆奶奶</td>\n",
       "      <td>6574487</td>\n",
       "      <td>1467198416</td>\n",
       "      <td>04:06</td>\n",
       "      <td>1517</td>\n",
       "      <td>5137862</td>\n",
       "      <td>BV1as411v74V</td>\n",
       "      <td>False</td>\n",
       "      <td>0</td>\n",
       "      <td>0</td>\n",
       "    </tr>\n",
       "    <tr>\n",
       "      <th>156</th>\n",
       "      <td>1532</td>\n",
       "      <td>138</td>\n",
       "      <td>287389</td>\n",
       "      <td>//i0.hdslb.com/bfs/archive/e6cc83400c803a765fd...</td>\n",
       "      <td></td>\n",
       "      <td>自制 风靡日本的水果麦片卡乐比，吃上就停不下来啦，很多朋友都说最喜欢里面的水果，那么正直善良...</td>\n",
       "      <td></td>\n",
       "      <td>卡乐比麦片里究竟有多少水果 无聊girl的实验</td>\n",
       "      <td>0</td>\n",
       "      <td>纳豆奶奶</td>\n",
       "      <td>6574487</td>\n",
       "      <td>1457505191</td>\n",
       "      <td>02:34</td>\n",
       "      <td>3107</td>\n",
       "      <td>4052652</td>\n",
       "      <td>BV1ts411Q7k7</td>\n",
       "      <td>False</td>\n",
       "      <td>0</td>\n",
       "      <td>0</td>\n",
       "    </tr>\n",
       "  </tbody>\n",
       "</table>\n",
       "<p>157 rows × 19 columns</p>\n",
       "</div>"
      ],
      "text/plain": [
       "     comment  typeid     play  \\\n",
       "0       2678      76   572189   \n",
       "1       4353      21   942038   \n",
       "2       5057      21  1412914   \n",
       "3       5159      21  1206575   \n",
       "4       4329      21  1421025   \n",
       "..       ...     ...      ...   \n",
       "152      665     157   359222   \n",
       "153     2013     157   311042   \n",
       "154      411      76   214906   \n",
       "155      512      21   232061   \n",
       "156     1532     138   287389   \n",
       "\n",
       "                                                   pic subtitle  \\\n",
       "0    //i0.hdslb.com/bfs/archive/b028214e048c8d10406...            \n",
       "1    //i2.hdslb.com/bfs/archive/dc27f79f4873f79d510...            \n",
       "2    //i2.hdslb.com/bfs/archive/ab6c56bc86410650668...            \n",
       "3    //i1.hdslb.com/bfs/archive/8d6b36c78cd7a125a54...            \n",
       "4    //i2.hdslb.com/bfs/archive/72c0807b7b839e6dc2b...            \n",
       "..                                                 ...      ...   \n",
       "152  //i1.hdslb.com/bfs/archive/eed9c12b2251ea41669...            \n",
       "153  //i0.hdslb.com/bfs/archive/42154eddfcdb63fa0ac...            \n",
       "154  //i1.hdslb.com/bfs/archive/edac3401847b09956d8...            \n",
       "155  //i1.hdslb.com/bfs/archive/606acdae5e84ec97e47...            \n",
       "156  //i0.hdslb.com/bfs/archive/e6cc83400c803a765fd...            \n",
       "\n",
       "                                           description copyright  \\\n",
       "0    花1000元买日本天价外卖值不值？一开门四大箱女子惊呆了。。。\\n记得关注我@豆奶子呀~别忘...             \n",
       "1    很多人来日本都不安了。。。\\n记得关注我@豆奶子呀~别忘了点赞收藏！\\n❤豆奶日语学习公众号...             \n",
       "2    姐的标签很精彩。\\n记得关注我@豆奶子呀~别忘了点赞收藏！\\n❤豆奶日语学习公众号：豆日语\\...             \n",
       "3    男生女生都应该了解下\\n记得关注我@豆奶子呀~别忘了点赞收藏！\\n❤豆奶日语学习公众号：豆日...             \n",
       "4    生涯最骚翻拍日本广告~~\\n° ͜ʖ ͡°)记得关注我@豆奶子呀~别忘了点赞收藏！\\n❤豆奶...             \n",
       "..                                                 ...       ...   \n",
       "152  分享了自己的经验和最近一直在梳的发型，希望各位方脸妹子更自信，方脸也是很美的~~\\n如果不是...             \n",
       "153  第一次发美妆区，请多多包涵♪(づ￣3￣)づ╭❤～\\n嗯，怕疼的憋看。。。\\n牌子+safet...             \n",
       "154   已加入豪华黑名单\\n 对不起这碗蓝色拖把我真的吃不下去 \\n 还不快去微博@纳豆少女 安慰...             \n",
       "155                   各位久等了~ 如果喜欢 请给我爱╮(╯▽╰)╭ 微博：@纳豆少女             \n",
       "156  自制 风靡日本的水果麦片卡乐比，吃上就停不下来啦，很多朋友都说最喜欢里面的水果，那么正直善良...             \n",
       "\n",
       "                               title  review author      mid     created  \\\n",
       "0    花1000元买日本天价外卖值不值？一开门四大箱女子惊呆了。。。       0   纳豆奶奶  6574487  1590404450   \n",
       "1                为什么日本妹子日常不安？可能你也。。。       0   纳豆奶奶  6574487  1590055230   \n",
       "2    你...你馋什么？？？一女子收到私信后作出这样的反应.....       0   纳豆奶奶  6574487  1589796036   \n",
       "3              为什么日本妹子不管做什么都喜欢很多人一起？       0   纳豆奶奶  6574487  1589185840   \n",
       "4                      纳豆奶奶教你做正宗日式广告       0   纳豆奶奶  6574487  1588511677   \n",
       "..                               ...     ...    ...      ...         ...   \n",
       "152       【发型教程】大脸必须知道的发型，手残福音，拯救方脸！       0   纳豆奶奶  6574487  1491465239   \n",
       "153     【自己打耳洞教程】估计看完这个视频也没人敢自己打了。。。       0   纳豆奶奶  6574487  1488815029   \n",
       "154                活死人拉面！蓝色食物究竟有多恶心？       0   纳豆奶奶  6574487  1484213820   \n",
       "155                   狂搅纳豆四千次 你以为。。。       0   纳豆奶奶  6574487  1467198416   \n",
       "156          卡乐比麦片里究竟有多少水果 无聊girl的实验       0   纳豆奶奶  6574487  1457505191   \n",
       "\n",
       "    length  video_review        aid          bvid  hide_click  is_pay  \\\n",
       "0    10:22         15421  540804257  BV1si4y1s7Z4       False       0   \n",
       "1    07:54         23552  540767702  BV11i4y147uX       False       0   \n",
       "2    10:10         31429  968193344  BV1ap4y1Q7jL       False       0   \n",
       "3    06:03         22864  710500019  BV1uQ4y1N76K       False       0   \n",
       "4    08:15         23765  583059471  BV1pz4y1R7xg       False       0   \n",
       "..     ...           ...        ...           ...         ...     ...   \n",
       "152  11:35          2521    9648737  BV1Qx411Q72Y       False       0   \n",
       "153  09:00          3903    9011835  BV15x411C7oE       False       0   \n",
       "154  03:38          1426    7972646  BV1xs411h7cL       False       0   \n",
       "155  04:06          1517    5137862  BV1as411v74V       False       0   \n",
       "156  02:34          3107    4052652  BV1ts411Q7k7       False       0   \n",
       "\n",
       "     is_union_video  \n",
       "0                 0  \n",
       "1                 0  \n",
       "2                 0  \n",
       "3                 0  \n",
       "4                 0  \n",
       "..              ...  \n",
       "152               0  \n",
       "153               0  \n",
       "154               0  \n",
       "155               0  \n",
       "156               0  \n",
       "\n",
       "[157 rows x 19 columns]"
      ]
     },
     "execution_count": 79,
     "metadata": {},
     "output_type": "execute_result"
    }
   ],
   "source": [
    "videos"
   ]
  },
  {
   "cell_type": "code",
   "execution_count": null,
   "metadata": {},
   "outputs": [],
   "source": []
  },
  {
   "cell_type": "markdown",
   "metadata": {},
   "source": [
    "# 探索-视频详情"
   ]
  },
  {
   "cell_type": "code",
   "execution_count": 31,
   "metadata": {},
   "outputs": [],
   "source": [
    "aid = 4052652"
   ]
  },
  {
   "cell_type": "code",
   "execution_count": 32,
   "metadata": {},
   "outputs": [],
   "source": [
    "api_url = \"https://api.bilibili.com/x/web-interface/archive/stat?aid=%s\"%aid"
   ]
  },
  {
   "cell_type": "code",
   "execution_count": null,
   "metadata": {},
   "outputs": [],
   "source": []
  },
  {
   "cell_type": "code",
   "execution_count": 73,
   "metadata": {},
   "outputs": [],
   "source": [
    "def str_to_dict(x):\n",
    "    return eval('{\"' + x.replace(\": \",'\":\"').replace('\\n','\",\"') + '\"}')"
   ]
  },
  {
   "cell_type": "code",
   "execution_count": 74,
   "metadata": {},
   "outputs": [],
   "source": [
    "header_raw =\"\"\"accept: */*\n",
    "accept-encoding: gzip, deflate, br\n",
    "accept-language: zh-CN,zh;q=0.9\n",
    "origin: https://www.bilibili.com\n",
    "referer: https://www.bilibili.com/video/BV1ts411Q7k7\n",
    "sec-fetch-dest: empty\n",
    "sec-fetch-mode: cors\n",
    "sec-fetch-site: same-site\n",
    "user-agent: Mozilla/5.0 (Windows NT 10.0; Win64; x64) AppleWebKit/537.36 (KHTML, like Gecko) Chrome/81.0.4044.122 Safari/537.36\"\"\""
   ]
  },
  {
   "cell_type": "code",
   "execution_count": 75,
   "metadata": {},
   "outputs": [],
   "source": [
    "headers = str_to_dict(header_raw)"
   ]
  },
  {
   "cell_type": "code",
   "execution_count": 76,
   "metadata": {},
   "outputs": [
    {
     "data": {
      "text/plain": [
       "{'accept': '*/*',\n",
       " 'accept-encoding': 'gzip, deflate, br',\n",
       " 'accept-language': 'zh-CN,zh;q=0.9',\n",
       " 'origin': 'https://www.bilibili.com',\n",
       " 'referer': 'https://www.bilibili.com/video/BV1ts411Q7k7',\n",
       " 'sec-fetch-dest': 'empty',\n",
       " 'sec-fetch-mode': 'cors',\n",
       " 'sec-fetch-site': 'same-site',\n",
       " 'user-agent': 'Mozilla/5.0 (Windows NT 10.0; Win64; x64) AppleWebKit/537.36 (KHTML, like Gecko) Chrome/81.0.4044.122 Safari/537.36'}"
      ]
     },
     "execution_count": 76,
     "metadata": {},
     "output_type": "execute_result"
    }
   ],
   "source": [
    "headers"
   ]
  },
  {
   "cell_type": "code",
   "execution_count": 86,
   "metadata": {},
   "outputs": [],
   "source": [
    "api_url = \"https://api.bilibili.com/x/web-interface/archive/stat?aid=%s\"%aid\n",
    "video_url_response = requests.get(api_url,headers=headers)"
   ]
  },
  {
   "cell_type": "code",
   "execution_count": 87,
   "metadata": {},
   "outputs": [
    {
     "data": {
      "text/plain": [
       "{'aid': 4052652,\n",
       " 'bvid': 'BV1ts411Q7k7',\n",
       " 'view': 287398,\n",
       " 'danmaku': 3113,\n",
       " 'reply': 1532,\n",
       " 'favorite': 810,\n",
       " 'coin': 1730,\n",
       " 'share': 100,\n",
       " 'like': 8259,\n",
       " 'now_rank': 0,\n",
       " 'his_rank': 0,\n",
       " 'no_reprint': 0,\n",
       " 'copyright': 1,\n",
       " 'argue_msg': '',\n",
       " 'evaluation': ''}"
      ]
     },
     "execution_count": 87,
     "metadata": {},
     "output_type": "execute_result"
    }
   ],
   "source": [
    "video_url_response.json()[\"data\"]"
   ]
  },
  {
   "cell_type": "code",
   "execution_count": null,
   "metadata": {},
   "outputs": [],
   "source": []
  },
  {
   "cell_type": "markdown",
   "metadata": {},
   "source": [
    "# 抓取-视频详情"
   ]
  },
  {
   "cell_type": "code",
   "execution_count": 80,
   "metadata": {},
   "outputs": [],
   "source": [
    "import time"
   ]
  },
  {
   "cell_type": "code",
   "execution_count": 89,
   "metadata": {},
   "outputs": [],
   "source": [
    "data_video = []"
   ]
  },
  {
   "cell_type": "code",
   "execution_count": 90,
   "metadata": {},
   "outputs": [],
   "source": [
    "for aid in videos[\"aid\"]:\n",
    "    api_url = \"https://api.bilibili.com/x/web-interface/archive/stat?aid=%s\"%aid\n",
    "    video_url_response = requests.get(api_url,headers=headers)\n",
    "    data_video.append(video_url_response.json()[\"data\"])\n",
    "    time.sleep(1)"
   ]
  },
  {
   "cell_type": "code",
   "execution_count": 92,
   "metadata": {},
   "outputs": [],
   "source": [
    "video_details = pd.DataFrame(data_video)"
   ]
  },
  {
   "cell_type": "code",
   "execution_count": null,
   "metadata": {},
   "outputs": [],
   "source": []
  },
  {
   "cell_type": "code",
   "execution_count": null,
   "metadata": {},
   "outputs": [],
   "source": []
  },
  {
   "cell_type": "markdown",
   "metadata": {},
   "source": [
    "# 拼接-结果数据"
   ]
  },
  {
   "cell_type": "code",
   "execution_count": 93,
   "metadata": {},
   "outputs": [
    {
     "data": {
      "text/plain": [
       "Index(['comment', 'typeid', 'play', 'pic', 'subtitle', 'description',\n",
       "       'copyright', 'title', 'review', 'author', 'mid', 'created', 'length',\n",
       "       'video_review', 'aid', 'bvid', 'hide_click', 'is_pay',\n",
       "       'is_union_video'],\n",
       "      dtype='object')"
      ]
     },
     "execution_count": 93,
     "metadata": {},
     "output_type": "execute_result"
    }
   ],
   "source": [
    "videos.columns"
   ]
  },
  {
   "cell_type": "code",
   "execution_count": 94,
   "metadata": {},
   "outputs": [
    {
     "data": {
      "text/plain": [
       "Index(['aid', 'bvid', 'view', 'danmaku', 'reply', 'favorite', 'coin', 'share',\n",
       "       'like', 'now_rank', 'his_rank', 'no_reprint', 'copyright', 'argue_msg',\n",
       "       'evaluation'],\n",
       "      dtype='object')"
      ]
     },
     "execution_count": 94,
     "metadata": {},
     "output_type": "execute_result"
    }
   ],
   "source": [
    "video_details.columns"
   ]
  },
  {
   "cell_type": "code",
   "execution_count": 95,
   "metadata": {},
   "outputs": [
    {
     "data": {
      "text/plain": [
       "{'aid', 'bvid', 'copyright'}"
      ]
     },
     "execution_count": 95,
     "metadata": {},
     "output_type": "execute_result"
    }
   ],
   "source": [
    "set(videos.columns) & set(video_details.columns)"
   ]
  },
  {
   "cell_type": "code",
   "execution_count": 101,
   "metadata": {},
   "outputs": [],
   "source": [
    "results = videos.merge(video_details.drop(columns=\"copyright\"),how=\"left\",on=[\"aid\",\"bvid\"])"
   ]
  },
  {
   "cell_type": "code",
   "execution_count": 103,
   "metadata": {},
   "outputs": [],
   "source": [
    "results.to_excel(\"results.xlsx\")"
   ]
  },
  {
   "cell_type": "code",
   "execution_count": null,
   "metadata": {},
   "outputs": [],
   "source": []
  },
  {
   "cell_type": "code",
   "execution_count": null,
   "metadata": {},
   "outputs": [],
   "source": []
  },
  {
   "cell_type": "code",
   "execution_count": null,
   "metadata": {},
   "outputs": [],
   "source": []
  }
 ],
 "metadata": {
  "kernelspec": {
   "display_name": "Python 3",
   "language": "python",
   "name": "python3"
  },
  "language_info": {
   "codemirror_mode": {
    "name": "ipython",
    "version": 3
   },
   "file_extension": ".py",
   "mimetype": "text/x-python",
   "name": "python",
   "nbconvert_exporter": "python",
   "pygments_lexer": "ipython3",
   "version": "3.6.7"
  }
 },
 "nbformat": 4,
 "nbformat_minor": 4
}
