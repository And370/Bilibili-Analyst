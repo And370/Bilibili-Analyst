{
 "cells": [
  {
   "cell_type": "code",
   "execution_count": 1,
   "metadata": {},
   "outputs": [],
   "source": [
    "import random\n",
    "import json\n",
    "import time\n",
    "import requests\n",
    "import pandas as pd"
   ]
  },
  {
   "cell_type": "code",
   "execution_count": 21,
   "metadata": {},
   "outputs": [],
   "source": [
    "pd.options.display.max_columns = None\n",
    "\n",
    "\n",
    "def str_to_dict(x):\n",
    "    return eval('{\"' + x.replace(\": \", '\":\"').replace('\\n', '\",\"') + '\"}')\n",
    "\n",
    "\n",
    "headers = str_to_dict(\"\"\"accept: */*\n",
    "accept-encoding: gzip, deflate, br\n",
    "accept-language: zh-CN,zh;q=0.9\n",
    "referer: https://space.bilibili.com/6574487/fans/follow\n",
    "sec-fetch-dest: script\n",
    "sec-fetch-mode: no-cors\n",
    "sec-fetch-site: same-site\n",
    "user-agent: Mozilla/5.0 (Windows NT 10.0; Win64; x64) AppleWebKit/537.36 (KHTML, like Gecko) Chrome/81.0.4044.138 Safari/537.36\"\"\")\n",
    "\n",
    "\n",
    "# 获取单个UP主的关注对象\n",
    "def follows_spider(up_id):\n",
    "    data = []\n",
    "    page = 1\n",
    "    # B站默认限制查看前100个关注者\n",
    "    while page <= 5:\n",
    "        time.sleep(random.randint(6, 12) * 0.1)\n",
    "#         print(up_id, page)\n",
    "        # 关注者api\n",
    "        api_url = \"http://api.bilibili.com/x/relation/followings?vmid=%s&pn=%s&ps=50&order=desc&jsonp=jsonp&callback=__jp5\" % (\n",
    "            up_id, page)\n",
    "        response = requests.get(api_url, headers=headers)\n",
    "        \n",
    "        try:\n",
    "            # 关注者\n",
    "            follows = json.loads(response.text[6:-1])[\"data\"][\"list\"]\n",
    "        except Exception as e:\n",
    "            print(e)\n",
    "            print(json.loads(response.text[6:-1]))\n",
    "            break\n",
    "\n",
    "        data.extend(follows)\n",
    "        page += 1\n",
    "    return data\n",
    "\n",
    "\n",
    "# BFS\n",
    "# 广度优先搜索UP主的关注对象\n",
    "def follow_tree_spider(seeds, deep=1):\n",
    "    # 详细数据\n",
    "    final_data = pd.DataFrame()\n",
    "    # 已获取\n",
    "    from_cache = set()\n",
    "    # 待获取\n",
    "    queue = set(seeds)\n",
    "    \n",
    "    try:\n",
    "        for i in range(deep):\n",
    "            print(\"正在获取第%级关注.\"%i)\n",
    "            sub_data = pd.DataFrame()\n",
    "            for seed in queue:\n",
    "                sub_data = pd.DataFrame(follows_spider(str(int(float(seed)))))\n",
    "                sub_data[\"from\"] = seed\n",
    "                final_data = final_data.append(sub_data)\n",
    "            # 单层搜索结束进行缓存更新\n",
    "            from_cache.update(queue)\n",
    "            # 当前列表去除缓存数据\n",
    "            # print(sub_data.columns)\n",
    "            queue = set(final_data[\"mid\"]) - from_cache\n",
    "    except Exception as e:\n",
    "        print(e)\n",
    "    return final_data"
   ]
  },
  {
   "cell_type": "code",
   "execution_count": 22,
   "metadata": {},
   "outputs": [
    {
     "data": {
      "text/plain": [
       "{'accept': '*/*',\n",
       " 'accept-encoding': 'gzip, deflate, br',\n",
       " 'accept-language': 'zh-CN,zh;q=0.9',\n",
       " 'referer': 'https://space.bilibili.com/6574487/fans/follow',\n",
       " 'sec-fetch-dest': 'script',\n",
       " 'sec-fetch-mode': 'no-cors',\n",
       " 'sec-fetch-site': 'same-site',\n",
       " 'user-agent': 'Mozilla/5.0 (Windows NT 10.0; Win64; x64) AppleWebKit/537.36 (KHTML, like Gecko) Chrome/81.0.4044.138 Safari/537.36'}"
      ]
     },
     "execution_count": 22,
     "metadata": {},
     "output_type": "execute_result"
    }
   ],
   "source": [
    "headers"
   ]
  },
  {
   "cell_type": "code",
   "execution_count": null,
   "metadata": {},
   "outputs": [],
   "source": [
    "seeds = ['6574487']\n",
    "data = follow_tree_spider(seeds, 3)"
   ]
  },
  {
   "cell_type": "code",
   "execution_count": 25,
   "metadata": {},
   "outputs": [
    {
     "data": {
      "text/plain": [
       "8966"
      ]
     },
     "execution_count": 25,
     "metadata": {},
     "output_type": "execute_result"
    }
   ],
   "source": [
    "len(data)"
   ]
  },
  {
   "cell_type": "code",
   "execution_count": 41,
   "metadata": {},
   "outputs": [],
   "source": [
    "data[\"mid\"] = data[\"mid\"].astype(int)\n",
    "data[\"from\"] = data[\"from\"].astype(int)"
   ]
  },
  {
   "cell_type": "code",
   "execution_count": 45,
   "metadata": {},
   "outputs": [
    {
     "data": {
      "text/plain": [
       "5551"
      ]
     },
     "execution_count": 45,
     "metadata": {},
     "output_type": "execute_result"
    }
   ],
   "source": [
    "len(data.mid.unique())"
   ]
  },
  {
   "cell_type": "code",
   "execution_count": 46,
   "metadata": {},
   "outputs": [
    {
     "data": {
      "text/plain": [
       "89"
      ]
     },
     "execution_count": 46,
     "metadata": {},
     "output_type": "execute_result"
    }
   ],
   "source": [
    "len(data[\"from\"].unique())"
   ]
  },
  {
   "cell_type": "code",
   "execution_count": 53,
   "metadata": {},
   "outputs": [],
   "source": [
    "seeds2 = list(set(data[\"mid\"]) - set(data[\"from\"]))[:10]"
   ]
  },
  {
   "cell_type": "code",
   "execution_count": null,
   "metadata": {},
   "outputs": [],
   "source": [
    "data2 = follow_tree_spider(seeds2, 2)"
   ]
  },
  {
   "cell_type": "code",
   "execution_count": 27,
   "metadata": {},
   "outputs": [],
   "source": [
    "data.to_excel(\"../data/follows_deep3_self.xlsx\",index=True)"
   ]
  },
  {
   "cell_type": "code",
   "execution_count": 64,
   "metadata": {},
   "outputs": [],
   "source": [
    "data2.to_csv(\"../data/follows_deep3_self2.csv\",encoding=\"utf_8_sig\")"
   ]
  },
  {
   "cell_type": "code",
   "execution_count": 63,
   "metadata": {},
   "outputs": [
    {
     "data": {
      "text/plain": [
       "62277"
      ]
     },
     "execution_count": 63,
     "metadata": {},
     "output_type": "execute_result"
    }
   ],
   "source": [
    "len(data2)"
   ]
  },
  {
   "cell_type": "code",
   "execution_count": null,
   "metadata": {},
   "outputs": [],
   "source": []
  },
  {
   "cell_type": "code",
   "execution_count": null,
   "metadata": {},
   "outputs": [],
   "source": []
  },
  {
   "cell_type": "code",
   "execution_count": null,
   "metadata": {},
   "outputs": [],
   "source": []
  },
  {
   "cell_type": "code",
   "execution_count": null,
   "metadata": {},
   "outputs": [],
   "source": []
  },
  {
   "cell_type": "code",
   "execution_count": null,
   "metadata": {},
   "outputs": [],
   "source": []
  },
  {
   "cell_type": "code",
   "execution_count": null,
   "metadata": {},
   "outputs": [],
   "source": []
  },
  {
   "cell_type": "code",
   "execution_count": null,
   "metadata": {},
   "outputs": [],
   "source": []
  },
  {
   "cell_type": "code",
   "execution_count": null,
   "metadata": {},
   "outputs": [],
   "source": []
  },
  {
   "cell_type": "code",
   "execution_count": null,
   "metadata": {},
   "outputs": [],
   "source": []
  },
  {
   "cell_type": "code",
   "execution_count": null,
   "metadata": {},
   "outputs": [],
   "source": []
  }
 ],
 "metadata": {
  "kernelspec": {
   "display_name": "Python 3",
   "language": "python",
   "name": "python3"
  },
  "language_info": {
   "codemirror_mode": {
    "name": "ipython",
    "version": 3
   },
   "file_extension": ".py",
   "mimetype": "text/x-python",
   "name": "python",
   "nbconvert_exporter": "python",
   "pygments_lexer": "ipython3",
   "version": "3.6.7"
  }
 },
 "nbformat": 4,
 "nbformat_minor": 4
}
