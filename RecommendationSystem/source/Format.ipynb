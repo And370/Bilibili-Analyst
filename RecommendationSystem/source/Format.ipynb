{
 "cells": [
  {
   "cell_type": "code",
   "execution_count": 1,
   "metadata": {},
   "outputs": [],
   "source": [
    "import time\n",
    "import math\n",
    "import random\n",
    "import itertools as its\n",
    "import numpy as np\n",
    "import pandas as pd\n",
    "import tqdm\n",
    "\n",
    "from collections import Counter"
   ]
  },
  {
   "cell_type": "code",
   "execution_count": null,
   "metadata": {},
   "outputs": [],
   "source": []
  },
  {
   "cell_type": "code",
   "execution_count": 2,
   "metadata": {},
   "outputs": [],
   "source": [
    "dt = pd.read_csv(\"../data/user2up.csv\")\n",
    "dt.rename(columns={\"mid\":\"up\",\"from\":\"user\"},inplace=True)\n",
    "dt.up = dt.up.astype(int)\n",
    "dt_fmt = dt[[\"user\",\"up\"]]"
   ]
  },
  {
   "cell_type": "code",
   "execution_count": 3,
   "metadata": {},
   "outputs": [
    {
     "data": {
      "text/html": [
       "<div>\n",
       "<style scoped>\n",
       "    .dataframe tbody tr th:only-of-type {\n",
       "        vertical-align: middle;\n",
       "    }\n",
       "\n",
       "    .dataframe tbody tr th {\n",
       "        vertical-align: top;\n",
       "    }\n",
       "\n",
       "    .dataframe thead th {\n",
       "        text-align: right;\n",
       "    }\n",
       "</style>\n",
       "<table border=\"1\" class=\"dataframe\">\n",
       "  <thead>\n",
       "    <tr style=\"text-align: right;\">\n",
       "      <th></th>\n",
       "      <th>user</th>\n",
       "      <th>up</th>\n",
       "    </tr>\n",
       "  </thead>\n",
       "  <tbody>\n",
       "    <tr>\n",
       "      <th>0</th>\n",
       "      <td>81922</td>\n",
       "      <td>326499679</td>\n",
       "    </tr>\n",
       "    <tr>\n",
       "      <th>1</th>\n",
       "      <td>81922</td>\n",
       "      <td>316568752</td>\n",
       "    </tr>\n",
       "    <tr>\n",
       "      <th>2</th>\n",
       "      <td>81922</td>\n",
       "      <td>9617619</td>\n",
       "    </tr>\n",
       "    <tr>\n",
       "      <th>3</th>\n",
       "      <td>81922</td>\n",
       "      <td>213741</td>\n",
       "    </tr>\n",
       "    <tr>\n",
       "      <th>4</th>\n",
       "      <td>81922</td>\n",
       "      <td>676498418</td>\n",
       "    </tr>\n",
       "    <tr>\n",
       "      <th>...</th>\n",
       "      <td>...</td>\n",
       "      <td>...</td>\n",
       "    </tr>\n",
       "    <tr>\n",
       "      <th>697970</th>\n",
       "      <td>519570206</td>\n",
       "      <td>456664753</td>\n",
       "    </tr>\n",
       "    <tr>\n",
       "      <th>697971</th>\n",
       "      <td>519570206</td>\n",
       "      <td>14114387</td>\n",
       "    </tr>\n",
       "    <tr>\n",
       "      <th>697972</th>\n",
       "      <td>519570206</td>\n",
       "      <td>504739753</td>\n",
       "    </tr>\n",
       "    <tr>\n",
       "      <th>697973</th>\n",
       "      <td>519570206</td>\n",
       "      <td>414021604</td>\n",
       "    </tr>\n",
       "    <tr>\n",
       "      <th>697974</th>\n",
       "      <td>519570206</td>\n",
       "      <td>239138482</td>\n",
       "    </tr>\n",
       "  </tbody>\n",
       "</table>\n",
       "<p>697975 rows × 2 columns</p>\n",
       "</div>"
      ],
      "text/plain": [
       "             user         up\n",
       "0           81922  326499679\n",
       "1           81922  316568752\n",
       "2           81922    9617619\n",
       "3           81922     213741\n",
       "4           81922  676498418\n",
       "...           ...        ...\n",
       "697970  519570206  456664753\n",
       "697971  519570206   14114387\n",
       "697972  519570206  504739753\n",
       "697973  519570206  414021604\n",
       "697974  519570206  239138482\n",
       "\n",
       "[697975 rows x 2 columns]"
      ]
     },
     "execution_count": 3,
     "metadata": {},
     "output_type": "execute_result"
    }
   ],
   "source": [
    "dt_fmt"
   ]
  },
  {
   "cell_type": "code",
   "execution_count": 4,
   "metadata": {},
   "outputs": [],
   "source": [
    "class UserCF():\n",
    "    def __init__(self,data,K,N,split_n=0.7,ignore_user_n=10,ignore_up_n=10,seed=123):\n",
    "        self.data = data\n",
    "        self.K = K\n",
    "        self.N = N\n",
    "        self.split_n = split_n\n",
    "        self.ignore_user_n = ignore_user_n\n",
    "        self.ignore_up_n = ignore_up_n\n",
    "        self.seed = seed\n",
    "        self.data_format(data)\n",
    "\n",
    "        \n",
    "    def data_format(self,data):\n",
    "        \n",
    "\n",
    "        # 为了保证在切分用户行为数据的时候,训练与测试集均保证一定数量\n",
    "        # 此处过滤掉行为数量过少的UP\n",
    "        up_behavior_count = data.groupby(\"up\").count()\n",
    "        ups = set(up_behavior_count[up_behavior_count.user>=self.ignore_up_n].index)\n",
    "        \n",
    "        user_behavior_count = data.groupby(\"user\").count()\n",
    "        users = set(user_behavior_count[user_behavior_count.up>=self.ignore_user_n].index)\n",
    "        \n",
    "        # 此处过滤掉行为数量过少的User和UP\n",
    "        data = data[(data.up.isin(ups)&(data.user.isin(users)))]\n",
    "        \n",
    "        # 此处根据过滤后的结果重新获取集合\n",
    "        users = set(data.user.unique())\n",
    "        ups = set(data.up.unique())\n",
    "\n",
    "        data = data.sample(frac=1,random_state=self.seed)\n",
    "\n",
    "#         # 全随机切分\n",
    "#         split = int(len(data)*self.split_n)\n",
    "#         train_df = data[:split]\n",
    "#         test_df = data[split:]\n",
    "#         users = train_df.user.unique()\n",
    "#         ups = test_df.up.unique()\n",
    "        \n",
    "        # 基于单用户内的关注行为切分\n",
    "        train_df = pd.DataFrame()\n",
    "        test_df = pd.DataFrame()\n",
    "        for user_tmp in tqdm.tqdm(data.user.unique(),\"切割数据\"):\n",
    "            data_user = data[data.user==user_tmp]\n",
    "            data_user_split = int(len(data_user)*self.split_n)\n",
    "            train_df = train_df.append(data_user[:data_user_split])\n",
    "            test_df = test_df.append(data_user[data_user_split:])\n",
    "        \n",
    "        \n",
    "#         # User对UP主的关注集\n",
    "#         # 切分为训练测试集\n",
    "#         matrix_user2up = train_df.groupby(\"user\").agg(set)\n",
    "#         matrix_user2up[\"train\"] = matrix_user2up[\"up\"].apply(self.sample,args=(self.split_n,self.seed))\n",
    "#         matrix_user2up[[\"train\",\"test\"]] = matrix_user2up[\"train\"].apply(pd.Series)\n",
    "        # User对UP主的关注集\n",
    "        # 切分为训练测试集\n",
    "        matrix_user2up = data.groupby(\"user\").agg(set)\n",
    "        matrix_user2up[\"train\"] = train_df.groupby(\"user\").agg(set)\n",
    "        matrix_user2up[\"test\"] = test_df.groupby(\"user\").agg(set)\n",
    "\n",
    "        \n",
    "        # UP主对User倒排表\n",
    "        matrix_up2user = train_df.groupby(\"up\").agg(set)\n",
    "        matrix_up2user = matrix_up2user.user.to_dict()\n",
    "        \n",
    "        train = matrix_user2up.train.to_dict()\n",
    "        test = matrix_user2up.test.to_dict()\n",
    "        \n",
    "\n",
    "        for user in train:\n",
    "            if train[user] is np.nan:\n",
    "                train[user] = set()\n",
    "        \n",
    "        for user in test:\n",
    "            if test[user] is np.nan:\n",
    "                test[user] = set()\n",
    "        \n",
    "        # 倒排表matrix_up2user降低计算量\n",
    "        matrix_user2user = {}\n",
    "        count = 0\n",
    "        \n",
    "        # 遍历倒排表,对存在关注同一个up主的user进行相似度计算\n",
    "        # TODO 此处考虑使用numpy来做一遍或许更有利于避免重复计算\n",
    "        for up,sub_users in tqdm.tqdm(matrix_up2user.items(),\"用户间相似度\"):\n",
    "            for user_a,user_b in its.combinations(sub_users,2):\n",
    "                # 排序限定为左小右大\n",
    "                user_a,user_b = (user_a,user_b) if user_a < user_b else (user_b,user_a)\n",
    "                # 若无历史结果,则计算\n",
    "                if matrix_user2user.get((user_a,user_b)) == None:\n",
    "                    # TODO,应该支持多类相似度算法\n",
    "                    # 此处为快速实现使用了杰卡德相似度\n",
    "                    matrix_user2user[(user_a,user_b)] = len(train[user_a]&train[user_b])/len(train[user_a]|train[user_b])\n",
    "                count += 1\n",
    "        print(\"倒排表约使计算量减少至原来的%s倍.\"%round(count/(len(users)**2),2))\n",
    "        \n",
    "        self.data = data\n",
    "        self.users = users\n",
    "        self.ups = ups\n",
    "        self.matrix_user2up = matrix_user2up\n",
    "        self.matrix_up2user = matrix_up2user\n",
    "        self.matrix_user2user = matrix_user2user\n",
    "        self.train = train\n",
    "        self.test = test\n",
    "        \n",
    "#     def sample(self,up_set,train_k,seed):\n",
    "#         random.seed(seed)\n",
    "#         train = set(random.sample(up_set,int(len(up_set)*train_k)))\n",
    "#         test = up_set - train\n",
    "#         return train,test\n",
    "    \n",
    "    def GetRecommendation(self,user):\n",
    "        user2user = {}\n",
    "        \n",
    "        # 计算目标user与其他user的相似度\n",
    "        for user_other in self.users:\n",
    "            if user_other == user:\n",
    "                continue\n",
    "            # 标准化key\n",
    "            user_a,user_b = (user,user_other) if user < user_other else (user_other,user)\n",
    "            user2user[user_other] = self.matrix_user2user.get((user_a,user_b),0)\n",
    "        \n",
    "        # TODO 此处的推荐过程可以增加缓存,这样子在仅变动K,N的时候,不用重复计算topK_user和topN_up\n",
    "        # 根据user2user的value相似度降序排后取前K位\n",
    "        topK_user = sorted(user2user.items(),key=lambda x: x[1],reverse=True)[:self.K]\n",
    "        topK_user_ups_list = []\n",
    "        \n",
    "        # 取topK_user的关注列表\n",
    "        for user_other,score in topK_user:\n",
    "            topK_user_ups_list += self.train[user_other]\n",
    "        # 注意去掉当前已推荐的\n",
    "        counter = Counter(topK_user_ups_list)\n",
    "        counter = {up:n for up,n in counter.items() if up not in self.train[user]}\n",
    "        topN_up = sorted(counter.items(),key=lambda x: x[1],reverse=True)[:self.N]\n",
    "        return set(topN_up)"
   ]
  },
  {
   "cell_type": "code",
   "execution_count": 5,
   "metadata": {},
   "outputs": [],
   "source": [
    "class EvaluationMetrics():\n",
    "    def __init__(self,train,test,get_rec):\n",
    "        \"\"\"\n",
    "        :param train: {123:{1,2,3,4,5}}\n",
    "        :param test: {123:{1,2,3,4,5}}\n",
    "        :param get_rec: recs = get_rec(user)\n",
    "        \"\"\"\n",
    "        self.train = train\n",
    "        self.test = test\n",
    "        self.get_rec = get_rec\n",
    "        self.recs = self.get_rec_all_user()\n",
    "        self.hit = self._hit()\n",
    "    \n",
    "    # 获得所有test用户的推荐结果\n",
    "    def get_rec_all_user(self):\n",
    "        # recs = {1:{(64554310,9),(123142,8)}}\n",
    "        recs = {}\n",
    "        for user in tqdm.tqdm(self.train,\"推荐中\"):\n",
    "            recs[user] = self.get_rec(user)\n",
    "        return recs\n",
    "    \n",
    "    # 分子/命中\n",
    "    def _hit(self):\n",
    "        hit = 0\n",
    "        for user in self.test:\n",
    "            sub_test = self.test[user]\n",
    "            rec = {item for item,score in self.recs[user]}\n",
    "            hit += len(sub_test&rec)\n",
    "        return hit\n",
    "    \n",
    "    # 精确率\n",
    "    def precision(self):\n",
    "        count = 0\n",
    "        for user in self.test:\n",
    "            count += len(self.recs[user])\n",
    "        return round(self.hit / count * 100,2)\n",
    "    \n",
    "    # 召回率\n",
    "    def recall(self):\n",
    "        count = 0\n",
    "        for user in self.test:\n",
    "            count += len(self.test[user])\n",
    "        return round(self.hit / count * 100,2)\n",
    "    \n",
    "    # 覆盖率\n",
    "    def coverage(self):\n",
    "        all_items = set()\n",
    "        rec_items = set()\n",
    "        for user,items in self.train.items():\n",
    "            all_items = all_items|items\n",
    "        # TODO 这边考虑直接以模型的data.ups.unique()去处理避免重复计算\n",
    "        for user,items in self.recs.items():\n",
    "            rec_items = rec_items|set([item for item,score in items])\n",
    "        return round(len(rec_items) / len(all_items) * 100,2)\n",
    "    \n",
    "    # 新颖度\n",
    "    def popularity(self):\n",
    "        # 计算物品的流行度\n",
    "        item_pop = {}\n",
    "        for user in self.train:\n",
    "            for item in self.train[user]:\n",
    "                if item not in item_pop:\n",
    "                    item_pop[item] = 0\n",
    "                item_pop[item] += 1\n",
    "\n",
    "        num, pop = 0, 0\n",
    "        for user in self.test:\n",
    "            rank = self.recs[user]\n",
    "            for item, score in rank:\n",
    "                # 取对数\n",
    "                pop += math.log(1 + item_pop[item])\n",
    "                num += 1\n",
    "        return round(pop / num, 6)\n",
    "    \n",
    "    def evaluate(self):\n",
    "        evaluation_metrics = {'precision': self.precision(),\n",
    "                              'recall': self.recall(),\n",
    "                              'coverage': self.coverage(),\n",
    "                              'popularity': self.popularity()}\n",
    "        print('EvaluationMetrics:', evaluation_metrics)\n",
    "        return evaluation_metrics"
   ]
  },
  {
   "cell_type": "code",
   "execution_count": 6,
   "metadata": {},
   "outputs": [],
   "source": [
    "class Experiment():\n",
    "    def __init__(self,model,T):\n",
    "        self.model = model\n",
    "        self.T = T\n",
    "    \n",
    "    def validate(self):\n",
    "        resulst = EvaluationMetrics(self.model.train,self.model.test,self.model.GetRecommendation)\n",
    "        return resulst.evaluate()"
   ]
  },
  {
   "cell_type": "code",
   "execution_count": null,
   "metadata": {},
   "outputs": [],
   "source": []
  },
  {
   "cell_type": "code",
   "execution_count": 7,
   "metadata": {},
   "outputs": [],
   "source": [
    "results = pd.DataFrame(columns=[\"model\",\"split_n\",\"K\",\"N\",\n",
    "                                \"ignore_user_n\",\"ignore_up_n\",\"seed\",\n",
    "                                \"precision\",\"recall\",\"coverage\",\"popularity\"])"
   ]
  },
  {
   "cell_type": "code",
   "execution_count": null,
   "metadata": {
    "scrolled": false
   },
   "outputs": [
    {
     "name": "stderr",
     "output_type": "stream",
     "text": [
      "切割数据: 100%|███████████████████████████████████████████████████████████████████| 7181/7181 [00:11<00:00, 628.67it/s]\n",
      "用户间相似度: 100%|██████████████████████████████████████████████████████████████████| 619/619 [00:21<00:00, 29.45it/s]\n"
     ]
    },
    {
     "name": "stdout",
     "output_type": "stream",
     "text": [
      "倒排表约使计算量减少至原来的0.23倍.\n",
      "10 20\n"
     ]
    },
    {
     "name": "stderr",
     "output_type": "stream",
     "text": [
      "推荐中: 100%|█████████████████████████████████████████████████████████████████████| 7181/7181 [01:03<00:00, 112.97it/s]\n"
     ]
    },
    {
     "name": "stdout",
     "output_type": "stream",
     "text": [
      "EvaluationMetrics: {'precision': 5.2, 'recall': 16.18, 'coverage': 100.0, 'popularity': 5.321696}\n",
      "10 50\n"
     ]
    },
    {
     "name": "stderr",
     "output_type": "stream",
     "text": [
      "推荐中: 100%|█████████████████████████████████████████████████████████████████████| 7181/7181 [01:03<00:00, 113.08it/s]\n"
     ]
    },
    {
     "name": "stdout",
     "output_type": "stream",
     "text": [
      "EvaluationMetrics: {'precision': 3.91, 'recall': 26.27, 'coverage': 100.0, 'popularity': 5.202345}\n",
      "10 90\n"
     ]
    },
    {
     "name": "stderr",
     "output_type": "stream",
     "text": [
      "推荐中: 100%|█████████████████████████████████████████████████████████████████████| 7181/7181 [01:03<00:00, 112.29it/s]\n"
     ]
    },
    {
     "name": "stdout",
     "output_type": "stream",
     "text": [
      "EvaluationMetrics: {'precision': 3.6, 'recall': 33.19, 'coverage': 100.0, 'popularity': 5.160752}\n",
      "30 20\n"
     ]
    },
    {
     "name": "stderr",
     "output_type": "stream",
     "text": [
      "推荐中: 100%|█████████████████████████████████████████████████████████████████████| 7181/7181 [01:04<00:00, 110.87it/s]\n"
     ]
    },
    {
     "name": "stdout",
     "output_type": "stream",
     "text": [
      "EvaluationMetrics: {'precision': 6.54, 'recall': 21.34, 'coverage': 100.0, 'popularity': 5.606035}\n",
      "30 50\n"
     ]
    },
    {
     "name": "stderr",
     "output_type": "stream",
     "text": [
      "推荐中: 100%|█████████████████████████████████████████████████████████████████████| 7181/7181 [01:04<00:00, 111.53it/s]\n"
     ]
    },
    {
     "name": "stdout",
     "output_type": "stream",
     "text": [
      "EvaluationMetrics: {'precision': 4.19, 'recall': 33.81, 'coverage': 100.0, 'popularity': 5.342099}\n",
      "30 90\n"
     ]
    },
    {
     "name": "stderr",
     "output_type": "stream",
     "text": [
      "推荐中: 100%|█████████████████████████████████████████████████████████████████████| 7181/7181 [01:04<00:00, 110.97it/s]\n"
     ]
    },
    {
     "name": "stdout",
     "output_type": "stream",
     "text": [
      "EvaluationMetrics: {'precision': 3.13, 'recall': 43.79, 'coverage': 100.0, 'popularity': 5.200717}\n",
      "50 20\n"
     ]
    },
    {
     "name": "stderr",
     "output_type": "stream",
     "text": [
      "推荐中: 100%|█████████████████████████████████████████████████████████████████████| 7181/7181 [01:05<00:00, 110.24it/s]\n"
     ]
    },
    {
     "name": "stdout",
     "output_type": "stream",
     "text": [
      "EvaluationMetrics: {'precision': 6.99, 'recall': 22.94, 'coverage': 100.0, 'popularity': 5.757553}\n",
      "50 50\n"
     ]
    },
    {
     "name": "stderr",
     "output_type": "stream",
     "text": [
      "推荐中: 100%|█████████████████████████████████████████████████████████████████████| 7181/7181 [01:05<00:00, 110.37it/s]\n"
     ]
    },
    {
     "name": "stdout",
     "output_type": "stream",
     "text": [
      "EvaluationMetrics: {'precision': 4.45, 'recall': 36.34, 'coverage': 100.0, 'popularity': 5.450194}\n",
      "50 90\n"
     ]
    },
    {
     "name": "stderr",
     "output_type": "stream",
     "text": [
      "推荐中: 100%|█████████████████████████████████████████████████████████████████████| 7181/7181 [01:05<00:00, 110.43it/s]\n"
     ]
    },
    {
     "name": "stdout",
     "output_type": "stream",
     "text": [
      "EvaluationMetrics: {'precision': 3.23, 'recall': 47.08, 'coverage': 100.0, 'popularity': 5.268831}\n",
      "80 20\n"
     ]
    },
    {
     "name": "stderr",
     "output_type": "stream",
     "text": [
      "推荐中: 100%|█████████████████████████████████████████████████████████████████████| 7181/7181 [01:05<00:00, 108.81it/s]\n"
     ]
    },
    {
     "name": "stdout",
     "output_type": "stream",
     "text": [
      "EvaluationMetrics: {'precision': 7.31, 'recall': 23.99, 'coverage': 99.52, 'popularity': 5.89173}\n",
      "80 50\n"
     ]
    },
    {
     "name": "stderr",
     "output_type": "stream",
     "text": [
      "推荐中: 100%|█████████████████████████████████████████████████████████████████████| 7181/7181 [01:05<00:00, 109.17it/s]\n"
     ]
    },
    {
     "name": "stdout",
     "output_type": "stream",
     "text": [
      "EvaluationMetrics: {'precision': 4.64, 'recall': 38.03, 'coverage': 100.0, 'popularity': 5.55008}\n",
      "80 90\n"
     ]
    },
    {
     "name": "stderr",
     "output_type": "stream",
     "text": [
      "推荐中: 100%|█████████████████████████████████████████████████████████████████████| 7181/7181 [01:05<00:00, 109.04it/s]\n"
     ]
    },
    {
     "name": "stdout",
     "output_type": "stream",
     "text": [
      "EvaluationMetrics: {'precision': 3.35, 'recall': 49.32, 'coverage': 100.0, 'popularity': 5.347746}\n",
      "120 20\n"
     ]
    },
    {
     "name": "stderr",
     "output_type": "stream",
     "text": [
      "推荐中: 100%|█████████████████████████████████████████████████████████████████████| 7181/7181 [01:06<00:00, 107.47it/s]\n"
     ]
    },
    {
     "name": "stdout",
     "output_type": "stream",
     "text": [
      "EvaluationMetrics: {'precision': 7.42, 'recall': 24.34, 'coverage': 94.99, 'popularity': 5.988554}\n",
      "120 50\n"
     ]
    },
    {
     "name": "stderr",
     "output_type": "stream",
     "text": [
      "推荐中: 100%|█████████████████████████████████████████████████████████████████████| 7181/7181 [01:06<00:00, 107.32it/s]\n"
     ]
    },
    {
     "name": "stdout",
     "output_type": "stream",
     "text": [
      "EvaluationMetrics: {'precision': 4.75, 'recall': 38.93, 'coverage': 100.0, 'popularity': 5.636679}\n",
      "120 90\n"
     ]
    },
    {
     "name": "stderr",
     "output_type": "stream",
     "text": [
      "推荐中: 100%|█████████████████████████████████████████████████████████████████████| 7181/7181 [01:07<00:00, 106.25it/s]\n",
      "切割数据:   0%|                                                                               | 0/7181 [00:00<?, ?it/s]"
     ]
    },
    {
     "name": "stdout",
     "output_type": "stream",
     "text": [
      "EvaluationMetrics: {'precision': 3.43, 'recall': 50.67, 'coverage': 100.0, 'popularity': 5.417102}\n"
     ]
    },
    {
     "name": "stderr",
     "output_type": "stream",
     "text": [
      "切割数据: 100%|███████████████████████████████████████████████████████████████████| 7181/7181 [00:10<00:00, 658.27it/s]\n",
      "用户间相似度: 100%|██████████████████████████████████████████████████████████████████| 619/619 [00:20<00:00, 29.75it/s]\n"
     ]
    },
    {
     "name": "stdout",
     "output_type": "stream",
     "text": [
      "倒排表约使计算量减少至原来的0.23倍.\n",
      "10 20\n"
     ]
    },
    {
     "name": "stderr",
     "output_type": "stream",
     "text": [
      "推荐中: 100%|█████████████████████████████████████████████████████████████████████| 7181/7181 [01:05<00:00, 109.07it/s]\n"
     ]
    },
    {
     "name": "stdout",
     "output_type": "stream",
     "text": [
      "EvaluationMetrics: {'precision': 5.22, 'recall': 16.19, 'coverage': 100.0, 'popularity': 5.324012}\n",
      "10 50\n"
     ]
    },
    {
     "name": "stderr",
     "output_type": "stream",
     "text": [
      "推荐中: 100%|█████████████████████████████████████████████████████████████████████| 7181/7181 [01:04<00:00, 111.87it/s]\n"
     ]
    },
    {
     "name": "stdout",
     "output_type": "stream",
     "text": [
      "EvaluationMetrics: {'precision': 3.96, 'recall': 26.5, 'coverage': 100.0, 'popularity': 5.204009}\n",
      "10 90\n"
     ]
    },
    {
     "name": "stderr",
     "output_type": "stream",
     "text": [
      "推荐中: 100%|█████████████████████████████████████████████████████████████████████| 7181/7181 [01:04<00:00, 112.16it/s]\n"
     ]
    },
    {
     "name": "stdout",
     "output_type": "stream",
     "text": [
      "EvaluationMetrics: {'precision': 3.63, 'recall': 33.27, 'coverage': 100.0, 'popularity': 5.163315}\n",
      "30 20\n"
     ]
    },
    {
     "name": "stderr",
     "output_type": "stream",
     "text": [
      "推荐中: 100%|█████████████████████████████████████████████████████████████████████| 7181/7181 [01:04<00:00, 110.61it/s]\n"
     ]
    },
    {
     "name": "stdout",
     "output_type": "stream",
     "text": [
      "EvaluationMetrics: {'precision': 6.42, 'recall': 21.01, 'coverage': 100.0, 'popularity': 5.615513}\n",
      "30 50\n"
     ]
    },
    {
     "name": "stderr",
     "output_type": "stream",
     "text": [
      "推荐中: 100%|█████████████████████████████████████████████████████████████████████| 7181/7181 [01:04<00:00, 110.91it/s]\n"
     ]
    },
    {
     "name": "stdout",
     "output_type": "stream",
     "text": [
      "EvaluationMetrics: {'precision': 4.17, 'recall': 33.63, 'coverage': 100.0, 'popularity': 5.349202}\n",
      "30 90\n"
     ]
    },
    {
     "name": "stderr",
     "output_type": "stream",
     "text": [
      "推荐中: 100%|█████████████████████████████████████████████████████████████████████| 7181/7181 [01:04<00:00, 110.71it/s]\n"
     ]
    },
    {
     "name": "stdout",
     "output_type": "stream",
     "text": [
      "EvaluationMetrics: {'precision': 3.12, 'recall': 43.72, 'coverage': 100.0, 'popularity': 5.203485}\n",
      "50 20\n"
     ]
    },
    {
     "name": "stderr",
     "output_type": "stream",
     "text": [
      "推荐中: 100%|█████████████████████████████████████████████████████████████████████| 7181/7181 [01:05<00:00, 109.44it/s]\n"
     ]
    },
    {
     "name": "stdout",
     "output_type": "stream",
     "text": [
      "EvaluationMetrics: {'precision': 6.95, 'recall': 22.8, 'coverage': 100.0, 'popularity': 5.770193}\n",
      "50 50\n"
     ]
    },
    {
     "name": "stderr",
     "output_type": "stream",
     "text": [
      "推荐中: 100%|█████████████████████████████████████████████████████████████████████| 7181/7181 [01:05<00:00, 109.79it/s]\n"
     ]
    },
    {
     "name": "stdout",
     "output_type": "stream",
     "text": [
      "EvaluationMetrics: {'precision': 4.43, 'recall': 36.12, 'coverage': 100.0, 'popularity': 5.45458}\n",
      "50 90\n"
     ]
    },
    {
     "name": "stderr",
     "output_type": "stream",
     "text": [
      "推荐中: 100%|█████████████████████████████████████████████████████████████████████| 7181/7181 [01:05<00:00, 109.47it/s]\n"
     ]
    },
    {
     "name": "stdout",
     "output_type": "stream",
     "text": [
      "EvaluationMetrics: {'precision': 3.22, 'recall': 46.83, 'coverage': 100.0, 'popularity': 5.272798}\n",
      "80 20\n"
     ]
    },
    {
     "name": "stderr",
     "output_type": "stream",
     "text": [
      "推荐中: 100%|█████████████████████████████████████████████████████████████████████| 7181/7181 [01:06<00:00, 108.17it/s]\n"
     ]
    },
    {
     "name": "stdout",
     "output_type": "stream",
     "text": [
      "EvaluationMetrics: {'precision': 7.2, 'recall': 23.61, 'coverage': 99.35, 'popularity': 5.896719}\n",
      "80 50\n"
     ]
    },
    {
     "name": "stderr",
     "output_type": "stream",
     "text": [
      "推荐中: 100%|█████████████████████████████████████████████████████████████████████| 7181/7181 [01:06<00:00, 107.62it/s]\n"
     ]
    },
    {
     "name": "stdout",
     "output_type": "stream",
     "text": [
      "EvaluationMetrics: {'precision': 4.61, 'recall': 37.81, 'coverage': 100.0, 'popularity': 5.554266}\n",
      "80 90\n"
     ]
    },
    {
     "name": "stderr",
     "output_type": "stream",
     "text": [
      "推荐中: 100%|█████████████████████████████████████████████████████████████████████| 7181/7181 [01:06<00:00, 108.21it/s]\n"
     ]
    },
    {
     "name": "stdout",
     "output_type": "stream",
     "text": [
      "EvaluationMetrics: {'precision': 3.35, 'recall': 49.25, 'coverage': 100.0, 'popularity': 5.351035}\n",
      "120 20\n"
     ]
    },
    {
     "name": "stderr",
     "output_type": "stream",
     "text": [
      "推荐中: 100%|█████████████████████████████████████████████████████████████████████| 7181/7181 [01:07<00:00, 106.95it/s]\n"
     ]
    },
    {
     "name": "stdout",
     "output_type": "stream",
     "text": [
      "EvaluationMetrics: {'precision': 7.34, 'recall': 24.07, 'coverage': 94.83, 'popularity': 5.992281}\n",
      "120 50\n"
     ]
    },
    {
     "name": "stderr",
     "output_type": "stream",
     "text": [
      "推荐中: 100%|█████████████████████████████████████████████████████████████████████| 7181/7181 [01:07<00:00, 106.91it/s]\n"
     ]
    },
    {
     "name": "stdout",
     "output_type": "stream",
     "text": [
      "EvaluationMetrics: {'precision': 4.71, 'recall': 38.67, 'coverage': 100.0, 'popularity': 5.639698}\n",
      "120 90\n"
     ]
    },
    {
     "name": "stderr",
     "output_type": "stream",
     "text": [
      "推荐中: 100%|█████████████████████████████████████████████████████████████████████| 7181/7181 [01:07<00:00, 106.75it/s]\n",
      "切割数据:   0%|                                                                               | 0/7181 [00:00<?, ?it/s]"
     ]
    },
    {
     "name": "stdout",
     "output_type": "stream",
     "text": [
      "EvaluationMetrics: {'precision': 3.43, 'recall': 50.58, 'coverage': 100.0, 'popularity': 5.418548}\n"
     ]
    },
    {
     "name": "stderr",
     "output_type": "stream",
     "text": [
      "切割数据: 100%|███████████████████████████████████████████████████████████████████| 7181/7181 [00:11<00:00, 643.16it/s]\n",
      "用户间相似度: 100%|██████████████████████████████████████████████████████████████████| 619/619 [00:21<00:00, 29.17it/s]\n"
     ]
    },
    {
     "name": "stdout",
     "output_type": "stream",
     "text": [
      "倒排表约使计算量减少至原来的0.23倍.\n",
      "10 20\n"
     ]
    },
    {
     "name": "stderr",
     "output_type": "stream",
     "text": [
      "推荐中: 100%|█████████████████████████████████████████████████████████████████████| 7181/7181 [01:04<00:00, 111.63it/s]\n"
     ]
    },
    {
     "name": "stdout",
     "output_type": "stream",
     "text": [
      "EvaluationMetrics: {'precision': 5.23, 'recall': 16.28, 'coverage': 100.0, 'popularity': 5.325753}\n",
      "10 50\n"
     ]
    },
    {
     "name": "stderr",
     "output_type": "stream",
     "text": [
      "推荐中: 100%|█████████████████████████████████████████████████████████████████████| 7181/7181 [01:04<00:00, 112.17it/s]\n"
     ]
    },
    {
     "name": "stdout",
     "output_type": "stream",
     "text": [
      "EvaluationMetrics: {'precision': 3.99, 'recall': 26.78, 'coverage': 100.0, 'popularity': 5.204309}\n",
      "10 90\n"
     ]
    },
    {
     "name": "stderr",
     "output_type": "stream",
     "text": [
      "推荐中: 100%|█████████████████████████████████████████████████████████████████████| 7181/7181 [01:03<00:00, 112.58it/s]\n"
     ]
    },
    {
     "name": "stdout",
     "output_type": "stream",
     "text": [
      "EvaluationMetrics: {'precision': 3.67, 'recall': 33.81, 'coverage': 100.0, 'popularity': 5.162048}\n",
      "30 20\n"
     ]
    },
    {
     "name": "stderr",
     "output_type": "stream",
     "text": [
      "推荐中: 100%|█████████████████████████████████████████████████████████████████████| 7181/7181 [01:04<00:00, 110.77it/s]\n"
     ]
    },
    {
     "name": "stdout",
     "output_type": "stream",
     "text": [
      "EvaluationMetrics: {'precision': 6.61, 'recall': 21.58, 'coverage': 100.0, 'popularity': 5.607769}\n",
      "30 50\n"
     ]
    },
    {
     "name": "stderr",
     "output_type": "stream",
     "text": [
      "推荐中: 100%|█████████████████████████████████████████████████████████████████████| 7181/7181 [01:04<00:00, 110.90it/s]\n"
     ]
    },
    {
     "name": "stdout",
     "output_type": "stream",
     "text": [
      "EvaluationMetrics: {'precision': 4.19, 'recall': 33.71, 'coverage': 100.0, 'popularity': 5.346887}\n",
      "30 90\n"
     ]
    },
    {
     "name": "stderr",
     "output_type": "stream",
     "text": [
      "推荐中: 100%|█████████████████████████████████████████████████████████████████████| 7181/7181 [01:04<00:00, 111.19it/s]\n"
     ]
    },
    {
     "name": "stdout",
     "output_type": "stream",
     "text": [
      "EvaluationMetrics: {'precision': 3.12, 'recall': 43.69, 'coverage': 100.0, 'popularity': 5.202744}\n",
      "50 20\n"
     ]
    },
    {
     "name": "stderr",
     "output_type": "stream",
     "text": [
      "推荐中: 100%|█████████████████████████████████████████████████████████████████████| 7181/7181 [01:05<00:00, 110.09it/s]\n"
     ]
    },
    {
     "name": "stdout",
     "output_type": "stream",
     "text": [
      "EvaluationMetrics: {'precision': 7.01, 'recall': 23.0, 'coverage': 100.0, 'popularity': 5.759186}\n",
      "50 50\n"
     ]
    },
    {
     "name": "stderr",
     "output_type": "stream",
     "text": [
      "推荐中: 100%|█████████████████████████████████████████████████████████████████████| 7181/7181 [01:05<00:00, 110.22it/s]\n"
     ]
    },
    {
     "name": "stdout",
     "output_type": "stream",
     "text": [
      "EvaluationMetrics: {'precision': 4.45, 'recall': 36.3, 'coverage': 100.0, 'popularity': 5.450915}\n",
      "50 90\n"
     ]
    },
    {
     "name": "stderr",
     "output_type": "stream",
     "text": [
      "推荐中: 100%|█████████████████████████████████████████████████████████████████████| 7181/7181 [01:05<00:00, 109.79it/s]\n"
     ]
    },
    {
     "name": "stdout",
     "output_type": "stream",
     "text": [
      "EvaluationMetrics: {'precision': 3.24, 'recall': 47.15, 'coverage': 100.0, 'popularity': 5.271633}\n",
      "80 20\n"
     ]
    },
    {
     "name": "stderr",
     "output_type": "stream",
     "text": [
      "推荐中: 100%|█████████████████████████████████████████████████████████████████████| 7181/7181 [01:06<00:00, 108.29it/s]\n"
     ]
    },
    {
     "name": "stdout",
     "output_type": "stream",
     "text": [
      "EvaluationMetrics: {'precision': 7.27, 'recall': 23.85, 'coverage': 98.87, 'popularity': 5.888212}\n",
      "80 50\n"
     ]
    },
    {
     "name": "stderr",
     "output_type": "stream",
     "text": [
      "推荐中: 100%|█████████████████████████████████████████████████████████████████████| 7181/7181 [01:06<00:00, 108.40it/s]\n"
     ]
    },
    {
     "name": "stdout",
     "output_type": "stream",
     "text": [
      "EvaluationMetrics: {'precision': 4.62, 'recall': 37.85, 'coverage': 100.0, 'popularity': 5.551118}\n",
      "80 90\n"
     ]
    },
    {
     "name": "stderr",
     "output_type": "stream",
     "text": [
      "推荐中: 100%|█████████████████████████████████████████████████████████████████████| 7181/7181 [01:06<00:00, 108.52it/s]\n"
     ]
    },
    {
     "name": "stdout",
     "output_type": "stream",
     "text": [
      "EvaluationMetrics: {'precision': 3.35, 'recall': 49.35, 'coverage': 100.0, 'popularity': 5.348885}\n",
      "120 20\n"
     ]
    },
    {
     "name": "stderr",
     "output_type": "stream",
     "text": [
      "推荐中: 100%|█████████████████████████████████████████████████████████████████████| 7181/7181 [01:06<00:00, 107.40it/s]\n"
     ]
    },
    {
     "name": "stdout",
     "output_type": "stream",
     "text": [
      "EvaluationMetrics: {'precision': 7.35, 'recall': 24.11, 'coverage': 95.15, 'popularity': 5.984898}\n",
      "120 50\n"
     ]
    },
    {
     "name": "stderr",
     "output_type": "stream",
     "text": [
      "推荐中: 100%|█████████████████████████████████████████████████████████████████████| 7181/7181 [01:06<00:00, 107.31it/s]\n"
     ]
    },
    {
     "name": "stdout",
     "output_type": "stream",
     "text": [
      "EvaluationMetrics: {'precision': 4.74, 'recall': 38.86, 'coverage': 100.0, 'popularity': 5.634759}\n",
      "120 90\n"
     ]
    },
    {
     "name": "stderr",
     "output_type": "stream",
     "text": [
      "推荐中: 100%|█████████████████████████████████████████████████████████████████████| 7181/7181 [01:07<00:00, 106.33it/s]\n",
      "切割数据:   0%|                                                                               | 0/7218 [00:00<?, ?it/s]"
     ]
    },
    {
     "name": "stdout",
     "output_type": "stream",
     "text": [
      "EvaluationMetrics: {'precision': 3.45, 'recall': 50.86, 'coverage': 100.0, 'popularity': 5.418825}\n"
     ]
    },
    {
     "name": "stderr",
     "output_type": "stream",
     "text": [
      "切割数据: 100%|███████████████████████████████████████████████████████████████████| 7218/7218 [00:11<00:00, 626.28it/s]\n",
      "用户间相似度: 100%|████████████████████████████████████████████████████████████████| 1069/1069 [00:24<00:00, 44.18it/s]\n"
     ]
    },
    {
     "name": "stdout",
     "output_type": "stream",
     "text": [
      "倒排表约使计算量减少至原来的0.24倍.\n",
      "10 20\n"
     ]
    },
    {
     "name": "stderr",
     "output_type": "stream",
     "text": [
      "推荐中: 100%|█████████████████████████████████████████████████████████████████████| 7218/7218 [01:05<00:00, 110.07it/s]\n"
     ]
    },
    {
     "name": "stdout",
     "output_type": "stream",
     "text": [
      "EvaluationMetrics: {'precision': 5.32, 'recall': 13.75, 'coverage': 100.0, 'popularity': 5.15759}\n",
      "10 50\n"
     ]
    },
    {
     "name": "stderr",
     "output_type": "stream",
     "text": [
      "推荐中: 100%|█████████████████████████████████████████████████████████████████████| 7218/7218 [01:05<00:00, 110.76it/s]\n"
     ]
    },
    {
     "name": "stdout",
     "output_type": "stream",
     "text": [
      "EvaluationMetrics: {'precision': 3.73, 'recall': 22.31, 'coverage': 100.0, 'popularity': 4.991242}\n",
      "10 90\n"
     ]
    },
    {
     "name": "stderr",
     "output_type": "stream",
     "text": [
      "推荐中: 100%|█████████████████████████████████████████████████████████████████████| 7218/7218 [01:05<00:00, 110.52it/s]\n"
     ]
    },
    {
     "name": "stdout",
     "output_type": "stream",
     "text": [
      "EvaluationMetrics: {'precision': 3.22, 'recall': 29.45, 'coverage': 100.0, 'popularity': 4.928408}\n",
      "30 20\n"
     ]
    },
    {
     "name": "stderr",
     "output_type": "stream",
     "text": [
      "推荐中: 100%|█████████████████████████████████████████████████████████████████████| 7218/7218 [01:06<00:00, 108.43it/s]\n"
     ]
    },
    {
     "name": "stdout",
     "output_type": "stream",
     "text": [
      "EvaluationMetrics: {'precision': 6.84, 'recall': 18.12, 'coverage': 100.0, 'popularity': 5.539196}\n",
      "30 50\n"
     ]
    },
    {
     "name": "stderr",
     "output_type": "stream",
     "text": [
      "推荐中: 100%|█████████████████████████████████████████████████████████████████████| 7218/7218 [01:06<00:00, 108.97it/s]\n"
     ]
    },
    {
     "name": "stdout",
     "output_type": "stream",
     "text": [
      "EvaluationMetrics: {'precision': 4.38, 'recall': 28.73, 'coverage': 100.0, 'popularity': 5.221793}\n",
      "30 90\n"
     ]
    },
    {
     "name": "stderr",
     "output_type": "stream",
     "text": [
      "推荐中: 100%|█████████████████████████████████████████████████████████████████████| 7218/7218 [01:06<00:00, 108.99it/s]\n"
     ]
    },
    {
     "name": "stdout",
     "output_type": "stream",
     "text": [
      "EvaluationMetrics: {'precision': 3.19, 'recall': 37.16, 'coverage': 100.0, 'popularity': 5.043253}\n",
      "50 20\n"
     ]
    },
    {
     "name": "stderr",
     "output_type": "stream",
     "text": [
      "推荐中: 100%|█████████████████████████████████████████████████████████████████████| 7218/7218 [01:07<00:00, 107.37it/s]\n"
     ]
    },
    {
     "name": "stdout",
     "output_type": "stream",
     "text": [
      "EvaluationMetrics: {'precision': 7.32, 'recall': 19.42, 'coverage': 99.16, 'popularity': 5.712333}\n",
      "50 50\n"
     ]
    },
    {
     "name": "stderr",
     "output_type": "stream",
     "text": [
      "推荐中: 100%|█████████████████████████████████████████████████████████████████████| 7218/7218 [01:07<00:00, 107.60it/s]\n"
     ]
    },
    {
     "name": "stdout",
     "output_type": "stream",
     "text": [
      "EvaluationMetrics: {'precision': 4.65, 'recall': 30.78, 'coverage': 100.0, 'popularity': 5.36394}\n",
      "50 90\n"
     ]
    },
    {
     "name": "stderr",
     "output_type": "stream",
     "text": [
      "推荐中: 100%|█████████████████████████████████████████████████████████████████████| 7218/7218 [01:07<00:00, 107.69it/s]\n"
     ]
    },
    {
     "name": "stdout",
     "output_type": "stream",
     "text": [
      "EvaluationMetrics: {'precision': 3.38, 'recall': 40.02, 'coverage': 100.0, 'popularity': 5.154792}\n",
      "80 20\n"
     ]
    },
    {
     "name": "stderr",
     "output_type": "stream",
     "text": [
      "推荐中: 100%|█████████████████████████████████████████████████████████████████████| 7218/7218 [01:08<00:00, 105.60it/s]\n"
     ]
    },
    {
     "name": "stdout",
     "output_type": "stream",
     "text": [
      "EvaluationMetrics: {'precision': 7.53, 'recall': 19.98, 'coverage': 93.36, 'popularity': 5.86286}\n",
      "80 50\n"
     ]
    },
    {
     "name": "stderr",
     "output_type": "stream",
     "text": [
      "推荐中: 100%|█████████████████████████████████████████████████████████████████████| 7218/7218 [01:07<00:00, 106.17it/s]\n"
     ]
    },
    {
     "name": "stdout",
     "output_type": "stream",
     "text": [
      "EvaluationMetrics: {'precision': 4.84, 'recall': 32.11, 'coverage': 100.0, 'popularity': 5.494419}\n",
      "80 90\n"
     ]
    },
    {
     "name": "stderr",
     "output_type": "stream",
     "text": [
      "推荐中: 100%|█████████████████████████████████████████████████████████████████████| 7218/7218 [01:08<00:00, 106.01it/s]\n"
     ]
    },
    {
     "name": "stdout",
     "output_type": "stream",
     "text": [
      "EvaluationMetrics: {'precision': 3.5, 'recall': 41.83, 'coverage': 100.0, 'popularity': 5.263771}\n",
      "120 20\n"
     ]
    },
    {
     "name": "stderr",
     "output_type": "stream",
     "text": [
      "推荐中: 100%|█████████████████████████████████████████████████████████████████████| 7218/7218 [01:09<00:00, 104.20it/s]\n"
     ]
    },
    {
     "name": "stdout",
     "output_type": "stream",
     "text": [
      "EvaluationMetrics: {'precision': 7.54, 'recall': 20.01, 'coverage': 80.73, 'popularity': 5.974776}\n",
      "120 50\n"
     ]
    },
    {
     "name": "stderr",
     "output_type": "stream",
     "text": [
      "推荐中: 100%|█████████████████████████████████████████████████████████████████████| 7218/7218 [01:09<00:00, 103.83it/s]\n"
     ]
    },
    {
     "name": "stdout",
     "output_type": "stream",
     "text": [
      "EvaluationMetrics: {'precision': 4.88, 'recall': 32.35, 'coverage': 99.16, 'popularity': 5.600886}\n",
      "120 90\n"
     ]
    },
    {
     "name": "stderr",
     "output_type": "stream",
     "text": [
      "推荐中: 100%|█████████████████████████████████████████████████████████████████████| 7218/7218 [01:09<00:00, 103.98it/s]\n",
      "切割数据:   0%|                                                                               | 0/7218 [00:00<?, ?it/s]"
     ]
    },
    {
     "name": "stdout",
     "output_type": "stream",
     "text": [
      "EvaluationMetrics: {'precision': 3.59, 'recall': 42.82, 'coverage': 100.0, 'popularity': 5.357561}\n"
     ]
    },
    {
     "name": "stderr",
     "output_type": "stream",
     "text": [
      "切割数据: 100%|███████████████████████████████████████████████████████████████████| 7218/7218 [00:11<00:00, 622.72it/s]\n",
      "用户间相似度: 100%|████████████████████████████████████████████████████████████████| 1069/1069 [00:24<00:00, 43.62it/s]\n"
     ]
    },
    {
     "name": "stdout",
     "output_type": "stream",
     "text": [
      "倒排表约使计算量减少至原来的0.24倍.\n",
      "10 20\n"
     ]
    },
    {
     "name": "stderr",
     "output_type": "stream",
     "text": [
      "推荐中: 100%|█████████████████████████████████████████████████████████████████████| 7218/7218 [01:05<00:00, 109.81it/s]\n"
     ]
    },
    {
     "name": "stdout",
     "output_type": "stream",
     "text": [
      "EvaluationMetrics: {'precision': 5.43, 'recall': 14.03, 'coverage': 100.0, 'popularity': 5.154591}\n",
      "10 50\n"
     ]
    },
    {
     "name": "stderr",
     "output_type": "stream",
     "text": [
      "推荐中: 100%|█████████████████████████████████████████████████████████████████████| 7218/7218 [01:05<00:00, 110.19it/s]\n"
     ]
    },
    {
     "name": "stdout",
     "output_type": "stream",
     "text": [
      "EvaluationMetrics: {'precision': 3.78, 'recall': 22.53, 'coverage': 100.0, 'popularity': 4.990533}\n",
      "10 90\n"
     ]
    },
    {
     "name": "stderr",
     "output_type": "stream",
     "text": [
      "推荐中: 100%|█████████████████████████████████████████████████████████████████████| 7218/7218 [01:05<00:00, 110.34it/s]\n"
     ]
    },
    {
     "name": "stdout",
     "output_type": "stream",
     "text": [
      "EvaluationMetrics: {'precision': 3.22, 'recall': 29.41, 'coverage': 100.0, 'popularity': 4.9278}\n",
      "30 20\n"
     ]
    },
    {
     "name": "stderr",
     "output_type": "stream",
     "text": [
      "推荐中: 100%|█████████████████████████████████████████████████████████████████████| 7218/7218 [01:06<00:00, 108.51it/s]\n"
     ]
    },
    {
     "name": "stdout",
     "output_type": "stream",
     "text": [
      "EvaluationMetrics: {'precision': 6.84, 'recall': 18.15, 'coverage': 99.91, 'popularity': 5.541496}\n",
      "30 50\n"
     ]
    },
    {
     "name": "stderr",
     "output_type": "stream",
     "text": [
      "推荐中: 100%|█████████████████████████████████████████████████████████████████████| 7218/7218 [01:06<00:00, 108.89it/s]\n"
     ]
    },
    {
     "name": "stdout",
     "output_type": "stream",
     "text": [
      "EvaluationMetrics: {'precision': 4.38, 'recall': 28.77, 'coverage': 100.0, 'popularity': 5.225308}\n",
      "30 90\n"
     ]
    },
    {
     "name": "stderr",
     "output_type": "stream",
     "text": [
      "推荐中: 100%|█████████████████████████████████████████████████████████████████████| 7218/7218 [01:06<00:00, 109.21it/s]\n"
     ]
    },
    {
     "name": "stdout",
     "output_type": "stream",
     "text": [
      "EvaluationMetrics: {'precision': 3.18, 'recall': 37.12, 'coverage': 100.0, 'popularity': 5.042416}\n",
      "50 20\n"
     ]
    },
    {
     "name": "stderr",
     "output_type": "stream",
     "text": [
      "推荐中: 100%|█████████████████████████████████████████████████████████████████████| 7218/7218 [01:06<00:00, 107.91it/s]\n"
     ]
    },
    {
     "name": "stdout",
     "output_type": "stream",
     "text": [
      "EvaluationMetrics: {'precision': 7.27, 'recall': 19.27, 'coverage': 99.16, 'popularity': 5.72739}\n",
      "50 50\n"
     ]
    },
    {
     "name": "stderr",
     "output_type": "stream",
     "text": [
      "推荐中: 100%|█████████████████████████████████████████████████████████████████████| 7218/7218 [01:07<00:00, 107.51it/s]\n"
     ]
    },
    {
     "name": "stdout",
     "output_type": "stream",
     "text": [
      "EvaluationMetrics: {'precision': 4.63, 'recall': 30.69, 'coverage': 100.0, 'popularity': 5.36848}\n",
      "50 90\n"
     ]
    },
    {
     "name": "stderr",
     "output_type": "stream",
     "text": [
      "推荐中: 100%|█████████████████████████████████████████████████████████████████████| 7218/7218 [01:07<00:00, 107.52it/s]\n"
     ]
    },
    {
     "name": "stdout",
     "output_type": "stream",
     "text": [
      "EvaluationMetrics: {'precision': 3.38, 'recall': 40.09, 'coverage': 100.0, 'popularity': 5.154431}\n",
      "80 20\n"
     ]
    },
    {
     "name": "stderr",
     "output_type": "stream",
     "text": [
      "推荐中: 100%|█████████████████████████████████████████████████████████████████████| 7218/7218 [01:07<00:00, 106.31it/s]\n"
     ]
    },
    {
     "name": "stdout",
     "output_type": "stream",
     "text": [
      "EvaluationMetrics: {'precision': 7.46, 'recall': 19.8, 'coverage': 93.17, 'popularity': 5.877704}\n",
      "80 50\n"
     ]
    },
    {
     "name": "stderr",
     "output_type": "stream",
     "text": [
      "推荐中: 100%|█████████████████████████████████████████████████████████████████████| 7218/7218 [01:08<00:00, 105.90it/s]\n"
     ]
    },
    {
     "name": "stdout",
     "output_type": "stream",
     "text": [
      "EvaluationMetrics: {'precision': 4.83, 'recall': 32.06, 'coverage': 100.0, 'popularity': 5.498653}\n",
      "80 90\n"
     ]
    },
    {
     "name": "stderr",
     "output_type": "stream",
     "text": [
      "推荐中: 100%|█████████████████████████████████████████████████████████████████████| 7218/7218 [01:07<00:00, 106.17it/s]\n"
     ]
    },
    {
     "name": "stdout",
     "output_type": "stream",
     "text": [
      "EvaluationMetrics: {'precision': 3.51, 'recall': 41.92, 'coverage': 100.0, 'popularity': 5.263497}\n",
      "120 20\n"
     ]
    },
    {
     "name": "stderr",
     "output_type": "stream",
     "text": [
      "推荐中: 100%|█████████████████████████████████████████████████████████████████████| 7218/7218 [01:09<00:00, 104.58it/s]\n"
     ]
    },
    {
     "name": "stdout",
     "output_type": "stream",
     "text": [
      "EvaluationMetrics: {'precision': 7.51, 'recall': 19.91, 'coverage': 80.54, 'popularity': 5.987537}\n",
      "120 50\n"
     ]
    },
    {
     "name": "stderr",
     "output_type": "stream",
     "text": [
      "推荐中: 100%|█████████████████████████████████████████████████████████████████████| 7218/7218 [01:09<00:00, 104.27it/s]\n"
     ]
    },
    {
     "name": "stdout",
     "output_type": "stream",
     "text": [
      "EvaluationMetrics: {'precision': 4.9, 'recall': 32.52, 'coverage': 99.53, 'popularity': 5.606743}\n",
      "120 90\n"
     ]
    },
    {
     "name": "stderr",
     "output_type": "stream",
     "text": [
      "推荐中: 100%|█████████████████████████████████████████████████████████████████████| 7218/7218 [01:09<00:00, 104.38it/s]\n",
      "切割数据:   0%|                                                                               | 0/7218 [00:00<?, ?it/s]"
     ]
    },
    {
     "name": "stdout",
     "output_type": "stream",
     "text": [
      "EvaluationMetrics: {'precision': 3.6, 'recall': 42.94, 'coverage': 100.0, 'popularity': 5.358082}\n"
     ]
    },
    {
     "name": "stderr",
     "output_type": "stream",
     "text": [
      "切割数据: 100%|███████████████████████████████████████████████████████████████████| 7218/7218 [00:11<00:00, 627.59it/s]\n",
      "用户间相似度: 100%|████████████████████████████████████████████████████████████████| 1069/1069 [00:24<00:00, 44.01it/s]\n"
     ]
    },
    {
     "name": "stdout",
     "output_type": "stream",
     "text": [
      "倒排表约使计算量减少至原来的0.24倍.\n",
      "10 20\n"
     ]
    },
    {
     "name": "stderr",
     "output_type": "stream",
     "text": [
      "推荐中: 100%|█████████████████████████████████████████████████████████████████████| 7218/7218 [01:05<00:00, 109.96it/s]\n"
     ]
    },
    {
     "name": "stdout",
     "output_type": "stream",
     "text": [
      "EvaluationMetrics: {'precision': 5.36, 'recall': 13.89, 'coverage': 100.0, 'popularity': 5.154823}\n",
      "10 50\n"
     ]
    },
    {
     "name": "stderr",
     "output_type": "stream",
     "text": [
      "推荐中: 100%|█████████████████████████████████████████████████████████████████████| 7218/7218 [01:05<00:00, 110.68it/s]\n"
     ]
    },
    {
     "name": "stdout",
     "output_type": "stream",
     "text": [
      "EvaluationMetrics: {'precision': 3.71, 'recall': 22.22, 'coverage': 100.0, 'popularity': 4.985824}\n",
      "10 90\n"
     ]
    },
    {
     "name": "stderr",
     "output_type": "stream",
     "text": [
      "推荐中: 100%|█████████████████████████████████████████████████████████████████████| 7218/7218 [01:05<00:00, 110.48it/s]\n"
     ]
    },
    {
     "name": "stdout",
     "output_type": "stream",
     "text": [
      "EvaluationMetrics: {'precision': 3.19, 'recall': 29.19, 'coverage': 100.0, 'popularity': 4.926385}\n",
      "30 20\n"
     ]
    },
    {
     "name": "stderr",
     "output_type": "stream",
     "text": [
      "推荐中: 100%|█████████████████████████████████████████████████████████████████████| 7218/7218 [01:06<00:00, 108.65it/s]\n"
     ]
    },
    {
     "name": "stdout",
     "output_type": "stream",
     "text": [
      "EvaluationMetrics: {'precision': 6.81, 'recall': 18.06, 'coverage': 100.0, 'popularity': 5.536484}\n",
      "30 50\n"
     ]
    },
    {
     "name": "stderr",
     "output_type": "stream",
     "text": [
      "推荐中: 100%|█████████████████████████████████████████████████████████████████████| 7218/7218 [01:05<00:00, 109.46it/s]\n"
     ]
    },
    {
     "name": "stdout",
     "output_type": "stream",
     "text": [
      "EvaluationMetrics: {'precision': 4.32, 'recall': 28.45, 'coverage': 100.0, 'popularity': 5.219178}\n",
      "30 90\n"
     ]
    },
    {
     "name": "stderr",
     "output_type": "stream",
     "text": [
      "推荐中: 100%|█████████████████████████████████████████████████████████████████████| 7218/7218 [01:06<00:00, 109.07it/s]\n"
     ]
    },
    {
     "name": "stdout",
     "output_type": "stream",
     "text": [
      "EvaluationMetrics: {'precision': 3.17, 'recall': 37.04, 'coverage': 100.0, 'popularity': 5.037675}\n",
      "50 20\n"
     ]
    },
    {
     "name": "stderr",
     "output_type": "stream",
     "text": [
      "推荐中: 100%|█████████████████████████████████████████████████████████████████████| 7218/7218 [01:07<00:00, 107.61it/s]\n"
     ]
    },
    {
     "name": "stdout",
     "output_type": "stream",
     "text": [
      "EvaluationMetrics: {'precision': 7.3, 'recall': 19.36, 'coverage': 99.63, 'popularity': 5.72154}\n",
      "50 50\n"
     ]
    },
    {
     "name": "stderr",
     "output_type": "stream",
     "text": [
      "推荐中: 100%|█████████████████████████████████████████████████████████████████████| 7218/7218 [01:07<00:00, 107.50it/s]\n"
     ]
    },
    {
     "name": "stdout",
     "output_type": "stream",
     "text": [
      "EvaluationMetrics: {'precision': 4.64, 'recall': 30.75, 'coverage': 100.0, 'popularity': 5.363492}\n",
      "50 90\n"
     ]
    },
    {
     "name": "stderr",
     "output_type": "stream",
     "text": [
      "推荐中: 100%|█████████████████████████████████████████████████████████████████████| 7218/7218 [01:07<00:00, 107.44it/s]\n"
     ]
    },
    {
     "name": "stdout",
     "output_type": "stream",
     "text": [
      "EvaluationMetrics: {'precision': 3.35, 'recall': 39.83, 'coverage': 100.0, 'popularity': 5.149252}\n",
      "80 20\n"
     ]
    },
    {
     "name": "stderr",
     "output_type": "stream",
     "text": [
      "推荐中: 100%|█████████████████████████████████████████████████████████████████████| 7218/7218 [01:07<00:00, 106.31it/s]\n"
     ]
    },
    {
     "name": "stdout",
     "output_type": "stream",
     "text": [
      "EvaluationMetrics: {'precision': 7.53, 'recall': 19.97, 'coverage': 94.2, 'popularity': 5.877178}\n",
      "80 50\n"
     ]
    },
    {
     "name": "stderr",
     "output_type": "stream",
     "text": [
      "推荐中: 100%|█████████████████████████████████████████████████████████████████████| 7218/7218 [01:08<00:00, 105.29it/s]\n"
     ]
    },
    {
     "name": "stdout",
     "output_type": "stream",
     "text": [
      "EvaluationMetrics: {'precision': 4.85, 'recall': 32.16, 'coverage': 100.0, 'popularity': 5.496738}\n",
      "80 90\n"
     ]
    },
    {
     "name": "stderr",
     "output_type": "stream",
     "text": [
      "推荐中: 100%|█████████████████████████████████████████████████████████████████████| 7218/7218 [01:08<00:00, 105.66it/s]\n"
     ]
    },
    {
     "name": "stdout",
     "output_type": "stream",
     "text": [
      "EvaluationMetrics: {'precision': 3.51, 'recall': 41.89, 'coverage': 100.0, 'popularity': 5.260978}\n",
      "120 20\n"
     ]
    },
    {
     "name": "stderr",
     "output_type": "stream",
     "text": [
      "推荐中: 100%|█████████████████████████████████████████████████████████████████████| 7218/7218 [01:09<00:00, 103.41it/s]\n"
     ]
    },
    {
     "name": "stdout",
     "output_type": "stream",
     "text": [
      "EvaluationMetrics: {'precision': 7.61, 'recall': 20.19, 'coverage': 82.88, 'popularity': 5.983728}\n",
      "120 50\n"
     ]
    },
    {
     "name": "stderr",
     "output_type": "stream",
     "text": [
      "推荐中: 100%|█████████████████████████████████████████████████████████████████████| 7218/7218 [01:09<00:00, 103.81it/s]\n"
     ]
    },
    {
     "name": "stdout",
     "output_type": "stream",
     "text": [
      "EvaluationMetrics: {'precision': 4.93, 'recall': 32.69, 'coverage': 99.72, 'popularity': 5.601346}\n",
      "120 90\n"
     ]
    },
    {
     "name": "stderr",
     "output_type": "stream",
     "text": [
      "推荐中: 100%|█████████████████████████████████████████████████████████████████████| 7218/7218 [01:09<00:00, 104.09it/s]\n"
     ]
    },
    {
     "name": "stdout",
     "output_type": "stream",
     "text": [
      "EvaluationMetrics: {'precision': 3.57, 'recall': 42.65, 'coverage': 100.0, 'popularity': 5.35589}\n"
     ]
    },
    {
     "name": "stderr",
     "output_type": "stream",
     "text": [
      "切割数据: 100%|███████████████████████████████████████████████████████████████████| 7257/7257 [00:14<00:00, 501.37it/s]\n",
      "用户间相似度: 100%|████████████████████████████████████████████████████████████████| 2126/2126 [00:28<00:00, 73.78it/s]\n"
     ]
    },
    {
     "name": "stdout",
     "output_type": "stream",
     "text": [
      "倒排表约使计算量减少至原来的0.25倍.\n",
      "10 20\n"
     ]
    },
    {
     "name": "stderr",
     "output_type": "stream",
     "text": [
      "推荐中: 100%|█████████████████████████████████████████████████████████████████████| 7257/7257 [01:07<00:00, 107.90it/s]\n"
     ]
    },
    {
     "name": "stdout",
     "output_type": "stream",
     "text": [
      "EvaluationMetrics: {'precision': 5.67, 'recall': 11.6, 'coverage': 100.0, 'popularity': 4.984934}\n",
      "10 50\n"
     ]
    },
    {
     "name": "stderr",
     "output_type": "stream",
     "text": [
      "推荐中: 100%|█████████████████████████████████████████████████████████████████████| 7257/7257 [01:06<00:00, 108.60it/s]\n"
     ]
    },
    {
     "name": "stdout",
     "output_type": "stream",
     "text": [
      "EvaluationMetrics: {'precision': 3.71, 'recall': 18.41, 'coverage': 100.0, 'popularity': 4.734766}\n",
      "10 90\n"
     ]
    },
    {
     "name": "stderr",
     "output_type": "stream",
     "text": [
      "推荐中: 100%|█████████████████████████████████████████████████████████████████████| 7257/7257 [01:06<00:00, 108.71it/s]\n"
     ]
    },
    {
     "name": "stdout",
     "output_type": "stream",
     "text": [
      "EvaluationMetrics: {'precision': 2.93, 'recall': 24.23, 'coverage': 100.0, 'popularity': 4.641105}\n",
      "30 20\n"
     ]
    },
    {
     "name": "stderr",
     "output_type": "stream",
     "text": [
      "推荐中: 100%|█████████████████████████████████████████████████████████████████████| 7257/7257 [01:07<00:00, 106.76it/s]\n"
     ]
    },
    {
     "name": "stdout",
     "output_type": "stream",
     "text": [
      "EvaluationMetrics: {'precision': 7.17, 'recall': 14.87, 'coverage': 97.08, 'popularity': 5.471036}\n",
      "30 50\n"
     ]
    },
    {
     "name": "stderr",
     "output_type": "stream",
     "text": [
      "推荐中: 100%|█████████████████████████████████████████████████████████████████████| 7257/7257 [01:07<00:00, 106.94it/s]\n"
     ]
    },
    {
     "name": "stdout",
     "output_type": "stream",
     "text": [
      "EvaluationMetrics: {'precision': 4.6, 'recall': 23.75, 'coverage': 100.0, 'popularity': 5.105972}\n",
      "30 90\n"
     ]
    },
    {
     "name": "stderr",
     "output_type": "stream",
     "text": [
      "推荐中: 100%|█████████████████████████████████████████████████████████████████████| 7257/7257 [01:07<00:00, 107.13it/s]\n"
     ]
    },
    {
     "name": "stdout",
     "output_type": "stream",
     "text": [
      "EvaluationMetrics: {'precision': 3.33, 'recall': 30.74, 'coverage': 100.0, 'popularity': 4.880699}\n",
      "50 20\n"
     ]
    },
    {
     "name": "stderr",
     "output_type": "stream",
     "text": [
      "推荐中: 100%|█████████████████████████████████████████████████████████████████████| 7257/7257 [01:08<00:00, 105.44it/s]\n"
     ]
    },
    {
     "name": "stdout",
     "output_type": "stream",
     "text": [
      "EvaluationMetrics: {'precision': 7.59, 'recall': 15.76, 'coverage': 88.66, 'popularity': 5.683015}\n",
      "50 50\n"
     ]
    },
    {
     "name": "stderr",
     "output_type": "stream",
     "text": [
      "推荐中: 100%|█████████████████████████████████████████████████████████████████████| 7257/7257 [01:09<00:00, 104.50it/s]\n"
     ]
    },
    {
     "name": "stdout",
     "output_type": "stream",
     "text": [
      "EvaluationMetrics: {'precision': 4.89, 'recall': 25.37, 'coverage': 99.86, 'popularity': 5.294964}\n",
      "50 90\n"
     ]
    },
    {
     "name": "stderr",
     "output_type": "stream",
     "text": [
      "推荐中: 100%|█████████████████████████████████████████████████████████████████████| 7257/7257 [01:09<00:00, 105.03it/s]\n"
     ]
    },
    {
     "name": "stdout",
     "output_type": "stream",
     "text": [
      "EvaluationMetrics: {'precision': 3.54, 'recall': 33.03, 'coverage': 100.0, 'popularity': 5.044301}\n",
      "80 20\n"
     ]
    },
    {
     "name": "stderr",
     "output_type": "stream",
     "text": [
      "推荐中: 100%|█████████████████████████████████████████████████████████████████████| 7257/7257 [01:10<00:00, 103.46it/s]\n"
     ]
    },
    {
     "name": "stdout",
     "output_type": "stream",
     "text": [
      "EvaluationMetrics: {'precision': 7.72, 'recall': 16.01, 'coverage': 70.46, 'popularity': 5.852293}\n",
      "80 50\n"
     ]
    },
    {
     "name": "stderr",
     "output_type": "stream",
     "text": [
      "推荐中: 100%|█████████████████████████████████████████████████████████████████████| 7257/7257 [01:10<00:00, 103.56it/s]\n"
     ]
    },
    {
     "name": "stdout",
     "output_type": "stream",
     "text": [
      "EvaluationMetrics: {'precision': 5.03, 'recall': 26.08, 'coverage': 97.79, 'popularity': 5.462173}\n",
      "80 90\n"
     ]
    },
    {
     "name": "stderr",
     "output_type": "stream",
     "text": [
      "推荐中: 100%|█████████████████████████████████████████████████████████████████████| 7257/7257 [01:10<00:00, 103.23it/s]\n"
     ]
    },
    {
     "name": "stdout",
     "output_type": "stream",
     "text": [
      "EvaluationMetrics: {'precision': 3.68, 'recall': 34.37, 'coverage': 100.0, 'popularity': 5.196378}\n",
      "120 20\n"
     ]
    },
    {
     "name": "stderr",
     "output_type": "stream",
     "text": [
      "推荐中: 100%|█████████████████████████████████████████████████████████████████████| 7257/7257 [01:11<00:00, 100.97it/s]\n"
     ]
    },
    {
     "name": "stdout",
     "output_type": "stream",
     "text": [
      "EvaluationMetrics: {'precision': 7.67, 'recall': 15.91, 'coverage': 53.9, 'popularity': 5.974788}\n",
      "120 50\n"
     ]
    },
    {
     "name": "stderr",
     "output_type": "stream",
     "text": [
      "推荐中: 100%|█████████████████████████████████████████████████████████████████████| 7257/7257 [01:11<00:00, 101.23it/s]\n"
     ]
    },
    {
     "name": "stdout",
     "output_type": "stream",
     "text": [
      "EvaluationMetrics: {'precision': 5.08, 'recall': 26.34, 'coverage': 89.18, 'popularity': 5.59053}\n",
      "120 90\n"
     ]
    },
    {
     "name": "stderr",
     "output_type": "stream",
     "text": [
      "推荐中: 100%|█████████████████████████████████████████████████████████████████████| 7257/7257 [01:11<00:00, 101.10it/s]\n",
      "切割数据:   0%|                                                                               | 0/7257 [00:00<?, ?it/s]"
     ]
    },
    {
     "name": "stdout",
     "output_type": "stream",
     "text": [
      "EvaluationMetrics: {'precision': 3.74, 'recall': 34.88, 'coverage': 99.53, 'popularity': 5.321889}\n"
     ]
    },
    {
     "name": "stderr",
     "output_type": "stream",
     "text": [
      "切割数据: 100%|███████████████████████████████████████████████████████████████████| 7257/7257 [00:14<00:00, 501.86it/s]\n",
      "用户间相似度: 100%|████████████████████████████████████████████████████████████████| 2126/2126 [00:32<00:00, 65.47it/s]\n"
     ]
    },
    {
     "name": "stdout",
     "output_type": "stream",
     "text": [
      "倒排表约使计算量减少至原来的0.25倍.\n",
      "10 20\n"
     ]
    },
    {
     "name": "stderr",
     "output_type": "stream",
     "text": [
      "推荐中: 100%|█████████████████████████████████████████████████████████████████████| 7257/7257 [01:07<00:00, 107.88it/s]\n"
     ]
    },
    {
     "name": "stdout",
     "output_type": "stream",
     "text": [
      "EvaluationMetrics: {'precision': 5.85, 'recall': 11.95, 'coverage': 100.0, 'popularity': 4.976057}\n",
      "10 50\n"
     ]
    },
    {
     "name": "stderr",
     "output_type": "stream",
     "text": [
      "推荐中: 100%|█████████████████████████████████████████████████████████████████████| 7257/7257 [01:06<00:00, 109.10it/s]\n"
     ]
    },
    {
     "name": "stdout",
     "output_type": "stream",
     "text": [
      "EvaluationMetrics: {'precision': 3.79, 'recall': 18.8, 'coverage': 100.0, 'popularity': 4.737842}\n",
      "10 90\n"
     ]
    },
    {
     "name": "stderr",
     "output_type": "stream",
     "text": [
      "推荐中: 100%|█████████████████████████████████████████████████████████████████████| 7257/7257 [01:06<00:00, 108.87it/s]\n"
     ]
    },
    {
     "name": "stdout",
     "output_type": "stream",
     "text": [
      "EvaluationMetrics: {'precision': 2.98, 'recall': 24.64, 'coverage': 100.0, 'popularity': 4.64245}\n",
      "30 20\n"
     ]
    },
    {
     "name": "stderr",
     "output_type": "stream",
     "text": [
      "推荐中: 100%|█████████████████████████████████████████████████████████████████████| 7257/7257 [01:07<00:00, 106.97it/s]\n"
     ]
    },
    {
     "name": "stdout",
     "output_type": "stream",
     "text": [
      "EvaluationMetrics: {'precision': 7.37, 'recall': 15.3, 'coverage': 97.84, 'popularity': 5.46013}\n",
      "30 50\n"
     ]
    },
    {
     "name": "stderr",
     "output_type": "stream",
     "text": [
      "推荐中: 100%|█████████████████████████████████████████████████████████████████████| 7257/7257 [01:07<00:00, 106.84it/s]\n"
     ]
    },
    {
     "name": "stdout",
     "output_type": "stream",
     "text": [
      "EvaluationMetrics: {'precision': 4.65, 'recall': 24.03, 'coverage': 99.95, 'popularity': 5.09841}\n",
      "30 90\n"
     ]
    },
    {
     "name": "stderr",
     "output_type": "stream",
     "text": [
      "推荐中: 100%|█████████████████████████████████████████████████████████████████████| 7257/7257 [01:07<00:00, 106.80it/s]\n"
     ]
    },
    {
     "name": "stdout",
     "output_type": "stream",
     "text": [
      "EvaluationMetrics: {'precision': 3.35, 'recall': 30.93, 'coverage': 100.0, 'popularity': 4.875281}\n",
      "50 20\n"
     ]
    },
    {
     "name": "stderr",
     "output_type": "stream",
     "text": [
      "推荐中: 100%|█████████████████████████████████████████████████████████████████████| 7257/7257 [01:08<00:00, 105.30it/s]\n"
     ]
    },
    {
     "name": "stdout",
     "output_type": "stream",
     "text": [
      "EvaluationMetrics: {'precision': 7.81, 'recall': 16.2, 'coverage': 88.24, 'popularity': 5.672863}\n",
      "50 50\n"
     ]
    },
    {
     "name": "stderr",
     "output_type": "stream",
     "text": [
      "推荐中: 100%|█████████████████████████████████████████████████████████████████████| 7257/7257 [01:08<00:00, 105.22it/s]\n"
     ]
    },
    {
     "name": "stdout",
     "output_type": "stream",
     "text": [
      "EvaluationMetrics: {'precision': 4.96, 'recall': 25.71, 'coverage': 99.91, 'popularity': 5.287158}\n",
      "50 90\n"
     ]
    },
    {
     "name": "stderr",
     "output_type": "stream",
     "text": [
      "推荐中: 100%|█████████████████████████████████████████████████████████████████████| 7257/7257 [01:08<00:00, 105.37it/s]\n"
     ]
    },
    {
     "name": "stdout",
     "output_type": "stream",
     "text": [
      "EvaluationMetrics: {'precision': 3.58, 'recall': 33.41, 'coverage': 100.0, 'popularity': 5.039159}\n",
      "80 20\n"
     ]
    },
    {
     "name": "stderr",
     "output_type": "stream",
     "text": [
      "推荐中: 100%|█████████████████████████████████████████████████████████████████████| 7257/7257 [01:10<00:00, 103.16it/s]\n"
     ]
    },
    {
     "name": "stdout",
     "output_type": "stream",
     "text": [
      "EvaluationMetrics: {'precision': 7.92, 'recall': 16.43, 'coverage': 70.74, 'popularity': 5.842304}\n",
      "80 50\n"
     ]
    },
    {
     "name": "stderr",
     "output_type": "stream",
     "text": [
      "推荐中: 100%|█████████████████████████████████████████████████████████████████████| 7257/7257 [01:10<00:00, 103.31it/s]\n"
     ]
    },
    {
     "name": "stdout",
     "output_type": "stream",
     "text": [
      "EvaluationMetrics: {'precision': 5.07, 'recall': 26.31, 'coverage': 97.74, 'popularity': 5.452663}\n",
      "80 90\n"
     ]
    },
    {
     "name": "stderr",
     "output_type": "stream",
     "text": [
      "推荐中: 100%|█████████████████████████████████████████████████████████████████████| 7257/7257 [01:10<00:00, 102.90it/s]\n"
     ]
    },
    {
     "name": "stdout",
     "output_type": "stream",
     "text": [
      "EvaluationMetrics: {'precision': 3.7, 'recall': 34.58, 'coverage': 99.95, 'popularity': 5.189458}\n",
      "120 20\n"
     ]
    },
    {
     "name": "stderr",
     "output_type": "stream",
     "text": [
      "推荐中: 100%|█████████████████████████████████████████████████████████████████████| 7257/7257 [01:11<00:00, 101.25it/s]\n"
     ]
    },
    {
     "name": "stdout",
     "output_type": "stream",
     "text": [
      "EvaluationMetrics: {'precision': 7.81, 'recall': 16.2, 'coverage': 54.37, 'popularity': 5.962216}\n",
      "120 50\n"
     ]
    },
    {
     "name": "stderr",
     "output_type": "stream",
     "text": [
      "推荐中: 100%|█████████████████████████████████████████████████████████████████████| 7257/7257 [01:11<00:00, 101.19it/s]\n"
     ]
    },
    {
     "name": "stdout",
     "output_type": "stream",
     "text": [
      "EvaluationMetrics: {'precision': 5.13, 'recall': 26.62, 'coverage': 88.99, 'popularity': 5.579049}\n",
      "120 90\n"
     ]
    },
    {
     "name": "stderr",
     "output_type": "stream",
     "text": [
      "推荐中: 100%|█████████████████████████████████████████████████████████████████████| 7257/7257 [01:11<00:00, 100.79it/s]\n",
      "切割数据:   0%|                                                                               | 0/7257 [00:00<?, ?it/s]"
     ]
    },
    {
     "name": "stdout",
     "output_type": "stream",
     "text": [
      "EvaluationMetrics: {'precision': 3.78, 'recall': 35.3, 'coverage': 99.39, 'popularity': 5.312996}\n"
     ]
    },
    {
     "name": "stderr",
     "output_type": "stream",
     "text": [
      "切割数据: 100%|███████████████████████████████████████████████████████████████████| 7257/7257 [00:14<00:00, 498.83it/s]\n",
      "用户间相似度: 100%|████████████████████████████████████████████████████████████████| 2126/2126 [00:28<00:00, 73.94it/s]\n"
     ]
    },
    {
     "name": "stdout",
     "output_type": "stream",
     "text": [
      "倒排表约使计算量减少至原来的0.25倍.\n",
      "10 20\n"
     ]
    },
    {
     "name": "stderr",
     "output_type": "stream",
     "text": [
      "推荐中: 100%|█████████████████████████████████████████████████████████████████████| 7257/7257 [01:07<00:00, 107.85it/s]\n"
     ]
    },
    {
     "name": "stdout",
     "output_type": "stream",
     "text": [
      "EvaluationMetrics: {'precision': 5.7, 'recall': 11.62, 'coverage': 99.95, 'popularity': 4.980881}\n",
      "10 50\n"
     ]
    },
    {
     "name": "stderr",
     "output_type": "stream",
     "text": [
      "推荐中: 100%|█████████████████████████████████████████████████████████████████████| 7257/7257 [01:06<00:00, 108.50it/s]\n"
     ]
    },
    {
     "name": "stdout",
     "output_type": "stream",
     "text": [
      "EvaluationMetrics: {'precision': 3.75, 'recall': 18.54, 'coverage': 100.0, 'popularity': 4.737637}\n",
      "10 90\n"
     ]
    },
    {
     "name": "stderr",
     "output_type": "stream",
     "text": [
      "推荐中: 100%|█████████████████████████████████████████████████████████████████████| 7257/7257 [01:07<00:00, 106.79it/s]\n"
     ]
    },
    {
     "name": "stdout",
     "output_type": "stream",
     "text": [
      "EvaluationMetrics: {'precision': 2.97, 'recall': 24.46, 'coverage': 100.0, 'popularity': 4.645126}\n",
      "30 20\n"
     ]
    },
    {
     "name": "stderr",
     "output_type": "stream",
     "text": [
      "推荐中: 100%|█████████████████████████████████████████████████████████████████████| 7257/7257 [01:08<00:00, 106.35it/s]\n"
     ]
    },
    {
     "name": "stdout",
     "output_type": "stream",
     "text": [
      "EvaluationMetrics: {'precision': 7.19, 'recall': 14.91, 'coverage': 97.84, 'popularity': 5.468424}\n",
      "30 50\n"
     ]
    },
    {
     "name": "stderr",
     "output_type": "stream",
     "text": [
      "推荐中: 100%|█████████████████████████████████████████████████████████████████████| 7257/7257 [01:07<00:00, 106.80it/s]\n"
     ]
    },
    {
     "name": "stdout",
     "output_type": "stream",
     "text": [
      "EvaluationMetrics: {'precision': 4.62, 'recall': 23.82, 'coverage': 100.0, 'popularity': 5.109743}\n",
      "30 90\n"
     ]
    },
    {
     "name": "stderr",
     "output_type": "stream",
     "text": [
      "推荐中: 100%|█████████████████████████████████████████████████████████████████████| 7257/7257 [01:08<00:00, 106.52it/s]\n"
     ]
    },
    {
     "name": "stdout",
     "output_type": "stream",
     "text": [
      "EvaluationMetrics: {'precision': 3.34, 'recall': 30.79, 'coverage': 100.0, 'popularity': 4.883588}\n",
      "50 20\n"
     ]
    },
    {
     "name": "stderr",
     "output_type": "stream",
     "text": [
      "推荐中: 100%|█████████████████████████████████████████████████████████████████████| 7257/7257 [01:09<00:00, 104.93it/s]\n"
     ]
    },
    {
     "name": "stdout",
     "output_type": "stream",
     "text": [
      "EvaluationMetrics: {'precision': 7.61, 'recall': 15.78, 'coverage': 88.19, 'popularity': 5.677474}\n",
      "50 50\n"
     ]
    },
    {
     "name": "stderr",
     "output_type": "stream",
     "text": [
      "推荐中: 100%|█████████████████████████████████████████████████████████████████████| 7257/7257 [01:09<00:00, 104.99it/s]\n"
     ]
    },
    {
     "name": "stdout",
     "output_type": "stream",
     "text": [
      "EvaluationMetrics: {'precision': 4.89, 'recall': 25.37, 'coverage': 99.86, 'popularity': 5.296535}\n",
      "50 90\n"
     ]
    },
    {
     "name": "stderr",
     "output_type": "stream",
     "text": [
      "推荐中: 100%|█████████████████████████████████████████████████████████████████████| 7257/7257 [01:09<00:00, 104.90it/s]\n"
     ]
    },
    {
     "name": "stdout",
     "output_type": "stream",
     "text": [
      "EvaluationMetrics: {'precision': 3.55, 'recall': 32.98, 'coverage': 100.0, 'popularity': 5.050143}\n",
      "80 20\n"
     ]
    },
    {
     "name": "stderr",
     "output_type": "stream",
     "text": [
      "推荐中: 100%|█████████████████████████████████████████████████████████████████████| 7257/7257 [01:10<00:00, 103.03it/s]\n"
     ]
    },
    {
     "name": "stdout",
     "output_type": "stream",
     "text": [
      "EvaluationMetrics: {'precision': 7.77, 'recall': 16.11, 'coverage': 70.56, 'popularity': 5.844192}\n",
      "80 50\n"
     ]
    },
    {
     "name": "stderr",
     "output_type": "stream",
     "text": [
      "推荐中: 100%|█████████████████████████████████████████████████████████████████████| 7257/7257 [01:10<00:00, 102.51it/s]\n"
     ]
    },
    {
     "name": "stdout",
     "output_type": "stream",
     "text": [
      "EvaluationMetrics: {'precision': 5.09, 'recall': 26.38, 'coverage': 97.51, 'popularity': 5.461342}\n",
      "80 90\n"
     ]
    },
    {
     "name": "stderr",
     "output_type": "stream",
     "text": [
      "推荐中: 100%|█████████████████████████████████████████████████████████████████████| 7257/7257 [01:10<00:00, 102.67it/s]\n"
     ]
    },
    {
     "name": "stdout",
     "output_type": "stream",
     "text": [
      "EvaluationMetrics: {'precision': 3.68, 'recall': 34.39, 'coverage': 100.0, 'popularity': 5.199886}\n",
      "120 20\n"
     ]
    },
    {
     "name": "stderr",
     "output_type": "stream",
     "text": [
      "推荐中: 100%|██████████████████████████████████████████████████████████████████████| 7257/7257 [01:12<00:00, 99.42it/s]\n"
     ]
    },
    {
     "name": "stdout",
     "output_type": "stream",
     "text": [
      "EvaluationMetrics: {'precision': 7.75, 'recall': 16.08, 'coverage': 53.72, 'popularity': 5.969058}\n",
      "120 50\n"
     ]
    },
    {
     "name": "stderr",
     "output_type": "stream",
     "text": [
      "推荐中: 100%|█████████████████████████████████████████████████████████████████████| 7257/7257 [01:11<00:00, 100.89it/s]\n"
     ]
    },
    {
     "name": "stdout",
     "output_type": "stream",
     "text": [
      "EvaluationMetrics: {'precision': 5.09, 'recall': 26.42, 'coverage': 89.09, 'popularity': 5.58846}\n",
      "120 90\n"
     ]
    },
    {
     "name": "stderr",
     "output_type": "stream",
     "text": [
      "推荐中: 100%|█████████████████████████████████████████████████████████████████████| 7257/7257 [01:12<00:00, 100.73it/s]\n",
      "切割数据:   0%|                                                                               | 0/7307 [00:00<?, ?it/s]"
     ]
    },
    {
     "name": "stdout",
     "output_type": "stream",
     "text": [
      "EvaluationMetrics: {'precision': 3.76, 'recall': 35.14, 'coverage': 99.25, 'popularity': 5.324678}\n"
     ]
    },
    {
     "name": "stderr",
     "output_type": "stream",
     "text": [
      "切割数据: 100%|███████████████████████████████████████████████████████████████████| 7307/7307 [00:19<00:00, 378.34it/s]\n",
      "用户间相似度: 100%|███████████████████████████████████████████████████████████████| 6937/6937 [00:36<00:00, 189.90it/s]\n"
     ]
    },
    {
     "name": "stdout",
     "output_type": "stream",
     "text": [
      "倒排表约使计算量减少至原来的0.26倍.\n",
      "10 20\n"
     ]
    },
    {
     "name": "stderr",
     "output_type": "stream",
     "text": [
      "推荐中: 100%|█████████████████████████████████████████████████████████████████████| 7307/7307 [01:09<00:00, 105.05it/s]\n"
     ]
    },
    {
     "name": "stdout",
     "output_type": "stream",
     "text": [
      "EvaluationMetrics: {'precision': 6.67, 'recall': 9.55, 'coverage': 92.1, 'popularity': 4.754318}\n",
      "10 50\n"
     ]
    },
    {
     "name": "stderr",
     "output_type": "stream",
     "text": [
      "推荐中: 100%|█████████████████████████████████████████████████████████████████████| 7307/7307 [01:08<00:00, 106.06it/s]\n"
     ]
    },
    {
     "name": "stdout",
     "output_type": "stream",
     "text": [
      "EvaluationMetrics: {'precision': 4.27, 'recall': 15.12, 'coverage': 99.88, 'popularity': 4.370045}\n",
      "10 90\n"
     ]
    },
    {
     "name": "stderr",
     "output_type": "stream",
     "text": [
      "推荐中: 100%|█████████████████████████████████████████████████████████████████████| 7307/7307 [01:08<00:00, 106.35it/s]\n"
     ]
    },
    {
     "name": "stdout",
     "output_type": "stream",
     "text": [
      "EvaluationMetrics: {'precision': 3.09, 'recall': 19.32, 'coverage': 100.0, 'popularity': 4.195086}\n",
      "30 20\n"
     ]
    },
    {
     "name": "stderr",
     "output_type": "stream",
     "text": [
      "推荐中: 100%|█████████████████████████████████████████████████████████████████████| 7307/7307 [01:11<00:00, 102.66it/s]\n"
     ]
    },
    {
     "name": "stdout",
     "output_type": "stream",
     "text": [
      "EvaluationMetrics: {'precision': 7.99, 'recall': 11.49, 'coverage': 64.62, 'popularity': 5.383603}\n",
      "30 50\n"
     ]
    },
    {
     "name": "stderr",
     "output_type": "stream",
     "text": [
      "推荐中: 100%|█████████████████████████████████████████████████████████████████████| 7307/7307 [01:11<00:00, 102.65it/s]\n"
     ]
    },
    {
     "name": "stdout",
     "output_type": "stream",
     "text": [
      "EvaluationMetrics: {'precision': 5.24, 'recall': 18.86, 'coverage': 94.08, 'popularity': 4.968012}\n",
      "30 90\n"
     ]
    },
    {
     "name": "stderr",
     "output_type": "stream",
     "text": [
      "推荐中: 100%|█████████████████████████████████████████████████████████████████████| 7307/7307 [01:11<00:00, 102.80it/s]\n"
     ]
    },
    {
     "name": "stdout",
     "output_type": "stream",
     "text": [
      "EvaluationMetrics: {'precision': 3.78, 'recall': 24.43, 'coverage': 99.55, 'popularity': 4.688016}\n",
      "50 20\n"
     ]
    },
    {
     "name": "stderr",
     "output_type": "stream",
     "text": [
      "推荐中: 100%|█████████████████████████████████████████████████████████████████████| 7307/7307 [01:12<00:00, 101.24it/s]\n"
     ]
    },
    {
     "name": "stdout",
     "output_type": "stream",
     "text": [
      "EvaluationMetrics: {'precision': 8.27, 'recall': 11.9, 'coverage': 44.98, 'popularity': 5.635316}\n",
      "50 50\n"
     ]
    },
    {
     "name": "stderr",
     "output_type": "stream",
     "text": [
      "推荐中: 100%|█████████████████████████████████████████████████████████████████████| 7307/7307 [01:12<00:00, 100.96it/s]\n"
     ]
    },
    {
     "name": "stdout",
     "output_type": "stream",
     "text": [
      "EvaluationMetrics: {'precision': 5.46, 'recall': 19.63, 'coverage': 80.81, 'popularity': 5.220174}\n",
      "50 90\n"
     ]
    },
    {
     "name": "stderr",
     "output_type": "stream",
     "text": [
      "推荐中: 100%|█████████████████████████████████████████████████████████████████████| 7307/7307 [01:12<00:00, 101.29it/s]\n"
     ]
    },
    {
     "name": "stdout",
     "output_type": "stream",
     "text": [
      "EvaluationMetrics: {'precision': 4.0, 'recall': 25.91, 'coverage': 96.45, 'popularity': 4.931568}\n",
      "80 20\n"
     ]
    },
    {
     "name": "stderr",
     "output_type": "stream",
     "text": [
      "推荐中: 100%|██████████████████████████████████████████████████████████████████████| 7307/7307 [01:14<00:00, 98.65it/s]\n"
     ]
    },
    {
     "name": "stdout",
     "output_type": "stream",
     "text": [
      "EvaluationMetrics: {'precision': 8.14, 'recall': 11.71, 'coverage': 30.33, 'popularity': 5.826395}\n",
      "80 50\n"
     ]
    },
    {
     "name": "stderr",
     "output_type": "stream",
     "text": [
      "推荐中: 100%|██████████████████████████████████████████████████████████████████████| 7307/7307 [01:14<00:00, 98.72it/s]\n"
     ]
    },
    {
     "name": "stdout",
     "output_type": "stream",
     "text": [
      "EvaluationMetrics: {'precision': 5.49, 'recall': 19.73, 'coverage': 61.99, 'popularity': 5.423422}\n",
      "80 90\n"
     ]
    },
    {
     "name": "stderr",
     "output_type": "stream",
     "text": [
      "推荐中: 100%|██████████████████████████████████████████████████████████████████████| 7307/7307 [01:14<00:00, 98.09it/s]\n"
     ]
    },
    {
     "name": "stdout",
     "output_type": "stream",
     "text": [
      "EvaluationMetrics: {'precision': 4.08, 'recall': 26.41, 'coverage': 86.29, 'popularity': 5.140722}\n",
      "120 20\n"
     ]
    },
    {
     "name": "stderr",
     "output_type": "stream",
     "text": [
      "推荐中: 100%|██████████████████████████████████████████████████████████████████████| 7307/7307 [01:16<00:00, 94.92it/s]\n"
     ]
    },
    {
     "name": "stdout",
     "output_type": "stream",
     "text": [
      "EvaluationMetrics: {'precision': 7.91, 'recall': 11.38, 'coverage': 20.56, 'popularity': 5.961859}\n",
      "120 50\n"
     ]
    },
    {
     "name": "stderr",
     "output_type": "stream",
     "text": [
      "推荐中: 100%|██████████████████████████████████████████████████████████████████████| 7307/7307 [01:16<00:00, 95.14it/s]\n"
     ]
    },
    {
     "name": "stdout",
     "output_type": "stream",
     "text": [
      "EvaluationMetrics: {'precision': 5.38, 'recall': 19.37, 'coverage': 45.31, 'popularity': 5.571103}\n",
      "120 90\n"
     ]
    },
    {
     "name": "stderr",
     "output_type": "stream",
     "text": [
      "推荐中: 100%|██████████████████████████████████████████████████████████████████████| 7307/7307 [01:16<00:00, 95.22it/s]\n",
      "切割数据:   0%|                                                                               | 0/7307 [00:00<?, ?it/s]"
     ]
    },
    {
     "name": "stdout",
     "output_type": "stream",
     "text": [
      "EvaluationMetrics: {'precision': 4.05, 'recall': 26.2, 'coverage': 69.67, 'popularity': 5.293558}\n"
     ]
    },
    {
     "name": "stderr",
     "output_type": "stream",
     "text": [
      "切割数据: 100%|███████████████████████████████████████████████████████████████████| 7307/7307 [00:19<00:00, 376.82it/s]\n",
      "用户间相似度: 100%|███████████████████████████████████████████████████████████████| 6937/6937 [00:36<00:00, 190.03it/s]\n"
     ]
    },
    {
     "name": "stdout",
     "output_type": "stream",
     "text": [
      "倒排表约使计算量减少至原来的0.26倍.\n",
      "10 20\n"
     ]
    },
    {
     "name": "stderr",
     "output_type": "stream",
     "text": [
      "推荐中: 100%|█████████████████████████████████████████████████████████████████████| 7307/7307 [01:09<00:00, 105.56it/s]\n"
     ]
    },
    {
     "name": "stdout",
     "output_type": "stream",
     "text": [
      "EvaluationMetrics: {'precision': 6.64, 'recall': 9.51, 'coverage': 92.22, 'popularity': 4.752222}\n",
      "10 50\n"
     ]
    },
    {
     "name": "stderr",
     "output_type": "stream",
     "text": [
      "推荐中: 100%|█████████████████████████████████████████████████████████████████████| 7307/7307 [01:08<00:00, 106.48it/s]\n"
     ]
    },
    {
     "name": "stdout",
     "output_type": "stream",
     "text": [
      "EvaluationMetrics: {'precision': 4.24, 'recall': 15.06, 'coverage': 99.83, 'popularity': 4.373296}\n",
      "10 90\n"
     ]
    },
    {
     "name": "stderr",
     "output_type": "stream",
     "text": [
      "推荐中: 100%|█████████████████████████████████████████████████████████████████████| 7307/7307 [01:08<00:00, 106.50it/s]\n"
     ]
    },
    {
     "name": "stdout",
     "output_type": "stream",
     "text": [
      "EvaluationMetrics: {'precision': 3.06, 'recall': 19.17, 'coverage': 99.99, 'popularity': 4.198094}\n",
      "30 20\n"
     ]
    },
    {
     "name": "stderr",
     "output_type": "stream",
     "text": [
      "推荐中: 100%|█████████████████████████████████████████████████████████████████████| 7307/7307 [01:10<00:00, 103.10it/s]\n"
     ]
    },
    {
     "name": "stdout",
     "output_type": "stream",
     "text": [
      "EvaluationMetrics: {'precision': 8.04, 'recall': 11.57, 'coverage': 64.55, 'popularity': 5.387792}\n",
      "30 50\n"
     ]
    },
    {
     "name": "stderr",
     "output_type": "stream",
     "text": [
      "推荐中: 100%|█████████████████████████████████████████████████████████████████████| 7307/7307 [01:10<00:00, 104.06it/s]\n"
     ]
    },
    {
     "name": "stdout",
     "output_type": "stream",
     "text": [
      "EvaluationMetrics: {'precision': 5.27, 'recall': 18.93, 'coverage': 93.86, 'popularity': 4.97125}\n",
      "30 90\n"
     ]
    },
    {
     "name": "stderr",
     "output_type": "stream",
     "text": [
      "推荐中: 100%|█████████████████████████████████████████████████████████████████████| 7307/7307 [01:10<00:00, 103.74it/s]\n"
     ]
    },
    {
     "name": "stdout",
     "output_type": "stream",
     "text": [
      "EvaluationMetrics: {'precision': 3.81, 'recall': 24.6, 'coverage': 99.55, 'popularity': 4.69166}\n",
      "50 20\n"
     ]
    },
    {
     "name": "stderr",
     "output_type": "stream",
     "text": [
      "推荐中: 100%|█████████████████████████████████████████████████████████████████████| 7307/7307 [01:11<00:00, 101.88it/s]\n"
     ]
    },
    {
     "name": "stdout",
     "output_type": "stream",
     "text": [
      "EvaluationMetrics: {'precision': 8.2, 'recall': 11.79, 'coverage': 45.22, 'popularity': 5.642943}\n",
      "50 50\n"
     ]
    },
    {
     "name": "stderr",
     "output_type": "stream",
     "text": [
      "推荐中: 100%|█████████████████████████████████████████████████████████████████████| 7307/7307 [01:11<00:00, 101.76it/s]\n"
     ]
    },
    {
     "name": "stdout",
     "output_type": "stream",
     "text": [
      "EvaluationMetrics: {'precision': 5.5, 'recall': 19.76, 'coverage': 80.63, 'popularity': 5.226938}\n",
      "50 90\n"
     ]
    },
    {
     "name": "stderr",
     "output_type": "stream",
     "text": [
      "推荐中: 100%|█████████████████████████████████████████████████████████████████████| 7307/7307 [01:11<00:00, 101.69it/s]\n"
     ]
    },
    {
     "name": "stdout",
     "output_type": "stream",
     "text": [
      "EvaluationMetrics: {'precision': 4.01, 'recall': 25.98, 'coverage': 96.71, 'popularity': 4.938147}\n",
      "80 20\n"
     ]
    },
    {
     "name": "stderr",
     "output_type": "stream",
     "text": [
      "推荐中: 100%|██████████████████████████████████████████████████████████████████████| 7307/7307 [01:14<00:00, 98.60it/s]\n"
     ]
    },
    {
     "name": "stdout",
     "output_type": "stream",
     "text": [
      "EvaluationMetrics: {'precision': 8.2, 'recall': 11.8, 'coverage': 30.34, 'popularity': 5.831955}\n",
      "80 50\n"
     ]
    },
    {
     "name": "stderr",
     "output_type": "stream",
     "text": [
      "推荐中: 100%|██████████████████████████████████████████████████████████████████████| 7307/7307 [01:13<00:00, 98.83it/s]\n"
     ]
    },
    {
     "name": "stdout",
     "output_type": "stream",
     "text": [
      "EvaluationMetrics: {'precision': 5.5, 'recall': 19.78, 'coverage': 61.51, 'popularity': 5.431732}\n",
      "80 90\n"
     ]
    },
    {
     "name": "stderr",
     "output_type": "stream",
     "text": [
      "推荐中: 100%|██████████████████████████████████████████████████████████████████████| 7307/7307 [01:14<00:00, 97.44it/s]\n"
     ]
    },
    {
     "name": "stdout",
     "output_type": "stream",
     "text": [
      "EvaluationMetrics: {'precision': 4.09, 'recall': 26.47, 'coverage': 86.06, 'popularity': 5.146031}\n",
      "120 20\n"
     ]
    },
    {
     "name": "stderr",
     "output_type": "stream",
     "text": [
      "推荐中: 100%|██████████████████████████████████████████████████████████████████████| 7307/7307 [01:16<00:00, 95.70it/s]\n"
     ]
    },
    {
     "name": "stdout",
     "output_type": "stream",
     "text": [
      "EvaluationMetrics: {'precision': 7.9, 'recall': 11.37, 'coverage': 20.44, 'popularity': 5.96651}\n",
      "120 50\n"
     ]
    },
    {
     "name": "stderr",
     "output_type": "stream",
     "text": [
      "推荐中: 100%|██████████████████████████████████████████████████████████████████████| 7307/7307 [01:16<00:00, 96.05it/s]\n"
     ]
    },
    {
     "name": "stdout",
     "output_type": "stream",
     "text": [
      "EvaluationMetrics: {'precision': 5.4, 'recall': 19.4, 'coverage': 45.44, 'popularity': 5.57823}\n",
      "120 90\n"
     ]
    },
    {
     "name": "stderr",
     "output_type": "stream",
     "text": [
      "推荐中: 100%|██████████████████████████████████████████████████████████████████████| 7307/7307 [01:16<00:00, 95.69it/s]\n",
      "切割数据:   0%|                                                                               | 0/7307 [00:00<?, ?it/s]"
     ]
    },
    {
     "name": "stdout",
     "output_type": "stream",
     "text": [
      "EvaluationMetrics: {'precision': 4.08, 'recall': 26.4, 'coverage': 68.98, 'popularity': 5.301011}\n"
     ]
    },
    {
     "name": "stderr",
     "output_type": "stream",
     "text": [
      "切割数据: 100%|███████████████████████████████████████████████████████████████████| 7307/7307 [00:19<00:00, 377.64it/s]\n",
      "用户间相似度: 100%|███████████████████████████████████████████████████████████████| 6937/6937 [00:40<00:00, 169.42it/s]\n"
     ]
    },
    {
     "name": "stdout",
     "output_type": "stream",
     "text": [
      "倒排表约使计算量减少至原来的0.26倍.\n",
      "10 20\n"
     ]
    },
    {
     "name": "stderr",
     "output_type": "stream",
     "text": [
      "推荐中: 100%|█████████████████████████████████████████████████████████████████████| 7307/7307 [01:08<00:00, 105.99it/s]\n"
     ]
    },
    {
     "name": "stdout",
     "output_type": "stream",
     "text": [
      "EvaluationMetrics: {'precision': 6.61, 'recall': 9.47, 'coverage': 92.11, 'popularity': 4.740641}\n",
      "10 50\n"
     ]
    },
    {
     "name": "stderr",
     "output_type": "stream",
     "text": [
      "推荐中: 100%|█████████████████████████████████████████████████████████████████████| 7307/7307 [01:08<00:00, 106.73it/s]\n"
     ]
    },
    {
     "name": "stdout",
     "output_type": "stream",
     "text": [
      "EvaluationMetrics: {'precision': 4.21, 'recall': 14.94, 'coverage': 99.9, 'popularity': 4.36337}\n",
      "10 90\n"
     ]
    },
    {
     "name": "stderr",
     "output_type": "stream",
     "text": [
      "推荐中: 100%|█████████████████████████████████████████████████████████████████████| 7307/7307 [01:08<00:00, 106.65it/s]\n"
     ]
    },
    {
     "name": "stdout",
     "output_type": "stream",
     "text": [
      "EvaluationMetrics: {'precision': 3.06, 'recall': 19.13, 'coverage': 100.0, 'popularity': 4.192361}\n",
      "30 20\n"
     ]
    },
    {
     "name": "stderr",
     "output_type": "stream",
     "text": [
      "推荐中: 100%|█████████████████████████████████████████████████████████████████████| 7307/7307 [01:10<00:00, 103.96it/s]\n"
     ]
    },
    {
     "name": "stdout",
     "output_type": "stream",
     "text": [
      "EvaluationMetrics: {'precision': 7.97, 'recall': 11.46, 'coverage': 63.92, 'popularity': 5.369952}\n",
      "30 50\n"
     ]
    },
    {
     "name": "stderr",
     "output_type": "stream",
     "text": [
      "推荐中: 100%|█████████████████████████████████████████████████████████████████████| 7307/7307 [01:10<00:00, 104.19it/s]\n"
     ]
    },
    {
     "name": "stdout",
     "output_type": "stream",
     "text": [
      "EvaluationMetrics: {'precision': 5.23, 'recall': 18.82, 'coverage': 93.93, 'popularity': 4.959858}\n",
      "30 90\n"
     ]
    },
    {
     "name": "stderr",
     "output_type": "stream",
     "text": [
      "推荐中: 100%|█████████████████████████████████████████████████████████████████████| 7307/7307 [01:10<00:00, 104.32it/s]\n"
     ]
    },
    {
     "name": "stdout",
     "output_type": "stream",
     "text": [
      "EvaluationMetrics: {'precision': 3.76, 'recall': 24.28, 'coverage': 99.63, 'popularity': 4.683859}\n",
      "50 20\n"
     ]
    },
    {
     "name": "stderr",
     "output_type": "stream",
     "text": [
      "推荐中: 100%|█████████████████████████████████████████████████████████████████████| 7307/7307 [01:11<00:00, 102.19it/s]\n"
     ]
    },
    {
     "name": "stdout",
     "output_type": "stream",
     "text": [
      "EvaluationMetrics: {'precision': 8.18, 'recall': 11.76, 'coverage': 45.6, 'popularity': 5.622056}\n",
      "50 50\n"
     ]
    },
    {
     "name": "stderr",
     "output_type": "stream",
     "text": [
      "推荐中: 100%|█████████████████████████████████████████████████████████████████████| 7307/7307 [01:11<00:00, 102.32it/s]\n"
     ]
    },
    {
     "name": "stdout",
     "output_type": "stream",
     "text": [
      "EvaluationMetrics: {'precision': 5.43, 'recall': 19.51, 'coverage': 80.52, 'popularity': 5.212221}\n",
      "50 90\n"
     ]
    },
    {
     "name": "stderr",
     "output_type": "stream",
     "text": [
      "推荐中: 100%|█████████████████████████████████████████████████████████████████████| 7307/7307 [01:11<00:00, 102.14it/s]\n"
     ]
    },
    {
     "name": "stdout",
     "output_type": "stream",
     "text": [
      "EvaluationMetrics: {'precision': 3.98, 'recall': 25.75, 'coverage': 96.89, 'popularity': 4.929346}\n",
      "80 20\n"
     ]
    },
    {
     "name": "stderr",
     "output_type": "stream",
     "text": [
      "推荐中: 100%|██████████████████████████████████████████████████████████████████████| 7307/7307 [01:13<00:00, 98.75it/s]\n"
     ]
    },
    {
     "name": "stdout",
     "output_type": "stream",
     "text": [
      "EvaluationMetrics: {'precision': 8.07, 'recall': 11.6, 'coverage': 29.91, 'popularity': 5.815479}\n",
      "80 50\n"
     ]
    },
    {
     "name": "stderr",
     "output_type": "stream",
     "text": [
      "推荐中: 100%|██████████████████████████████████████████████████████████████████████| 7307/7307 [01:13<00:00, 99.22it/s]\n"
     ]
    },
    {
     "name": "stdout",
     "output_type": "stream",
     "text": [
      "EvaluationMetrics: {'precision': 5.46, 'recall': 19.63, 'coverage': 61.7, 'popularity': 5.418199}\n",
      "80 90\n"
     ]
    },
    {
     "name": "stderr",
     "output_type": "stream",
     "text": [
      "推荐中: 100%|██████████████████████████████████████████████████████████████████████| 7307/7307 [01:13<00:00, 99.06it/s]\n"
     ]
    },
    {
     "name": "stdout",
     "output_type": "stream",
     "text": [
      "EvaluationMetrics: {'precision': 4.06, 'recall': 26.29, 'coverage': 85.99, 'popularity': 5.137561}\n",
      "120 20\n"
     ]
    },
    {
     "name": "stderr",
     "output_type": "stream",
     "text": [
      "推荐中: 100%|██████████████████████████████████████████████████████████████████████| 7307/7307 [01:16<00:00, 95.99it/s]\n"
     ]
    },
    {
     "name": "stdout",
     "output_type": "stream",
     "text": [
      "EvaluationMetrics: {'precision': 7.85, 'recall': 11.29, 'coverage': 20.44, 'popularity': 5.949546}\n",
      "120 50\n"
     ]
    },
    {
     "name": "stderr",
     "output_type": "stream",
     "text": [
      "推荐中: 100%|██████████████████████████████████████████████████████████████████████| 7307/7307 [01:15<00:00, 96.25it/s]\n"
     ]
    },
    {
     "name": "stdout",
     "output_type": "stream",
     "text": [
      "EvaluationMetrics: {'precision': 5.36, 'recall': 19.29, 'coverage': 44.6, 'popularity': 5.565337}\n",
      "120 90\n"
     ]
    },
    {
     "name": "stderr",
     "output_type": "stream",
     "text": [
      "推荐中: 100%|██████████████████████████████████████████████████████████████████████| 7307/7307 [01:16<00:00, 96.13it/s]\n",
      "切割数据:   0%|                                                                               | 0/8427 [00:00<?, ?it/s]"
     ]
    },
    {
     "name": "stdout",
     "output_type": "stream",
     "text": [
      "EvaluationMetrics: {'precision': 4.05, 'recall': 26.18, 'coverage': 69.7, 'popularity': 5.291854}\n"
     ]
    },
    {
     "name": "stderr",
     "output_type": "stream",
     "text": [
      "切割数据: 100%|███████████████████████████████████████████████████████████████████| 8427/8427 [00:13<00:00, 645.64it/s]\n",
      "用户间相似度: 100%|██████████████████████████████████████████████████████████████████| 619/619 [00:23<00:00, 26.56it/s]\n"
     ]
    },
    {
     "name": "stdout",
     "output_type": "stream",
     "text": [
      "倒排表约使计算量减少至原来的0.19倍.\n",
      "10 20\n"
     ]
    },
    {
     "name": "stderr",
     "output_type": "stream",
     "text": [
      "推荐中: 100%|██████████████████████████████████████████████████████████████████████| 8427/8427 [01:26<00:00, 97.08it/s]\n"
     ]
    },
    {
     "name": "stdout",
     "output_type": "stream",
     "text": [
      "EvaluationMetrics: {'precision': 5.08, 'recall': 16.21, 'coverage': 100.0, 'popularity': 5.38547}\n",
      "10 50\n"
     ]
    },
    {
     "name": "stderr",
     "output_type": "stream",
     "text": [
      "推荐中: 100%|██████████████████████████████████████████████████████████████████████| 8427/8427 [01:26<00:00, 97.64it/s]\n"
     ]
    },
    {
     "name": "stdout",
     "output_type": "stream",
     "text": [
      "EvaluationMetrics: {'precision': 3.96, 'recall': 25.6, 'coverage': 100.0, 'popularity': 5.257789}\n",
      "10 90\n"
     ]
    },
    {
     "name": "stderr",
     "output_type": "stream",
     "text": [
      "推荐中: 100%|██████████████████████████████████████████████████████████████████████| 8427/8427 [01:26<00:00, 97.97it/s]\n"
     ]
    },
    {
     "name": "stdout",
     "output_type": "stream",
     "text": [
      "EvaluationMetrics: {'precision': 3.65, 'recall': 31.73, 'coverage': 100.0, 'popularity': 5.214289}\n",
      "30 20\n"
     ]
    },
    {
     "name": "stderr",
     "output_type": "stream",
     "text": [
      "推荐中: 100%|██████████████████████████████████████████████████████████████████████| 8427/8427 [01:27<00:00, 96.84it/s]\n"
     ]
    },
    {
     "name": "stdout",
     "output_type": "stream",
     "text": [
      "EvaluationMetrics: {'precision': 5.96, 'recall': 21.17, 'coverage': 100.0, 'popularity': 5.625792}\n",
      "30 50\n"
     ]
    },
    {
     "name": "stderr",
     "output_type": "stream",
     "text": [
      "推荐中: 100%|██████████████████████████████████████████████████████████████████████| 8427/8427 [01:26<00:00, 97.23it/s]\n"
     ]
    },
    {
     "name": "stdout",
     "output_type": "stream",
     "text": [
      "EvaluationMetrics: {'precision': 3.87, 'recall': 33.25, 'coverage': 100.0, 'popularity': 5.380116}\n",
      "30 90\n"
     ]
    },
    {
     "name": "stderr",
     "output_type": "stream",
     "text": [
      "推荐中: 100%|██████████████████████████████████████████████████████████████████████| 8427/8427 [01:27<00:00, 96.75it/s]\n"
     ]
    },
    {
     "name": "stdout",
     "output_type": "stream",
     "text": [
      "EvaluationMetrics: {'precision': 3.02, 'recall': 43.08, 'coverage': 100.0, 'popularity': 5.251317}\n",
      "50 20\n"
     ]
    },
    {
     "name": "stderr",
     "output_type": "stream",
     "text": [
      "推荐中: 100%|██████████████████████████████████████████████████████████████████████| 8427/8427 [01:28<00:00, 95.32it/s]\n"
     ]
    },
    {
     "name": "stdout",
     "output_type": "stream",
     "text": [
      "EvaluationMetrics: {'precision': 6.46, 'recall': 23.0, 'coverage': 100.0, 'popularity': 5.786311}\n",
      "50 50\n"
     ]
    },
    {
     "name": "stderr",
     "output_type": "stream",
     "text": [
      "推荐中: 100%|██████████████████████████████████████████████████████████████████████| 8427/8427 [01:27<00:00, 96.06it/s]\n"
     ]
    },
    {
     "name": "stdout",
     "output_type": "stream",
     "text": [
      "EvaluationMetrics: {'precision': 4.08, 'recall': 35.93, 'coverage': 100.0, 'popularity': 5.478618}\n",
      "50 90\n"
     ]
    },
    {
     "name": "stderr",
     "output_type": "stream",
     "text": [
      "推荐中: 100%|██████████████████████████████████████████████████████████████████████| 8427/8427 [01:27<00:00, 96.11it/s]\n"
     ]
    },
    {
     "name": "stdout",
     "output_type": "stream",
     "text": [
      "EvaluationMetrics: {'precision': 2.99, 'recall': 46.39, 'coverage': 100.0, 'popularity': 5.303311}\n",
      "80 20\n"
     ]
    },
    {
     "name": "stderr",
     "output_type": "stream",
     "text": [
      "推荐中: 100%|██████████████████████████████████████████████████████████████████████| 8427/8427 [01:28<00:00, 95.10it/s]\n"
     ]
    },
    {
     "name": "stdout",
     "output_type": "stream",
     "text": [
      "EvaluationMetrics: {'precision': 6.65, 'recall': 24.15, 'coverage': 99.84, 'popularity': 5.91164}\n",
      "80 50\n"
     ]
    },
    {
     "name": "stderr",
     "output_type": "stream",
     "text": [
      "推荐中: 100%|██████████████████████████████████████████████████████████████████████| 8427/8427 [01:28<00:00, 95.01it/s]\n"
     ]
    },
    {
     "name": "stdout",
     "output_type": "stream",
     "text": [
      "EvaluationMetrics: {'precision': 4.22, 'recall': 37.93, 'coverage': 100.0, 'popularity': 5.579507}\n",
      "80 90\n"
     ]
    },
    {
     "name": "stderr",
     "output_type": "stream",
     "text": [
      "推荐中: 100%|██████████████████████████████████████████████████████████████████████| 8427/8427 [01:29<00:00, 94.32it/s]\n"
     ]
    },
    {
     "name": "stdout",
     "output_type": "stream",
     "text": [
      "EvaluationMetrics: {'precision': 3.07, 'recall': 49.02, 'coverage': 100.0, 'popularity': 5.37735}\n",
      "120 20\n"
     ]
    },
    {
     "name": "stderr",
     "output_type": "stream",
     "text": [
      "推荐中: 100%|██████████████████████████████████████████████████████████████████████| 8427/8427 [01:29<00:00, 93.66it/s]\n"
     ]
    },
    {
     "name": "stdout",
     "output_type": "stream",
     "text": [
      "EvaluationMetrics: {'precision': 6.84, 'recall': 24.86, 'coverage': 97.42, 'popularity': 6.020237}\n",
      "120 50\n"
     ]
    },
    {
     "name": "stderr",
     "output_type": "stream",
     "text": [
      "推荐中: 100%|██████████████████████████████████████████████████████████████████████| 8427/8427 [01:29<00:00, 94.05it/s]\n"
     ]
    },
    {
     "name": "stdout",
     "output_type": "stream",
     "text": [
      "EvaluationMetrics: {'precision': 4.3, 'recall': 39.09, 'coverage': 100.0, 'popularity': 5.660529}\n",
      "120 90\n"
     ]
    },
    {
     "name": "stderr",
     "output_type": "stream",
     "text": [
      "推荐中: 100%|██████████████████████████████████████████████████████████████████████| 8427/8427 [01:29<00:00, 93.73it/s]\n",
      "切割数据:   0%|                                                                               | 0/8427 [00:00<?, ?it/s]"
     ]
    },
    {
     "name": "stdout",
     "output_type": "stream",
     "text": [
      "EvaluationMetrics: {'precision': 3.13, 'recall': 50.8, 'coverage': 100.0, 'popularity': 5.444675}\n"
     ]
    },
    {
     "name": "stderr",
     "output_type": "stream",
     "text": [
      "切割数据: 100%|███████████████████████████████████████████████████████████████████| 8427/8427 [00:12<00:00, 648.42it/s]\n",
      "用户间相似度: 100%|██████████████████████████████████████████████████████████████████| 619/619 [00:23<00:00, 26.47it/s]\n"
     ]
    },
    {
     "name": "stdout",
     "output_type": "stream",
     "text": [
      "倒排表约使计算量减少至原来的0.19倍.\n",
      "10 20\n"
     ]
    },
    {
     "name": "stderr",
     "output_type": "stream",
     "text": [
      "推荐中: 100%|██████████████████████████████████████████████████████████████████████| 8427/8427 [01:26<00:00, 97.21it/s]\n"
     ]
    },
    {
     "name": "stdout",
     "output_type": "stream",
     "text": [
      "EvaluationMetrics: {'precision': 5.04, 'recall': 16.13, 'coverage': 100.0, 'popularity': 5.382132}\n",
      "10 50\n"
     ]
    },
    {
     "name": "stderr",
     "output_type": "stream",
     "text": [
      "推荐中: 100%|██████████████████████████████████████████████████████████████████████| 8427/8427 [01:26<00:00, 97.36it/s]\n"
     ]
    },
    {
     "name": "stdout",
     "output_type": "stream",
     "text": [
      "EvaluationMetrics: {'precision': 3.95, 'recall': 25.67, 'coverage': 100.0, 'popularity': 5.263284}\n",
      "10 90\n"
     ]
    },
    {
     "name": "stderr",
     "output_type": "stream",
     "text": [
      "推荐中: 100%|██████████████████████████████████████████████████████████████████████| 8427/8427 [01:26<00:00, 96.94it/s]\n"
     ]
    },
    {
     "name": "stdout",
     "output_type": "stream",
     "text": [
      "EvaluationMetrics: {'precision': 3.63, 'recall': 31.76, 'coverage': 100.0, 'popularity': 5.21583}\n",
      "30 20\n"
     ]
    },
    {
     "name": "stderr",
     "output_type": "stream",
     "text": [
      "推荐中: 100%|██████████████████████████████████████████████████████████████████████| 8427/8427 [01:27<00:00, 96.44it/s]\n"
     ]
    },
    {
     "name": "stdout",
     "output_type": "stream",
     "text": [
      "EvaluationMetrics: {'precision': 6.06, 'recall': 21.46, 'coverage': 100.0, 'popularity': 5.6401}\n",
      "30 50\n"
     ]
    },
    {
     "name": "stderr",
     "output_type": "stream",
     "text": [
      "推荐中: 100%|██████████████████████████████████████████████████████████████████████| 8427/8427 [01:27<00:00, 96.71it/s]\n"
     ]
    },
    {
     "name": "stdout",
     "output_type": "stream",
     "text": [
      "EvaluationMetrics: {'precision': 3.92, 'recall': 33.61, 'coverage': 100.0, 'popularity': 5.389996}\n",
      "30 90\n"
     ]
    },
    {
     "name": "stderr",
     "output_type": "stream",
     "text": [
      "推荐中: 100%|██████████████████████████████████████████████████████████████████████| 8427/8427 [01:27<00:00, 95.96it/s]\n"
     ]
    },
    {
     "name": "stdout",
     "output_type": "stream",
     "text": [
      "EvaluationMetrics: {'precision': 3.01, 'recall': 43.07, 'coverage': 100.0, 'popularity': 5.252996}\n",
      "50 20\n"
     ]
    },
    {
     "name": "stderr",
     "output_type": "stream",
     "text": [
      "推荐中: 100%|██████████████████████████████████████████████████████████████████████| 8427/8427 [01:28<00:00, 95.02it/s]\n"
     ]
    },
    {
     "name": "stdout",
     "output_type": "stream",
     "text": [
      "EvaluationMetrics: {'precision': 6.51, 'recall': 23.2, 'coverage': 100.0, 'popularity': 5.79567}\n",
      "50 50\n"
     ]
    },
    {
     "name": "stderr",
     "output_type": "stream",
     "text": [
      "推荐中: 100%|██████████████████████████████████████████████████████████████████████| 8427/8427 [01:27<00:00, 95.87it/s]\n"
     ]
    },
    {
     "name": "stdout",
     "output_type": "stream",
     "text": [
      "EvaluationMetrics: {'precision': 4.11, 'recall': 36.09, 'coverage': 100.0, 'popularity': 5.485354}\n",
      "50 90\n"
     ]
    },
    {
     "name": "stderr",
     "output_type": "stream",
     "text": [
      "推荐中: 100%|██████████████████████████████████████████████████████████████████████| 8427/8427 [01:27<00:00, 95.77it/s]\n"
     ]
    },
    {
     "name": "stdout",
     "output_type": "stream",
     "text": [
      "EvaluationMetrics: {'precision': 3.01, 'recall': 46.48, 'coverage': 100.0, 'popularity': 5.309545}\n",
      "80 20\n"
     ]
    },
    {
     "name": "stderr",
     "output_type": "stream",
     "text": [
      "推荐中: 100%|██████████████████████████████████████████████████████████████████████| 8427/8427 [01:29<00:00, 94.44it/s]\n"
     ]
    },
    {
     "name": "stdout",
     "output_type": "stream",
     "text": [
      "EvaluationMetrics: {'precision': 6.67, 'recall': 24.22, 'coverage': 100.0, 'popularity': 5.918501}\n",
      "80 50\n"
     ]
    },
    {
     "name": "stderr",
     "output_type": "stream",
     "text": [
      "推荐中: 100%|██████████████████████████████████████████████████████████████████████| 8427/8427 [01:28<00:00, 94.92it/s]\n"
     ]
    },
    {
     "name": "stdout",
     "output_type": "stream",
     "text": [
      "EvaluationMetrics: {'precision': 4.22, 'recall': 37.95, 'coverage': 100.0, 'popularity': 5.584559}\n",
      "80 90\n"
     ]
    },
    {
     "name": "stderr",
     "output_type": "stream",
     "text": [
      "推荐中: 100%|██████████████████████████████████████████████████████████████████████| 8427/8427 [01:29<00:00, 94.43it/s]\n"
     ]
    },
    {
     "name": "stdout",
     "output_type": "stream",
     "text": [
      "EvaluationMetrics: {'precision': 3.08, 'recall': 49.05, 'coverage': 100.0, 'popularity': 5.381538}\n",
      "120 20\n"
     ]
    },
    {
     "name": "stderr",
     "output_type": "stream",
     "text": [
      "推荐中: 100%|██████████████████████████████████████████████████████████████████████| 8427/8427 [01:29<00:00, 93.92it/s]\n"
     ]
    },
    {
     "name": "stdout",
     "output_type": "stream",
     "text": [
      "EvaluationMetrics: {'precision': 6.84, 'recall': 24.85, 'coverage': 97.9, 'popularity': 6.025933}\n",
      "120 50\n"
     ]
    },
    {
     "name": "stderr",
     "output_type": "stream",
     "text": [
      "推荐中: 100%|██████████████████████████████████████████████████████████████████████| 8427/8427 [01:29<00:00, 93.80it/s]\n"
     ]
    },
    {
     "name": "stdout",
     "output_type": "stream",
     "text": [
      "EvaluationMetrics: {'precision': 4.31, 'recall': 39.16, 'coverage': 100.0, 'popularity': 5.666582}\n",
      "120 90\n"
     ]
    },
    {
     "name": "stderr",
     "output_type": "stream",
     "text": [
      "推荐中: 100%|██████████████████████████████████████████████████████████████████████| 8427/8427 [01:30<00:00, 92.98it/s]\n",
      "切割数据:   0%|                                                                               | 0/8427 [00:00<?, ?it/s]"
     ]
    },
    {
     "name": "stdout",
     "output_type": "stream",
     "text": [
      "EvaluationMetrics: {'precision': 3.13, 'recall': 50.65, 'coverage': 100.0, 'popularity': 5.44894}\n"
     ]
    },
    {
     "name": "stderr",
     "output_type": "stream",
     "text": [
      "切割数据: 100%|███████████████████████████████████████████████████████████████████| 8427/8427 [00:13<00:00, 635.64it/s]\n",
      "用户间相似度: 100%|██████████████████████████████████████████████████████████████████| 619/619 [00:23<00:00, 26.52it/s]\n"
     ]
    },
    {
     "name": "stdout",
     "output_type": "stream",
     "text": [
      "倒排表约使计算量减少至原来的0.19倍.\n",
      "10 20\n"
     ]
    },
    {
     "name": "stderr",
     "output_type": "stream",
     "text": [
      "推荐中: 100%|██████████████████████████████████████████████████████████████████████| 8427/8427 [01:26<00:00, 97.35it/s]\n"
     ]
    },
    {
     "name": "stdout",
     "output_type": "stream",
     "text": [
      "EvaluationMetrics: {'precision': 5.0, 'recall': 15.98, 'coverage': 100.0, 'popularity': 5.383189}\n",
      "10 50\n"
     ]
    },
    {
     "name": "stderr",
     "output_type": "stream",
     "text": [
      "推荐中: 100%|██████████████████████████████████████████████████████████████████████| 8427/8427 [01:26<00:00, 97.43it/s]\n"
     ]
    },
    {
     "name": "stdout",
     "output_type": "stream",
     "text": [
      "EvaluationMetrics: {'precision': 3.95, 'recall': 25.7, 'coverage': 100.0, 'popularity': 5.257715}\n",
      "10 90\n"
     ]
    },
    {
     "name": "stderr",
     "output_type": "stream",
     "text": [
      "推荐中: 100%|██████████████████████████████████████████████████████████████████████| 8427/8427 [01:26<00:00, 97.68it/s]\n"
     ]
    },
    {
     "name": "stdout",
     "output_type": "stream",
     "text": [
      "EvaluationMetrics: {'precision': 3.63, 'recall': 31.75, 'coverage': 100.0, 'popularity': 5.216571}\n",
      "30 20\n"
     ]
    },
    {
     "name": "stderr",
     "output_type": "stream",
     "text": [
      "推荐中: 100%|██████████████████████████████████████████████████████████████████████| 8427/8427 [01:26<00:00, 96.95it/s]\n"
     ]
    },
    {
     "name": "stdout",
     "output_type": "stream",
     "text": [
      "EvaluationMetrics: {'precision': 5.96, 'recall': 21.16, 'coverage': 100.0, 'popularity': 5.638933}\n",
      "30 50\n"
     ]
    },
    {
     "name": "stderr",
     "output_type": "stream",
     "text": [
      "推荐中: 100%|██████████████████████████████████████████████████████████████████████| 8427/8427 [01:26<00:00, 97.18it/s]\n"
     ]
    },
    {
     "name": "stdout",
     "output_type": "stream",
     "text": [
      "EvaluationMetrics: {'precision': 3.88, 'recall': 33.37, 'coverage': 100.0, 'popularity': 5.388142}\n",
      "30 90\n"
     ]
    },
    {
     "name": "stderr",
     "output_type": "stream",
     "text": [
      "推荐中: 100%|██████████████████████████████████████████████████████████████████████| 8427/8427 [01:26<00:00, 96.87it/s]\n"
     ]
    },
    {
     "name": "stdout",
     "output_type": "stream",
     "text": [
      "EvaluationMetrics: {'precision': 3.01, 'recall': 43.09, 'coverage': 100.0, 'popularity': 5.254681}\n",
      "50 20\n"
     ]
    },
    {
     "name": "stderr",
     "output_type": "stream",
     "text": [
      "推荐中: 100%|██████████████████████████████████████████████████████████████████████| 8427/8427 [01:28<00:00, 95.61it/s]\n"
     ]
    },
    {
     "name": "stdout",
     "output_type": "stream",
     "text": [
      "EvaluationMetrics: {'precision': 6.48, 'recall': 23.08, 'coverage': 99.84, 'popularity': 5.788342}\n",
      "50 50\n"
     ]
    },
    {
     "name": "stderr",
     "output_type": "stream",
     "text": [
      "推荐中: 100%|██████████████████████████████████████████████████████████████████████| 8427/8427 [01:28<00:00, 95.48it/s]\n"
     ]
    },
    {
     "name": "stdout",
     "output_type": "stream",
     "text": [
      "EvaluationMetrics: {'precision': 4.11, 'recall': 36.18, 'coverage': 100.0, 'popularity': 5.477747}\n",
      "50 90\n"
     ]
    },
    {
     "name": "stderr",
     "output_type": "stream",
     "text": [
      "推荐中: 100%|██████████████████████████████████████████████████████████████████████| 8427/8427 [01:27<00:00, 96.13it/s]\n"
     ]
    },
    {
     "name": "stdout",
     "output_type": "stream",
     "text": [
      "EvaluationMetrics: {'precision': 3.0, 'recall': 46.59, 'coverage': 100.0, 'popularity': 5.306601}\n",
      "80 20\n"
     ]
    },
    {
     "name": "stderr",
     "output_type": "stream",
     "text": [
      "推荐中: 100%|██████████████████████████████████████████████████████████████████████| 8427/8427 [01:28<00:00, 94.98it/s]\n"
     ]
    },
    {
     "name": "stdout",
     "output_type": "stream",
     "text": [
      "EvaluationMetrics: {'precision': 6.65, 'recall': 24.14, 'coverage': 99.84, 'popularity': 5.91324}\n",
      "80 50\n"
     ]
    },
    {
     "name": "stderr",
     "output_type": "stream",
     "text": [
      "推荐中: 100%|██████████████████████████████████████████████████████████████████████| 8427/8427 [01:28<00:00, 95.01it/s]\n"
     ]
    },
    {
     "name": "stdout",
     "output_type": "stream",
     "text": [
      "EvaluationMetrics: {'precision': 4.24, 'recall': 37.95, 'coverage': 100.0, 'popularity': 5.58243}\n",
      "80 90\n"
     ]
    },
    {
     "name": "stderr",
     "output_type": "stream",
     "text": [
      "推荐中: 100%|██████████████████████████████████████████████████████████████████████| 8427/8427 [01:28<00:00, 94.72it/s]\n"
     ]
    },
    {
     "name": "stdout",
     "output_type": "stream",
     "text": [
      "EvaluationMetrics: {'precision': 3.08, 'recall': 49.06, 'coverage': 100.0, 'popularity': 5.379496}\n",
      "120 20\n"
     ]
    },
    {
     "name": "stderr",
     "output_type": "stream",
     "text": [
      "推荐中: 100%|██████████████████████████████████████████████████████████████████████| 8427/8427 [01:30<00:00, 93.51it/s]\n"
     ]
    },
    {
     "name": "stdout",
     "output_type": "stream",
     "text": [
      "EvaluationMetrics: {'precision': 6.79, 'recall': 24.68, 'coverage': 98.38, 'popularity': 6.023569}\n",
      "120 50\n"
     ]
    },
    {
     "name": "stderr",
     "output_type": "stream",
     "text": [
      "推荐中: 100%|██████████████████████████████████████████████████████████████████████| 8427/8427 [01:29<00:00, 93.70it/s]\n"
     ]
    },
    {
     "name": "stdout",
     "output_type": "stream",
     "text": [
      "EvaluationMetrics: {'precision': 4.3, 'recall': 39.03, 'coverage': 100.0, 'popularity': 5.666437}\n",
      "120 90\n"
     ]
    },
    {
     "name": "stderr",
     "output_type": "stream",
     "text": [
      "推荐中: 100%|██████████████████████████████████████████████████████████████████████| 8427/8427 [01:29<00:00, 93.74it/s]\n",
      "切割数据:   0%|                                                                               | 0/8496 [00:00<?, ?it/s]"
     ]
    },
    {
     "name": "stdout",
     "output_type": "stream",
     "text": [
      "EvaluationMetrics: {'precision': 3.13, 'recall': 50.58, 'coverage': 100.0, 'popularity': 5.449541}\n"
     ]
    },
    {
     "name": "stderr",
     "output_type": "stream",
     "text": [
      "切割数据: 100%|███████████████████████████████████████████████████████████████████| 8496/8496 [00:13<00:00, 611.45it/s]\n",
      "用户间相似度: 100%|████████████████████████████████████████████████████████████████| 1069/1069 [00:27<00:00, 39.31it/s]\n"
     ]
    },
    {
     "name": "stdout",
     "output_type": "stream",
     "text": [
      "倒排表约使计算量减少至原来的0.2倍.\n",
      "10 20\n"
     ]
    },
    {
     "name": "stderr",
     "output_type": "stream",
     "text": [
      "推荐中: 100%|██████████████████████████████████████████████████████████████████████| 8496/8496 [01:29<00:00, 95.45it/s]\n"
     ]
    },
    {
     "name": "stdout",
     "output_type": "stream",
     "text": [
      "EvaluationMetrics: {'precision': 5.13, 'recall': 14.09, 'coverage': 100.0, 'popularity': 5.198225}\n",
      "10 50\n"
     ]
    },
    {
     "name": "stderr",
     "output_type": "stream",
     "text": [
      "推荐中: 100%|██████████████████████████████████████████████████████████████████████| 8496/8496 [01:28<00:00, 95.68it/s]\n"
     ]
    },
    {
     "name": "stdout",
     "output_type": "stream",
     "text": [
      "EvaluationMetrics: {'precision': 3.71, 'recall': 22.09, 'coverage': 100.0, 'popularity': 5.04605}\n",
      "10 90\n"
     ]
    },
    {
     "name": "stderr",
     "output_type": "stream",
     "text": [
      "推荐中: 100%|██████████████████████████████████████████████████████████████████████| 8496/8496 [01:28<00:00, 96.01it/s]\n"
     ]
    },
    {
     "name": "stdout",
     "output_type": "stream",
     "text": [
      "EvaluationMetrics: {'precision': 3.22, 'recall': 28.17, 'coverage': 100.0, 'popularity': 4.98341}\n",
      "30 20\n"
     ]
    },
    {
     "name": "stderr",
     "output_type": "stream",
     "text": [
      "推荐中: 100%|██████████████████████████████████████████████████████████████████████| 8496/8496 [01:30<00:00, 94.26it/s]\n"
     ]
    },
    {
     "name": "stdout",
     "output_type": "stream",
     "text": [
      "EvaluationMetrics: {'precision': 6.3, 'recall': 18.3, 'coverage': 100.0, 'popularity': 5.555539}\n",
      "30 50\n"
     ]
    },
    {
     "name": "stderr",
     "output_type": "stream",
     "text": [
      "推荐中: 100%|██████████████████████████████████████████████████████████████████████| 8496/8496 [01:30<00:00, 94.38it/s]\n"
     ]
    },
    {
     "name": "stdout",
     "output_type": "stream",
     "text": [
      "EvaluationMetrics: {'precision': 4.01, 'recall': 28.65, 'coverage': 100.0, 'popularity': 5.244414}\n",
      "30 90\n"
     ]
    },
    {
     "name": "stderr",
     "output_type": "stream",
     "text": [
      "推荐中: 100%|██████████████████████████████████████████████████████████████████████| 8496/8496 [01:29<00:00, 94.44it/s]\n"
     ]
    },
    {
     "name": "stdout",
     "output_type": "stream",
     "text": [
      "EvaluationMetrics: {'precision': 2.97, 'recall': 36.72, 'coverage': 100.0, 'popularity': 5.080898}\n",
      "50 20\n"
     ]
    },
    {
     "name": "stderr",
     "output_type": "stream",
     "text": [
      "推荐中: 100%|██████████████████████████████████████████████████████████████████████| 8496/8496 [01:30<00:00, 93.68it/s]\n"
     ]
    },
    {
     "name": "stdout",
     "output_type": "stream",
     "text": [
      "EvaluationMetrics: {'precision': 6.67, 'recall': 19.7, 'coverage': 99.91, 'popularity': 5.72573}\n",
      "50 50\n"
     ]
    },
    {
     "name": "stderr",
     "output_type": "stream",
     "text": [
      "推荐中: 100%|██████████████████████████████████████████████████████████████████████| 8496/8496 [01:30<00:00, 93.53it/s]\n"
     ]
    },
    {
     "name": "stdout",
     "output_type": "stream",
     "text": [
      "EvaluationMetrics: {'precision': 4.21, 'recall': 30.69, 'coverage': 100.0, 'popularity': 5.383773}\n",
      "50 90\n"
     ]
    },
    {
     "name": "stderr",
     "output_type": "stream",
     "text": [
      "推荐中: 100%|██████████████████████████████████████████████████████████████████████| 8496/8496 [01:30<00:00, 93.94it/s]\n"
     ]
    },
    {
     "name": "stdout",
     "output_type": "stream",
     "text": [
      "EvaluationMetrics: {'precision': 3.05, 'recall': 39.46, 'coverage': 100.0, 'popularity': 5.173806}\n",
      "80 20\n"
     ]
    },
    {
     "name": "stderr",
     "output_type": "stream",
     "text": [
      "推荐中: 100%|██████████████████████████████████████████████████████████████████████| 8496/8496 [01:31<00:00, 92.65it/s]\n"
     ]
    },
    {
     "name": "stdout",
     "output_type": "stream",
     "text": [
      "EvaluationMetrics: {'precision': 6.86, 'recall': 20.31, 'coverage': 96.54, 'popularity': 5.883504}\n",
      "80 50\n"
     ]
    },
    {
     "name": "stderr",
     "output_type": "stream",
     "text": [
      "推荐中: 100%|██████████████████████████████████████████████████████████████████████| 8496/8496 [01:31<00:00, 92.53it/s]\n"
     ]
    },
    {
     "name": "stdout",
     "output_type": "stream",
     "text": [
      "EvaluationMetrics: {'precision': 4.35, 'recall': 32.17, 'coverage': 100.0, 'popularity': 5.511236}\n",
      "80 90\n"
     ]
    },
    {
     "name": "stderr",
     "output_type": "stream",
     "text": [
      "推荐中: 100%|██████████████████████████████████████████████████████████████████████| 8496/8496 [01:32<00:00, 91.90it/s]\n"
     ]
    },
    {
     "name": "stdout",
     "output_type": "stream",
     "text": [
      "EvaluationMetrics: {'precision': 3.17, 'recall': 41.73, 'coverage': 100.0, 'popularity': 5.279049}\n",
      "120 20\n"
     ]
    },
    {
     "name": "stderr",
     "output_type": "stream",
     "text": [
      "推荐中: 100%|██████████████████████████████████████████████████████████████████████| 8496/8496 [01:32<00:00, 91.37it/s]\n"
     ]
    },
    {
     "name": "stdout",
     "output_type": "stream",
     "text": [
      "EvaluationMetrics: {'precision': 6.94, 'recall': 20.54, 'coverage': 88.77, 'popularity': 6.003527}\n",
      "120 50\n"
     ]
    },
    {
     "name": "stderr",
     "output_type": "stream",
     "text": [
      "推荐中: 100%|██████████████████████████████████████████████████████████████████████| 8496/8496 [01:33<00:00, 90.55it/s]\n"
     ]
    },
    {
     "name": "stdout",
     "output_type": "stream",
     "text": [
      "EvaluationMetrics: {'precision': 4.46, 'recall': 33.04, 'coverage': 99.91, 'popularity': 5.618586}\n",
      "120 90\n"
     ]
    },
    {
     "name": "stderr",
     "output_type": "stream",
     "text": [
      "推荐中: 100%|██████████████████████████████████████████████████████████████████████| 8496/8496 [01:33<00:00, 91.09it/s]\n",
      "切割数据:   0%|                                                                               | 0/8496 [00:00<?, ?it/s]"
     ]
    },
    {
     "name": "stdout",
     "output_type": "stream",
     "text": [
      "EvaluationMetrics: {'precision': 3.22, 'recall': 42.77, 'coverage': 100.0, 'popularity': 5.372134}\n"
     ]
    },
    {
     "name": "stderr",
     "output_type": "stream",
     "text": [
      "切割数据: 100%|███████████████████████████████████████████████████████████████████| 8496/8496 [00:13<00:00, 609.35it/s]\n",
      "用户间相似度: 100%|████████████████████████████████████████████████████████████████| 1069/1069 [00:27<00:00, 39.38it/s]\n"
     ]
    },
    {
     "name": "stdout",
     "output_type": "stream",
     "text": [
      "倒排表约使计算量减少至原来的0.2倍.\n",
      "10 20\n"
     ]
    },
    {
     "name": "stderr",
     "output_type": "stream",
     "text": [
      "推荐中: 100%|██████████████████████████████████████████████████████████████████████| 8496/8496 [01:28<00:00, 95.49it/s]\n"
     ]
    },
    {
     "name": "stdout",
     "output_type": "stream",
     "text": [
      "EvaluationMetrics: {'precision': 5.03, 'recall': 13.78, 'coverage': 100.0, 'popularity': 5.201503}\n",
      "10 50\n"
     ]
    },
    {
     "name": "stderr",
     "output_type": "stream",
     "text": [
      "推荐中: 100%|██████████████████████████████████████████████████████████████████████| 8496/8496 [01:28<00:00, 95.68it/s]\n"
     ]
    },
    {
     "name": "stdout",
     "output_type": "stream",
     "text": [
      "EvaluationMetrics: {'precision': 3.67, 'recall': 21.83, 'coverage': 100.0, 'popularity': 5.040522}\n",
      "10 90\n"
     ]
    },
    {
     "name": "stderr",
     "output_type": "stream",
     "text": [
      "推荐中: 100%|██████████████████████████████████████████████████████████████████████| 8496/8496 [01:28<00:00, 96.25it/s]\n"
     ]
    },
    {
     "name": "stdout",
     "output_type": "stream",
     "text": [
      "EvaluationMetrics: {'precision': 3.22, 'recall': 28.11, 'coverage': 100.0, 'popularity': 4.980661}\n",
      "30 20\n"
     ]
    },
    {
     "name": "stderr",
     "output_type": "stream",
     "text": [
      "推荐中: 100%|██████████████████████████████████████████████████████████████████████| 8496/8496 [01:29<00:00, 94.93it/s]\n"
     ]
    },
    {
     "name": "stdout",
     "output_type": "stream",
     "text": [
      "EvaluationMetrics: {'precision': 6.22, 'recall': 18.06, 'coverage': 100.0, 'popularity': 5.545617}\n",
      "30 50\n"
     ]
    },
    {
     "name": "stderr",
     "output_type": "stream",
     "text": [
      "推荐中: 100%|██████████████████████████████████████████████████████████████████████| 8496/8496 [01:29<00:00, 95.26it/s]\n"
     ]
    },
    {
     "name": "stdout",
     "output_type": "stream",
     "text": [
      "EvaluationMetrics: {'precision': 3.96, 'recall': 28.22, 'coverage': 100.0, 'popularity': 5.243949}\n",
      "30 90\n"
     ]
    },
    {
     "name": "stderr",
     "output_type": "stream",
     "text": [
      "推荐中: 100%|██████████████████████████████████████████████████████████████████████| 8496/8496 [01:29<00:00, 95.08it/s]\n"
     ]
    },
    {
     "name": "stdout",
     "output_type": "stream",
     "text": [
      "EvaluationMetrics: {'precision': 2.98, 'recall': 36.75, 'coverage': 100.0, 'popularity': 5.080057}\n",
      "50 20\n"
     ]
    },
    {
     "name": "stderr",
     "output_type": "stream",
     "text": [
      "推荐中: 100%|██████████████████████████████████████████████████████████████████████| 8496/8496 [01:30<00:00, 93.77it/s]\n"
     ]
    },
    {
     "name": "stdout",
     "output_type": "stream",
     "text": [
      "EvaluationMetrics: {'precision': 6.62, 'recall': 19.55, 'coverage': 99.35, 'popularity': 5.725404}\n",
      "50 50\n"
     ]
    },
    {
     "name": "stderr",
     "output_type": "stream",
     "text": [
      "推荐中: 100%|██████████████████████████████████████████████████████████████████████| 8496/8496 [01:30<00:00, 94.24it/s]\n"
     ]
    },
    {
     "name": "stdout",
     "output_type": "stream",
     "text": [
      "EvaluationMetrics: {'precision': 4.23, 'recall': 30.81, 'coverage': 100.0, 'popularity': 5.380459}\n",
      "50 90\n"
     ]
    },
    {
     "name": "stderr",
     "output_type": "stream",
     "text": [
      "推荐中: 100%|██████████████████████████████████████████████████████████████████████| 8496/8496 [01:30<00:00, 94.06it/s]\n"
     ]
    },
    {
     "name": "stdout",
     "output_type": "stream",
     "text": [
      "EvaluationMetrics: {'precision': 3.08, 'recall': 39.71, 'coverage': 100.0, 'popularity': 5.174267}\n",
      "80 20\n"
     ]
    },
    {
     "name": "stderr",
     "output_type": "stream",
     "text": [
      "推荐中: 100%|██████████████████████████████████████████████████████████████████████| 8496/8496 [01:31<00:00, 93.08it/s]\n"
     ]
    },
    {
     "name": "stdout",
     "output_type": "stream",
     "text": [
      "EvaluationMetrics: {'precision': 6.88, 'recall': 20.37, 'coverage': 96.45, 'popularity': 5.87966}\n",
      "80 50\n"
     ]
    },
    {
     "name": "stderr",
     "output_type": "stream",
     "text": [
      "推荐中: 100%|██████████████████████████████████████████████████████████████████████| 8496/8496 [01:31<00:00, 93.09it/s]\n"
     ]
    },
    {
     "name": "stdout",
     "output_type": "stream",
     "text": [
      "EvaluationMetrics: {'precision': 4.37, 'recall': 32.27, 'coverage': 100.0, 'popularity': 5.51069}\n",
      "80 90\n"
     ]
    },
    {
     "name": "stderr",
     "output_type": "stream",
     "text": [
      "推荐中: 100%|██████████████████████████████████████████████████████████████████████| 8496/8496 [01:31<00:00, 92.93it/s]\n"
     ]
    },
    {
     "name": "stdout",
     "output_type": "stream",
     "text": [
      "EvaluationMetrics: {'precision': 3.18, 'recall': 41.88, 'coverage': 100.0, 'popularity': 5.282175}\n",
      "120 20\n"
     ]
    },
    {
     "name": "stderr",
     "output_type": "stream",
     "text": [
      "推荐中: 100%|██████████████████████████████████████████████████████████████████████| 8496/8496 [01:33<00:00, 90.96it/s]\n"
     ]
    },
    {
     "name": "stdout",
     "output_type": "stream",
     "text": [
      "EvaluationMetrics: {'precision': 6.96, 'recall': 20.62, 'coverage': 88.49, 'popularity': 5.998997}\n",
      "120 50\n"
     ]
    },
    {
     "name": "stderr",
     "output_type": "stream",
     "text": [
      "推荐中: 100%|██████████████████████████████████████████████████████████████████████| 8496/8496 [01:32<00:00, 91.84it/s]\n"
     ]
    },
    {
     "name": "stdout",
     "output_type": "stream",
     "text": [
      "EvaluationMetrics: {'precision': 4.46, 'recall': 32.99, 'coverage': 99.81, 'popularity': 5.61757}\n",
      "120 90\n"
     ]
    },
    {
     "name": "stderr",
     "output_type": "stream",
     "text": [
      "推荐中: 100%|██████████████████████████████████████████████████████████████████████| 8496/8496 [01:33<00:00, 91.26it/s]\n",
      "切割数据:   0%|                                                                               | 0/8496 [00:00<?, ?it/s]"
     ]
    },
    {
     "name": "stdout",
     "output_type": "stream",
     "text": [
      "EvaluationMetrics: {'precision': 3.25, 'recall': 43.09, 'coverage': 100.0, 'popularity': 5.377744}\n"
     ]
    },
    {
     "name": "stderr",
     "output_type": "stream",
     "text": [
      "切割数据: 100%|███████████████████████████████████████████████████████████████████| 8496/8496 [00:14<00:00, 605.28it/s]\n",
      "用户间相似度: 100%|████████████████████████████████████████████████████████████████| 1069/1069 [00:27<00:00, 39.47it/s]\n"
     ]
    },
    {
     "name": "stdout",
     "output_type": "stream",
     "text": [
      "倒排表约使计算量减少至原来的0.2倍.\n",
      "10 20\n"
     ]
    },
    {
     "name": "stderr",
     "output_type": "stream",
     "text": [
      "推荐中: 100%|██████████████████████████████████████████████████████████████████████| 8496/8496 [01:29<00:00, 95.25it/s]\n"
     ]
    },
    {
     "name": "stdout",
     "output_type": "stream",
     "text": [
      "EvaluationMetrics: {'precision': 5.03, 'recall': 13.83, 'coverage': 100.0, 'popularity': 5.212914}\n",
      "10 50\n"
     ]
    },
    {
     "name": "stderr",
     "output_type": "stream",
     "text": [
      "推荐中: 100%|██████████████████████████████████████████████████████████████████████| 8496/8496 [01:29<00:00, 95.30it/s]\n"
     ]
    },
    {
     "name": "stdout",
     "output_type": "stream",
     "text": [
      "EvaluationMetrics: {'precision': 3.67, 'recall': 21.87, 'coverage': 100.0, 'popularity': 5.047317}\n",
      "10 90\n"
     ]
    },
    {
     "name": "stderr",
     "output_type": "stream",
     "text": [
      "推荐中: 100%|██████████████████████████████████████████████████████████████████████| 8496/8496 [01:29<00:00, 95.35it/s]\n"
     ]
    },
    {
     "name": "stdout",
     "output_type": "stream",
     "text": [
      "EvaluationMetrics: {'precision': 3.22, 'recall': 28.24, 'coverage': 100.0, 'popularity': 4.982193}\n",
      "30 20\n"
     ]
    },
    {
     "name": "stderr",
     "output_type": "stream",
     "text": [
      "推荐中: 100%|██████████████████████████████████████████████████████████████████████| 8496/8496 [01:30<00:00, 94.33it/s]\n"
     ]
    },
    {
     "name": "stdout",
     "output_type": "stream",
     "text": [
      "EvaluationMetrics: {'precision': 6.26, 'recall': 18.15, 'coverage': 100.0, 'popularity': 5.565235}\n",
      "30 50\n"
     ]
    },
    {
     "name": "stderr",
     "output_type": "stream",
     "text": [
      "推荐中: 100%|██████████████████████████████████████████████████████████████████████| 8496/8496 [01:29<00:00, 94.70it/s]\n"
     ]
    },
    {
     "name": "stdout",
     "output_type": "stream",
     "text": [
      "EvaluationMetrics: {'precision': 3.99, 'recall': 28.4, 'coverage': 100.0, 'popularity': 5.250918}\n",
      "30 90\n"
     ]
    },
    {
     "name": "stderr",
     "output_type": "stream",
     "text": [
      "推荐中: 100%|██████████████████████████████████████████████████████████████████████| 8496/8496 [01:29<00:00, 94.71it/s]\n"
     ]
    },
    {
     "name": "stdout",
     "output_type": "stream",
     "text": [
      "EvaluationMetrics: {'precision': 2.94, 'recall': 36.33, 'coverage': 100.0, 'popularity': 5.083487}\n",
      "50 20\n"
     ]
    },
    {
     "name": "stderr",
     "output_type": "stream",
     "text": [
      "推荐中: 100%|██████████████████████████████████████████████████████████████████████| 8496/8496 [01:31<00:00, 93.33it/s]\n"
     ]
    },
    {
     "name": "stdout",
     "output_type": "stream",
     "text": [
      "EvaluationMetrics: {'precision': 6.65, 'recall': 19.57, 'coverage': 99.35, 'popularity': 5.738354}\n",
      "50 50\n"
     ]
    },
    {
     "name": "stderr",
     "output_type": "stream",
     "text": [
      "推荐中: 100%|██████████████████████████████████████████████████████████████████████| 8496/8496 [01:30<00:00, 93.58it/s]\n"
     ]
    },
    {
     "name": "stdout",
     "output_type": "stream",
     "text": [
      "EvaluationMetrics: {'precision': 4.22, 'recall': 30.66, 'coverage': 100.0, 'popularity': 5.387277}\n",
      "50 90\n"
     ]
    },
    {
     "name": "stderr",
     "output_type": "stream",
     "text": [
      "推荐中: 100%|██████████████████████████████████████████████████████████████████████| 8496/8496 [01:30<00:00, 93.77it/s]\n"
     ]
    },
    {
     "name": "stdout",
     "output_type": "stream",
     "text": [
      "EvaluationMetrics: {'precision': 3.06, 'recall': 39.4, 'coverage': 100.0, 'popularity': 5.177393}\n",
      "80 20\n"
     ]
    },
    {
     "name": "stderr",
     "output_type": "stream",
     "text": [
      "推荐中: 100%|██████████████████████████████████████████████████████████████████████| 8496/8496 [01:31<00:00, 92.50it/s]\n"
     ]
    },
    {
     "name": "stdout",
     "output_type": "stream",
     "text": [
      "EvaluationMetrics: {'precision': 6.85, 'recall': 20.28, 'coverage': 96.82, 'popularity': 5.888609}\n",
      "80 50\n"
     ]
    },
    {
     "name": "stderr",
     "output_type": "stream",
     "text": [
      "推荐中: 100%|██████████████████████████████████████████████████████████████████████| 8496/8496 [01:32<00:00, 92.27it/s]\n"
     ]
    },
    {
     "name": "stdout",
     "output_type": "stream",
     "text": [
      "EvaluationMetrics: {'precision': 4.35, 'recall': 32.08, 'coverage': 100.0, 'popularity': 5.518584}\n",
      "80 90\n"
     ]
    },
    {
     "name": "stderr",
     "output_type": "stream",
     "text": [
      "推荐中: 100%|██████████████████████████████████████████████████████████████████████| 8496/8496 [01:32<00:00, 91.77it/s]\n"
     ]
    },
    {
     "name": "stdout",
     "output_type": "stream",
     "text": [
      "EvaluationMetrics: {'precision': 3.16, 'recall': 41.51, 'coverage': 100.0, 'popularity': 5.284273}\n",
      "120 20\n"
     ]
    },
    {
     "name": "stderr",
     "output_type": "stream",
     "text": [
      "推荐中: 100%|██████████████████████████████████████████████████████████████████████| 8496/8496 [01:33<00:00, 91.19it/s]\n"
     ]
    },
    {
     "name": "stdout",
     "output_type": "stream",
     "text": [
      "EvaluationMetrics: {'precision': 6.91, 'recall': 20.44, 'coverage': 88.03, 'popularity': 6.014622}\n",
      "120 50\n"
     ]
    },
    {
     "name": "stderr",
     "output_type": "stream",
     "text": [
      "推荐中: 100%|██████████████████████████████████████████████████████████████████████| 8496/8496 [01:33<00:00, 91.16it/s]\n"
     ]
    },
    {
     "name": "stdout",
     "output_type": "stream",
     "text": [
      "EvaluationMetrics: {'precision': 4.43, 'recall': 32.76, 'coverage': 99.81, 'popularity': 5.623642}\n",
      "120 90\n"
     ]
    },
    {
     "name": "stderr",
     "output_type": "stream",
     "text": [
      "推荐中: 100%|██████████████████████████████████████████████████████████████████████| 8496/8496 [01:33<00:00, 90.96it/s]\n",
      "切割数据:   0%|                                                                               | 0/8563 [00:00<?, ?it/s]"
     ]
    },
    {
     "name": "stdout",
     "output_type": "stream",
     "text": [
      "EvaluationMetrics: {'precision': 3.23, 'recall': 42.81, 'coverage': 100.0, 'popularity': 5.378669}\n"
     ]
    },
    {
     "name": "stderr",
     "output_type": "stream",
     "text": [
      "切割数据: 100%|███████████████████████████████████████████████████████████████████| 8563/8563 [00:18<00:00, 468.84it/s]\n",
      "用户间相似度: 100%|████████████████████████████████████████████████████████████████| 2126/2126 [00:32<00:00, 65.88it/s]\n"
     ]
    },
    {
     "name": "stdout",
     "output_type": "stream",
     "text": [
      "倒排表约使计算量减少至原来的0.21倍.\n",
      "10 20\n"
     ]
    },
    {
     "name": "stderr",
     "output_type": "stream",
     "text": [
      "推荐中: 100%|██████████████████████████████████████████████████████████████████████| 8563/8563 [01:31<00:00, 93.32it/s]\n"
     ]
    },
    {
     "name": "stdout",
     "output_type": "stream",
     "text": [
      "EvaluationMetrics: {'precision': 5.35, 'recall': 11.84, 'coverage': 100.0, 'popularity': 5.009522}\n",
      "10 50\n"
     ]
    },
    {
     "name": "stderr",
     "output_type": "stream",
     "text": [
      "推荐中: 100%|██████████████████████████████████████████████████████████████████████| 8563/8563 [01:31<00:00, 93.89it/s]\n"
     ]
    },
    {
     "name": "stdout",
     "output_type": "stream",
     "text": [
      "EvaluationMetrics: {'precision': 3.64, 'recall': 18.51, 'coverage': 100.0, 'popularity': 4.789797}\n",
      "10 90\n"
     ]
    },
    {
     "name": "stderr",
     "output_type": "stream",
     "text": [
      "推荐中: 100%|██████████████████████████████████████████████████████████████████████| 8563/8563 [01:31<00:00, 93.50it/s]\n"
     ]
    },
    {
     "name": "stdout",
     "output_type": "stream",
     "text": [
      "EvaluationMetrics: {'precision': 3.01, 'recall': 24.09, 'coverage': 100.0, 'popularity': 4.70177}\n",
      "30 20\n"
     ]
    },
    {
     "name": "stderr",
     "output_type": "stream",
     "text": [
      "推荐中: 100%|██████████████████████████████████████████████████████████████████████| 8563/8563 [01:33<00:00, 91.85it/s]\n"
     ]
    },
    {
     "name": "stdout",
     "output_type": "stream",
     "text": [
      "EvaluationMetrics: {'precision': 6.6, 'recall': 15.23, 'coverage': 98.92, 'popularity': 5.463985}\n",
      "30 50\n"
     ]
    },
    {
     "name": "stderr",
     "output_type": "stream",
     "text": [
      "推荐中: 100%|██████████████████████████████████████████████████████████████████████| 8563/8563 [01:32<00:00, 92.48it/s]\n"
     ]
    },
    {
     "name": "stdout",
     "output_type": "stream",
     "text": [
      "EvaluationMetrics: {'precision': 4.21, 'recall': 23.89, 'coverage': 100.0, 'popularity': 5.104406}\n",
      "30 90\n"
     ]
    },
    {
     "name": "stderr",
     "output_type": "stream",
     "text": [
      "推荐中: 100%|██████████████████████████████████████████████████████████████████████| 8563/8563 [01:32<00:00, 92.44it/s]\n"
     ]
    },
    {
     "name": "stdout",
     "output_type": "stream",
     "text": [
      "EvaluationMetrics: {'precision': 3.08, 'recall': 30.78, 'coverage': 100.0, 'popularity': 4.897531}\n",
      "50 20\n"
     ]
    },
    {
     "name": "stderr",
     "output_type": "stream",
     "text": [
      "推荐中: 100%|██████████████████████████████████████████████████████████████████████| 8563/8563 [01:33<00:00, 91.21it/s]\n"
     ]
    },
    {
     "name": "stdout",
     "output_type": "stream",
     "text": [
      "EvaluationMetrics: {'precision': 6.97, 'recall': 16.25, 'coverage': 94.31, 'popularity': 5.676307}\n",
      "50 50\n"
     ]
    },
    {
     "name": "stderr",
     "output_type": "stream",
     "text": [
      "推荐中: 100%|██████████████████████████████████████████████████████████████████████| 8563/8563 [01:33<00:00, 91.16it/s]\n"
     ]
    },
    {
     "name": "stdout",
     "output_type": "stream",
     "text": [
      "EvaluationMetrics: {'precision': 4.43, 'recall': 25.63, 'coverage': 99.91, 'popularity': 5.291221}\n",
      "50 90\n"
     ]
    },
    {
     "name": "stderr",
     "output_type": "stream",
     "text": [
      "推荐中: 100%|██████████████████████████████████████████████████████████████████████| 8563/8563 [01:34<00:00, 90.39it/s]\n"
     ]
    },
    {
     "name": "stdout",
     "output_type": "stream",
     "text": [
      "EvaluationMetrics: {'precision': 3.21, 'recall': 33.0, 'coverage': 100.0, 'popularity': 5.043411}\n",
      "80 20\n"
     ]
    },
    {
     "name": "stderr",
     "output_type": "stream",
     "text": [
      "推荐中: 100%|██████████████████████████████████████████████████████████████████████| 8563/8563 [01:36<00:00, 89.08it/s]\n"
     ]
    },
    {
     "name": "stdout",
     "output_type": "stream",
     "text": [
      "EvaluationMetrics: {'precision': 7.11, 'recall': 16.59, 'coverage': 80.9, 'popularity': 5.863389}\n",
      "80 50\n"
     ]
    },
    {
     "name": "stderr",
     "output_type": "stream",
     "text": [
      "推荐中: 100%|██████████████████████████████████████████████████████████████████████| 8563/8563 [01:36<00:00, 88.87it/s]\n"
     ]
    },
    {
     "name": "stdout",
     "output_type": "stream",
     "text": [
      "EvaluationMetrics: {'precision': 4.56, 'recall': 26.56, 'coverage': 99.15, 'popularity': 5.460933}\n",
      "80 90\n"
     ]
    },
    {
     "name": "stderr",
     "output_type": "stream",
     "text": [
      "推荐中: 100%|██████████████████████████████████████████████████████████████████████| 8563/8563 [01:36<00:00, 89.17it/s]\n"
     ]
    },
    {
     "name": "stdout",
     "output_type": "stream",
     "text": [
      "EvaluationMetrics: {'precision': 3.32, 'recall': 34.61, 'coverage': 100.0, 'popularity': 5.195144}\n",
      "120 20\n"
     ]
    },
    {
     "name": "stderr",
     "output_type": "stream",
     "text": [
      "推荐中: 100%|██████████████████████████████████████████████████████████████████████| 8563/8563 [01:37<00:00, 87.58it/s]\n"
     ]
    },
    {
     "name": "stdout",
     "output_type": "stream",
     "text": [
      "EvaluationMetrics: {'precision': 7.11, 'recall': 16.58, 'coverage': 64.06, 'popularity': 5.997378}\n",
      "120 50\n"
     ]
    },
    {
     "name": "stderr",
     "output_type": "stream",
     "text": [
      "推荐中: 100%|██████████████████████████████████████████████████████████████████████| 8563/8563 [01:37<00:00, 87.52it/s]\n"
     ]
    },
    {
     "name": "stdout",
     "output_type": "stream",
     "text": [
      "EvaluationMetrics: {'precision': 4.62, 'recall': 26.91, 'coverage': 95.01, 'popularity': 5.593855}\n",
      "120 90\n"
     ]
    },
    {
     "name": "stderr",
     "output_type": "stream",
     "text": [
      "推荐中: 100%|██████████████████████████████████████████████████████████████████████| 8563/8563 [01:37<00:00, 87.48it/s]\n",
      "切割数据:   0%|                                                                               | 0/8563 [00:00<?, ?it/s]"
     ]
    },
    {
     "name": "stdout",
     "output_type": "stream",
     "text": [
      "EvaluationMetrics: {'precision': 3.38, 'recall': 35.47, 'coverage': 99.81, 'popularity': 5.319271}\n"
     ]
    },
    {
     "name": "stderr",
     "output_type": "stream",
     "text": [
      "切割数据: 100%|███████████████████████████████████████████████████████████████████| 8563/8563 [00:18<00:00, 461.01it/s]\n",
      "用户间相似度: 100%|████████████████████████████████████████████████████████████████| 2126/2126 [00:32<00:00, 65.05it/s]\n"
     ]
    },
    {
     "name": "stdout",
     "output_type": "stream",
     "text": [
      "倒排表约使计算量减少至原来的0.2倍.\n",
      "10 20\n"
     ]
    },
    {
     "name": "stderr",
     "output_type": "stream",
     "text": [
      "推荐中:  12%|████████▌                                                             | 1046/8563 [00:11<01:25, 87.47it/s]"
     ]
    }
   ],
   "source": [
    "for ignore_user_n,ignore_up_n,seed in its.product([30,10],[100,70,40,15],[1,2,3]):\n",
    "    model_usercf = UserCF(dt_fmt,K=30,N=30,split_n=0.7,\n",
    "                          ignore_user_n=ignore_user_n,ignore_up_n=ignore_up_n,seed=seed)\n",
    "    for K,N in its.product([10,30,50,80,120],[20,50,90]):\n",
    "        print(K,N)\n",
    "        time.sleep(0.5)\n",
    "        model_usercf.K = K\n",
    "        model_usercf.N = N\n",
    "        usercf_exp = Experiment(model_usercf,5)\n",
    "\n",
    "        res = usercf_exp.validate()\n",
    "        res[\"model\"] = \"UserCF\"\n",
    "        res[\"split_n\"] = 0.7\n",
    "        res[\"ignore_user_n\"] = ignore_user_n\n",
    "        res[\"ignore_up_n\"] = ignore_up_n\n",
    "        res[\"seed\"] = seed\n",
    "        res[\"K\"] = K\n",
    "        res[\"N\"] = N\n",
    "        results = results.append(res,ignore_index=True)"
   ]
  },
  {
   "cell_type": "code",
   "execution_count": null,
   "metadata": {},
   "outputs": [],
   "source": []
  },
  {
   "cell_type": "code",
   "execution_count": null,
   "metadata": {},
   "outputs": [],
   "source": []
  },
  {
   "cell_type": "code",
   "execution_count": null,
   "metadata": {},
   "outputs": [],
   "source": []
  },
  {
   "cell_type": "code",
   "execution_count": null,
   "metadata": {},
   "outputs": [],
   "source": [
    "for ignore_user_n,ignore_up_n,seed in its.product([30,10],[100,70,40,15],[1,2,3]):\n",
    "    model_usercf = UserCF(dt_fmt,K=30,N=30,split_n=0.7,\n",
    "                          ignore_user_n=ignore_user_n,ignore_up_n=ignore_up_n,seed=seed)\n",
    "    for K,N in its.product([170,330,500,1000],[20,50,90]):\n",
    "        print(K,N)\n",
    "        time.sleep(0.5)\n",
    "        model_usercf.K = K\n",
    "        model_usercf.N = N\n",
    "        usercf_exp = Experiment(model_usercf,5)\n",
    "\n",
    "        res = usercf_exp.validate()\n",
    "        res[\"model\"] = \"UserCF\"\n",
    "        res[\"split_n\"] = 0.7\n",
    "        res[\"ignore_user_n\"] = ignore_user_n\n",
    "        res[\"ignore_up_n\"] = ignore_up_n\n",
    "        res[\"seed\"] = seed\n",
    "        res[\"K\"] = K\n",
    "        res[\"N\"] = N\n",
    "        results = results.append(res,ignore_index=True)"
   ]
  },
  {
   "cell_type": "code",
   "execution_count": null,
   "metadata": {},
   "outputs": [],
   "source": []
  },
  {
   "cell_type": "code",
   "execution_count": null,
   "metadata": {},
   "outputs": [],
   "source": []
  },
  {
   "cell_type": "code",
   "execution_count": null,
   "metadata": {},
   "outputs": [],
   "source": []
  },
  {
   "cell_type": "code",
   "execution_count": null,
   "metadata": {},
   "outputs": [],
   "source": []
  },
  {
   "cell_type": "code",
   "execution_count": null,
   "metadata": {},
   "outputs": [],
   "source": [
    "len(model_usercf.train)"
   ]
  },
  {
   "cell_type": "code",
   "execution_count": null,
   "metadata": {},
   "outputs": [],
   "source": [
    "model_usercf.train[384565347]"
   ]
  },
  {
   "cell_type": "code",
   "execution_count": null,
   "metadata": {},
   "outputs": [],
   "source": [
    "model_usercf.matrix_user2up.loc[384565347,:]"
   ]
  },
  {
   "cell_type": "code",
   "execution_count": null,
   "metadata": {},
   "outputs": [],
   "source": [
    "dt_fmt[dt_fmt.user==384565347]"
   ]
  },
  {
   "cell_type": "code",
   "execution_count": null,
   "metadata": {},
   "outputs": [],
   "source": []
  },
  {
   "cell_type": "code",
   "execution_count": null,
   "metadata": {},
   "outputs": [],
   "source": []
  },
  {
   "cell_type": "code",
   "execution_count": null,
   "metadata": {},
   "outputs": [],
   "source": [
    "results"
   ]
  },
  {
   "cell_type": "code",
   "execution_count": null,
   "metadata": {},
   "outputs": [],
   "source": []
  },
  {
   "cell_type": "code",
   "execution_count": null,
   "metadata": {},
   "outputs": [],
   "source": []
  },
  {
   "cell_type": "code",
   "execution_count": null,
   "metadata": {},
   "outputs": [],
   "source": []
  },
  {
   "cell_type": "code",
   "execution_count": null,
   "metadata": {},
   "outputs": [],
   "source": []
  },
  {
   "cell_type": "code",
   "execution_count": null,
   "metadata": {},
   "outputs": [],
   "source": []
  },
  {
   "cell_type": "code",
   "execution_count": null,
   "metadata": {},
   "outputs": [],
   "source": []
  },
  {
   "cell_type": "code",
   "execution_count": null,
   "metadata": {},
   "outputs": [],
   "source": []
  }
 ],
 "metadata": {
  "kernelspec": {
   "display_name": "Python 3",
   "language": "python",
   "name": "python3"
  },
  "language_info": {
   "codemirror_mode": {
    "name": "ipython",
    "version": 3
   },
   "file_extension": ".py",
   "mimetype": "text/x-python",
   "name": "python",
   "nbconvert_exporter": "python",
   "pygments_lexer": "ipython3",
   "version": "3.6.7"
  }
 },
 "nbformat": 4,
 "nbformat_minor": 4
}
