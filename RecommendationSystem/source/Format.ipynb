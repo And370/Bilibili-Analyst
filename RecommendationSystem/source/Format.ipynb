{
 "cells": [
  {
   "cell_type": "code",
   "execution_count": 1,
   "metadata": {},
   "outputs": [],
   "source": [
    "import time\n",
    "import math\n",
    "import random\n",
    "import itertools as its\n",
    "import numpy as np\n",
    "import pandas as pd\n",
    "import tqdm\n",
    "\n",
    "from collections import Counter"
   ]
  },
  {
   "cell_type": "code",
   "execution_count": null,
   "metadata": {},
   "outputs": [],
   "source": []
  },
  {
   "cell_type": "code",
   "execution_count": 2,
   "metadata": {},
   "outputs": [],
   "source": [
    "dt = pd.read_csv(\"../data/user2up.csv\")\n",
    "dt.rename(columns={\"mid\":\"up\",\"from\":\"user\"},inplace=True)\n",
    "dt.up = dt.up.astype(int)\n",
    "dt_fmt = dt[[\"user\",\"up\"]]"
   ]
  },
  {
   "cell_type": "code",
   "execution_count": 3,
   "metadata": {},
   "outputs": [
    {
     "data": {
      "text/html": [
       "<div>\n",
       "<style scoped>\n",
       "    .dataframe tbody tr th:only-of-type {\n",
       "        vertical-align: middle;\n",
       "    }\n",
       "\n",
       "    .dataframe tbody tr th {\n",
       "        vertical-align: top;\n",
       "    }\n",
       "\n",
       "    .dataframe thead th {\n",
       "        text-align: right;\n",
       "    }\n",
       "</style>\n",
       "<table border=\"1\" class=\"dataframe\">\n",
       "  <thead>\n",
       "    <tr style=\"text-align: right;\">\n",
       "      <th></th>\n",
       "      <th>user</th>\n",
       "      <th>up</th>\n",
       "    </tr>\n",
       "  </thead>\n",
       "  <tbody>\n",
       "    <tr>\n",
       "      <th>0</th>\n",
       "      <td>81922</td>\n",
       "      <td>326499679</td>\n",
       "    </tr>\n",
       "    <tr>\n",
       "      <th>1</th>\n",
       "      <td>81922</td>\n",
       "      <td>316568752</td>\n",
       "    </tr>\n",
       "    <tr>\n",
       "      <th>2</th>\n",
       "      <td>81922</td>\n",
       "      <td>9617619</td>\n",
       "    </tr>\n",
       "    <tr>\n",
       "      <th>3</th>\n",
       "      <td>81922</td>\n",
       "      <td>213741</td>\n",
       "    </tr>\n",
       "    <tr>\n",
       "      <th>4</th>\n",
       "      <td>81922</td>\n",
       "      <td>676498418</td>\n",
       "    </tr>\n",
       "    <tr>\n",
       "      <th>...</th>\n",
       "      <td>...</td>\n",
       "      <td>...</td>\n",
       "    </tr>\n",
       "    <tr>\n",
       "      <th>697970</th>\n",
       "      <td>519570206</td>\n",
       "      <td>456664753</td>\n",
       "    </tr>\n",
       "    <tr>\n",
       "      <th>697971</th>\n",
       "      <td>519570206</td>\n",
       "      <td>14114387</td>\n",
       "    </tr>\n",
       "    <tr>\n",
       "      <th>697972</th>\n",
       "      <td>519570206</td>\n",
       "      <td>504739753</td>\n",
       "    </tr>\n",
       "    <tr>\n",
       "      <th>697973</th>\n",
       "      <td>519570206</td>\n",
       "      <td>414021604</td>\n",
       "    </tr>\n",
       "    <tr>\n",
       "      <th>697974</th>\n",
       "      <td>519570206</td>\n",
       "      <td>239138482</td>\n",
       "    </tr>\n",
       "  </tbody>\n",
       "</table>\n",
       "<p>697975 rows × 2 columns</p>\n",
       "</div>"
      ],
      "text/plain": [
       "             user         up\n",
       "0           81922  326499679\n",
       "1           81922  316568752\n",
       "2           81922    9617619\n",
       "3           81922     213741\n",
       "4           81922  676498418\n",
       "...           ...        ...\n",
       "697970  519570206  456664753\n",
       "697971  519570206   14114387\n",
       "697972  519570206  504739753\n",
       "697973  519570206  414021604\n",
       "697974  519570206  239138482\n",
       "\n",
       "[697975 rows x 2 columns]"
      ]
     },
     "execution_count": 3,
     "metadata": {},
     "output_type": "execute_result"
    }
   ],
   "source": [
    "dt_fmt"
   ]
  },
  {
   "cell_type": "code",
   "execution_count": 4,
   "metadata": {},
   "outputs": [],
   "source": [
    "class UserCF():\n",
    "    def __init__(self,data,K,N,split_n=0.7,ignore_user_n=10,ignore_up_n=10,seed=123):\n",
    "        self.data = data\n",
    "        self.K = K\n",
    "        self.N = N\n",
    "        self.split_n = split_n\n",
    "        self.ignore_user_n = ignore_user_n\n",
    "        self.ignore_up_n = ignore_up_n\n",
    "        self.seed = seed\n",
    "        self.data_format(data)\n",
    "\n",
    "        \n",
    "    def data_format(self,data):\n",
    "        \n",
    "\n",
    "        # 为了保证在切分用户行为数据的时候,训练与测试集均保证一定数量\n",
    "        # 此处过滤掉行为数量过少的UP\n",
    "        up_behavior_count = data.groupby(\"up\").count()\n",
    "        ups = set(up_behavior_count[up_behavior_count.user>=self.ignore_up_n].index)\n",
    "        \n",
    "        user_behavior_count = data.groupby(\"user\").count()\n",
    "        users = set(user_behavior_count[user_behavior_count.up>=self.ignore_user_n].index)\n",
    "        \n",
    "        # 此处过滤掉行为数量过少的User和UP\n",
    "        data = data[(data.up.isin(ups)&(data.user.isin(users)))]\n",
    "        \n",
    "        # 此处根据过滤后的结果重新获取集合\n",
    "        users = set(data.user.unique())\n",
    "        ups = set(data.up.unique())\n",
    "\n",
    "        data = data.sample(frac=1,random_state=self.seed)\n",
    "\n",
    "#         # 全随机切分\n",
    "#         split = int(len(data)*self.split_n)\n",
    "#         train_df = data[:split]\n",
    "#         test_df = data[split:]\n",
    "#         users = train_df.user.unique()\n",
    "#         ups = test_df.up.unique()\n",
    "        \n",
    "        # 基于单用户内的关注行为切分\n",
    "        train_df = pd.DataFrame()\n",
    "        test_df = pd.DataFrame()\n",
    "        for user_tmp in tqdm.tqdm(data.user.unique(),\"切割数据\"):\n",
    "            data_user = data[data.user==user_tmp]\n",
    "            data_user_split = int(len(data_user)*self.split_n)\n",
    "            train_df = train_df.append(data_user[:data_user_split])\n",
    "            test_df = test_df.append(data_user[data_user_split:])\n",
    "        \n",
    "        \n",
    "#         # User对UP主的关注集\n",
    "#         # 切分为训练测试集\n",
    "#         matrix_user2up = train_df.groupby(\"user\").agg(set)\n",
    "#         matrix_user2up[\"train\"] = matrix_user2up[\"up\"].apply(self.sample,args=(self.split_n,self.seed))\n",
    "#         matrix_user2up[[\"train\",\"test\"]] = matrix_user2up[\"train\"].apply(pd.Series)\n",
    "        # User对UP主的关注集\n",
    "        # 切分为训练测试集\n",
    "        matrix_user2up = data.groupby(\"user\").agg(set)\n",
    "        matrix_user2up[\"train\"] = train_df.groupby(\"user\").agg(set)\n",
    "        matrix_user2up[\"test\"] = test_df.groupby(\"user\").agg(set)\n",
    "\n",
    "        \n",
    "        # UP主对User倒排表\n",
    "        matrix_up2user = train_df.groupby(\"up\").agg(set)\n",
    "        matrix_up2user = matrix_up2user.user.to_dict()\n",
    "        \n",
    "        train = matrix_user2up.train.to_dict()\n",
    "        test = matrix_user2up.test.to_dict()\n",
    "        \n",
    "\n",
    "        for user in train:\n",
    "            if train[user] is np.nan:\n",
    "                train[user] = set()\n",
    "        \n",
    "        for user in test:\n",
    "            if test[user] is np.nan:\n",
    "                test[user] = set()\n",
    "        \n",
    "        # 倒排表matrix_up2user降低计算量\n",
    "        matrix_user2user = {}\n",
    "        count = 0\n",
    "        \n",
    "        # 遍历倒排表,对存在关注同一个up主的user进行相似度计算\n",
    "        # TODO 此处考虑使用numpy来做一遍或许更有利于避免重复计算\n",
    "        for up,sub_users in tqdm.tqdm(matrix_up2user.items(),\"用户间相似度\"):\n",
    "            for user_a,user_b in its.combinations(sub_users,2):\n",
    "                # 排序限定为左小右大\n",
    "                user_a,user_b = (user_a,user_b) if user_a < user_b else (user_b,user_a)\n",
    "                # 若无历史结果,则计算\n",
    "                if matrix_user2user.get((user_a,user_b)) == None:\n",
    "                    # TODO,应该支持多类相似度算法\n",
    "                    # 此处为快速实现使用了杰卡德相似度\n",
    "                    matrix_user2user[(user_a,user_b)] = len(train[user_a]&train[user_b])/len(train[user_a]|train[user_b])\n",
    "                count += 1\n",
    "        print(\"倒排表约使计算量减少至原来的%s倍.\"%round(count/(len(users)**2),2))\n",
    "        \n",
    "        self.data = data\n",
    "        self.users = users\n",
    "        self.ups = ups\n",
    "        self.matrix_user2up = matrix_user2up\n",
    "        self.matrix_up2user = matrix_up2user\n",
    "        self.matrix_user2user = matrix_user2user\n",
    "        self.train = train\n",
    "        self.test = test\n",
    "        \n",
    "#     def sample(self,up_set,train_k,seed):\n",
    "#         random.seed(seed)\n",
    "#         train = set(random.sample(up_set,int(len(up_set)*train_k)))\n",
    "#         test = up_set - train\n",
    "#         return train,test\n",
    "    \n",
    "    def GetRecommendation(self,user):\n",
    "        user2user = {}\n",
    "        \n",
    "        # 计算目标user与其他user的相似度\n",
    "        for user_other in self.users:\n",
    "            if user_other == user:\n",
    "                continue\n",
    "            # 标准化key\n",
    "            user_a,user_b = (user,user_other) if user < user_other else (user_other,user)\n",
    "            user2user[user_other] = self.matrix_user2user.get((user_a,user_b),0)\n",
    "        \n",
    "        # TODO 此处的推荐过程可以增加缓存,这样子在仅变动K,N的时候,不用重复计算topK_user和topN_up\n",
    "        # 根据user2user的value相似度降序排后取前K位\n",
    "        topK_user = sorted(user2user.items(),key=lambda x: x[1],reverse=True)[:self.K]\n",
    "        topK_user_ups_list = []\n",
    "        \n",
    "        # 取topK_user的关注列表\n",
    "        for user_other,score in topK_user:\n",
    "            topK_user_ups_list += self.train[user_other]\n",
    "        # 注意去掉当前已推荐的\n",
    "        counter = Counter(topK_user_ups_list)\n",
    "        counter = {up:n for up,n in counter.items() if up not in self.train[user]}\n",
    "        topN_up = sorted(counter.items(),key=lambda x: x[1],reverse=True)[:self.N]\n",
    "        return set(topN_up)"
   ]
  },
  {
   "cell_type": "code",
   "execution_count": 5,
   "metadata": {},
   "outputs": [],
   "source": [
    "class EvaluationMetrics():\n",
    "    def __init__(self,train,test,get_rec):\n",
    "        \"\"\"\n",
    "        :param train: {123:{1,2,3,4,5}}\n",
    "        :param test: {123:{1,2,3,4,5}}\n",
    "        :param get_rec: recs = get_rec(user)\n",
    "        \"\"\"\n",
    "        self.train = train\n",
    "        self.test = test\n",
    "        self.get_rec = get_rec\n",
    "        self.recs = self.get_rec_all_user()\n",
    "        self.hit = self._hit()\n",
    "    \n",
    "    # 获得所有test用户的推荐结果\n",
    "    def get_rec_all_user(self):\n",
    "        # recs = {1:{(64554310,9),(123142,8)}}\n",
    "        recs = {}\n",
    "        for user in tqdm.tqdm(self.train,\"推荐中\"):\n",
    "            recs[user] = self.get_rec(user)\n",
    "        return recs\n",
    "    \n",
    "    # 分子/命中\n",
    "    def _hit(self):\n",
    "        hit = 0\n",
    "        for user in self.test:\n",
    "            sub_test = self.test[user]\n",
    "            rec = {item for item,score in self.recs[user]}\n",
    "            hit += len(sub_test&rec)\n",
    "        return hit\n",
    "    \n",
    "    # 精确率\n",
    "    def precision(self):\n",
    "        count = 0\n",
    "        for user in self.test:\n",
    "            count += len(self.recs[user])\n",
    "        return round(self.hit / count * 100,2)\n",
    "    \n",
    "    # 召回率\n",
    "    def recall(self):\n",
    "        count = 0\n",
    "        for user in self.test:\n",
    "            count += len(self.test[user])\n",
    "        return round(self.hit / count * 100,2)\n",
    "    \n",
    "    # 覆盖率\n",
    "    def coverage(self):\n",
    "        all_items = set()\n",
    "        rec_items = set()\n",
    "        for user,items in self.train.items():\n",
    "            all_items = all_items|items\n",
    "        # TODO 这边考虑直接以模型的data.ups.unique()去处理避免重复计算\n",
    "        for user,items in self.recs.items():\n",
    "            rec_items = rec_items|set([item for item,score in items])\n",
    "        return round(len(rec_items) / len(all_items) * 100,2)\n",
    "    \n",
    "    # 新颖度\n",
    "    def popularity(self):\n",
    "        # 计算物品的流行度\n",
    "        item_pop = {}\n",
    "        for user in self.train:\n",
    "            for item in self.train[user]:\n",
    "                if item not in item_pop:\n",
    "                    item_pop[item] = 0\n",
    "                item_pop[item] += 1\n",
    "\n",
    "        num, pop = 0, 0\n",
    "        for user in self.test:\n",
    "            rank = self.recs[user]\n",
    "            for item, score in rank:\n",
    "                # 取对数\n",
    "                pop += math.log(1 + item_pop[item])\n",
    "                num += 1\n",
    "        return round(pop / num, 6)\n",
    "    \n",
    "    def evaluate(self):\n",
    "        evaluation_metrics = {'precision': self.precision(),\n",
    "                              'recall': self.recall(),\n",
    "                              'coverage': self.coverage(),\n",
    "                              'popularity': self.popularity()}\n",
    "        print('EvaluationMetrics:', evaluation_metrics)\n",
    "        return evaluation_metrics"
   ]
  },
  {
   "cell_type": "code",
   "execution_count": 6,
   "metadata": {},
   "outputs": [],
   "source": [
    "class Experiment():\n",
    "    def __init__(self,model,T):\n",
    "        self.model = model\n",
    "        self.T = T\n",
    "    \n",
    "    def validate(self):\n",
    "        resulst = EvaluationMetrics(self.model.train,self.model.test,self.model.GetRecommendation)\n",
    "        return resulst.evaluate()"
   ]
  },
  {
   "cell_type": "code",
   "execution_count": null,
   "metadata": {},
   "outputs": [],
   "source": []
  },
  {
   "cell_type": "code",
   "execution_count": 7,
   "metadata": {},
   "outputs": [],
   "source": [
    "results = pd.DataFrame(columns=[\"model\",\"split_n\",\"K\",\"N\",\n",
    "                                \"ignore_user_n\",\"ignore_up_n\",\"seed\",\n",
    "                                \"precision\",\"recall\",\"coverage\",\"popularity\"])"
   ]
  },
  {
   "cell_type": "code",
   "execution_count": 8,
   "metadata": {},
   "outputs": [
    {
     "data": {
      "text/html": [
       "<div>\n",
       "<style scoped>\n",
       "    .dataframe tbody tr th:only-of-type {\n",
       "        vertical-align: middle;\n",
       "    }\n",
       "\n",
       "    .dataframe tbody tr th {\n",
       "        vertical-align: top;\n",
       "    }\n",
       "\n",
       "    .dataframe thead th {\n",
       "        text-align: right;\n",
       "    }\n",
       "</style>\n",
       "<table border=\"1\" class=\"dataframe\">\n",
       "  <thead>\n",
       "    <tr style=\"text-align: right;\">\n",
       "      <th></th>\n",
       "      <th>up</th>\n",
       "    </tr>\n",
       "  </thead>\n",
       "  <tbody>\n",
       "    <tr>\n",
       "      <th>count</th>\n",
       "      <td>10009.000000</td>\n",
       "    </tr>\n",
       "    <tr>\n",
       "      <th>mean</th>\n",
       "      <td>69.734739</td>\n",
       "    </tr>\n",
       "    <tr>\n",
       "      <th>std</th>\n",
       "      <td>49.848071</td>\n",
       "    </tr>\n",
       "    <tr>\n",
       "      <th>min</th>\n",
       "      <td>1.000000</td>\n",
       "    </tr>\n",
       "    <tr>\n",
       "      <th>25%</th>\n",
       "      <td>26.000000</td>\n",
       "    </tr>\n",
       "    <tr>\n",
       "      <th>50%</th>\n",
       "      <td>85.000000</td>\n",
       "    </tr>\n",
       "    <tr>\n",
       "      <th>75%</th>\n",
       "      <td>100.000000</td>\n",
       "    </tr>\n",
       "    <tr>\n",
       "      <th>max</th>\n",
       "      <td>500.000000</td>\n",
       "    </tr>\n",
       "  </tbody>\n",
       "</table>\n",
       "</div>"
      ],
      "text/plain": [
       "                 up\n",
       "count  10009.000000\n",
       "mean      69.734739\n",
       "std       49.848071\n",
       "min        1.000000\n",
       "25%       26.000000\n",
       "50%       85.000000\n",
       "75%      100.000000\n",
       "max      500.000000"
      ]
     },
     "execution_count": 8,
     "metadata": {},
     "output_type": "execute_result"
    }
   ],
   "source": [
    "dt_fmt.groupby(\"user\").agg(len).describe()"
   ]
  },
  {
   "cell_type": "code",
   "execution_count": 9,
   "metadata": {
    "scrolled": false
   },
   "outputs": [
    {
     "name": "stderr",
     "output_type": "stream",
     "text": [
      "切割数据: 100%|███████████████████████████████████████████████████████████████████| 8427/8427 [00:12<00:00, 666.96it/s]\n",
      "用户间相似度: 100%|██████████████████████████████████████████████████████████████████| 619/619 [00:24<00:00, 25.23it/s]\n"
     ]
    },
    {
     "name": "stdout",
     "output_type": "stream",
     "text": [
      "倒排表约使计算量减少至原来的0.19倍.\n",
      "10 100 1 10 20\n"
     ]
    },
    {
     "name": "stderr",
     "output_type": "stream",
     "text": [
      "推荐中: 100%|█████████████████████████████████████████████████████████████████████| 8427/8427 [01:22<00:00, 102.06it/s]\n"
     ]
    },
    {
     "name": "stdout",
     "output_type": "stream",
     "text": [
      "EvaluationMetrics: {'precision': 5.08, 'recall': 16.21, 'coverage': 100.0, 'popularity': 5.38547}\n",
      "10 100 1 10 50\n"
     ]
    },
    {
     "name": "stderr",
     "output_type": "stream",
     "text": [
      "推荐中: 100%|█████████████████████████████████████████████████████████████████████| 8427/8427 [01:22<00:00, 102.11it/s]\n"
     ]
    },
    {
     "name": "stdout",
     "output_type": "stream",
     "text": [
      "EvaluationMetrics: {'precision': 3.96, 'recall': 25.6, 'coverage': 100.0, 'popularity': 5.257789}\n",
      "10 100 1 10 100\n"
     ]
    },
    {
     "name": "stderr",
     "output_type": "stream",
     "text": [
      "推荐中: 100%|█████████████████████████████████████████████████████████████████████| 8427/8427 [01:22<00:00, 102.09it/s]\n"
     ]
    },
    {
     "name": "stdout",
     "output_type": "stream",
     "text": [
      "EvaluationMetrics: {'precision': 3.62, 'recall': 32.54, 'coverage': 100.0, 'popularity': 5.205964}\n",
      "10 100 1 50 20\n"
     ]
    },
    {
     "name": "stderr",
     "output_type": "stream",
     "text": [
      "推荐中: 100%|█████████████████████████████████████████████████████████████████████| 8427/8427 [01:23<00:00, 100.33it/s]\n"
     ]
    },
    {
     "name": "stdout",
     "output_type": "stream",
     "text": [
      "EvaluationMetrics: {'precision': 6.46, 'recall': 23.0, 'coverage': 100.0, 'popularity': 5.786311}\n",
      "10 100 1 50 50\n"
     ]
    },
    {
     "name": "stderr",
     "output_type": "stream",
     "text": [
      "推荐中: 100%|█████████████████████████████████████████████████████████████████████| 8427/8427 [01:24<00:00, 100.28it/s]\n"
     ]
    },
    {
     "name": "stdout",
     "output_type": "stream",
     "text": [
      "EvaluationMetrics: {'precision': 4.08, 'recall': 35.93, 'coverage': 100.0, 'popularity': 5.478618}\n",
      "10 100 1 50 100\n"
     ]
    },
    {
     "name": "stderr",
     "output_type": "stream",
     "text": [
      "推荐中: 100%|█████████████████████████████████████████████████████████████████████| 8427/8427 [01:23<00:00, 100.54it/s]\n"
     ]
    },
    {
     "name": "stdout",
     "output_type": "stream",
     "text": [
      "EvaluationMetrics: {'precision': 2.84, 'recall': 48.51, 'coverage': 100.0, 'popularity': 5.273921}\n",
      "10 100 1 100 20\n"
     ]
    },
    {
     "name": "stderr",
     "output_type": "stream",
     "text": [
      "推荐中: 100%|██████████████████████████████████████████████████████████████████████| 8427/8427 [01:25<00:00, 98.57it/s]\n"
     ]
    },
    {
     "name": "stdout",
     "output_type": "stream",
     "text": [
      "EvaluationMetrics: {'precision': 6.81, 'recall': 24.76, 'coverage': 99.68, 'popularity': 5.974479}\n",
      "10 100 1 100 50\n"
     ]
    },
    {
     "name": "stderr",
     "output_type": "stream",
     "text": [
      "推荐中: 100%|██████████████████████████████████████████████████████████████████████| 8427/8427 [01:25<00:00, 99.07it/s]\n"
     ]
    },
    {
     "name": "stdout",
     "output_type": "stream",
     "text": [
      "EvaluationMetrics: {'precision': 4.28, 'recall': 38.74, 'coverage': 100.0, 'popularity': 5.62404}\n",
      "10 100 1 100 100\n"
     ]
    },
    {
     "name": "stderr",
     "output_type": "stream",
     "text": [
      "推荐中: 100%|██████████████████████████████████████████████████████████████████████| 8427/8427 [01:25<00:00, 98.94it/s]\n"
     ]
    },
    {
     "name": "stdout",
     "output_type": "stream",
     "text": [
      "EvaluationMetrics: {'precision': 2.93, 'recall': 52.43, 'coverage': 100.0, 'popularity': 5.378356}\n",
      "10 100 1 500 20\n"
     ]
    },
    {
     "name": "stderr",
     "output_type": "stream",
     "text": [
      "推荐中: 100%|██████████████████████████████████████████████████████████████████████| 8427/8427 [01:32<00:00, 91.35it/s]\n"
     ]
    },
    {
     "name": "stdout",
     "output_type": "stream",
     "text": [
      "EvaluationMetrics: {'precision': 6.56, 'recall': 23.82, 'coverage': 47.17, 'popularity': 6.278923}\n",
      "10 100 1 500 50\n"
     ]
    },
    {
     "name": "stderr",
     "output_type": "stream",
     "text": [
      "推荐中: 100%|██████████████████████████████████████████████████████████████████████| 8427/8427 [01:32<00:00, 91.28it/s]\n"
     ]
    },
    {
     "name": "stdout",
     "output_type": "stream",
     "text": [
      "EvaluationMetrics: {'precision': 4.24, 'recall': 38.52, 'coverage': 83.52, 'popularity': 5.917895}\n",
      "10 100 1 500 100\n"
     ]
    },
    {
     "name": "stderr",
     "output_type": "stream",
     "text": [
      "推荐中: 100%|██████████████████████████████████████████████████████████████████████| 8427/8427 [01:32<00:00, 90.73it/s]\n",
      "切割数据:   0%|                                                                               | 0/8427 [00:00<?, ?it/s]"
     ]
    },
    {
     "name": "stdout",
     "output_type": "stream",
     "text": [
      "EvaluationMetrics: {'precision': 2.98, 'recall': 54.07, 'coverage': 99.68, 'popularity': 5.627872}\n"
     ]
    },
    {
     "name": "stderr",
     "output_type": "stream",
     "text": [
      "切割数据: 100%|███████████████████████████████████████████████████████████████████| 8427/8427 [00:11<00:00, 711.55it/s]\n",
      "用户间相似度: 100%|██████████████████████████████████████████████████████████████████| 619/619 [00:24<00:00, 25.11it/s]\n"
     ]
    },
    {
     "name": "stdout",
     "output_type": "stream",
     "text": [
      "倒排表约使计算量减少至原来的0.19倍.\n",
      "10 100 2 10 20\n"
     ]
    },
    {
     "name": "stderr",
     "output_type": "stream",
     "text": [
      "推荐中: 100%|█████████████████████████████████████████████████████████████████████| 8427/8427 [01:22<00:00, 102.15it/s]\n"
     ]
    },
    {
     "name": "stdout",
     "output_type": "stream",
     "text": [
      "EvaluationMetrics: {'precision': 5.04, 'recall': 16.13, 'coverage': 100.0, 'popularity': 5.382132}\n",
      "10 100 2 10 50\n"
     ]
    },
    {
     "name": "stderr",
     "output_type": "stream",
     "text": [
      "推荐中: 100%|█████████████████████████████████████████████████████████████████████| 8427/8427 [01:22<00:00, 102.22it/s]\n"
     ]
    },
    {
     "name": "stdout",
     "output_type": "stream",
     "text": [
      "EvaluationMetrics: {'precision': 3.95, 'recall': 25.67, 'coverage': 100.0, 'popularity': 5.263284}\n",
      "10 100 2 10 100\n"
     ]
    },
    {
     "name": "stderr",
     "output_type": "stream",
     "text": [
      "推荐中: 100%|█████████████████████████████████████████████████████████████████████| 8427/8427 [01:22<00:00, 102.50it/s]\n"
     ]
    },
    {
     "name": "stdout",
     "output_type": "stream",
     "text": [
      "EvaluationMetrics: {'precision': 3.59, 'recall': 32.47, 'coverage': 100.0, 'popularity': 5.20565}\n",
      "10 100 2 50 20\n"
     ]
    },
    {
     "name": "stderr",
     "output_type": "stream",
     "text": [
      "推荐中: 100%|█████████████████████████████████████████████████████████████████████| 8427/8427 [01:23<00:00, 100.77it/s]\n"
     ]
    },
    {
     "name": "stdout",
     "output_type": "stream",
     "text": [
      "EvaluationMetrics: {'precision': 6.51, 'recall': 23.2, 'coverage': 100.0, 'popularity': 5.79567}\n",
      "10 100 2 50 50\n"
     ]
    },
    {
     "name": "stderr",
     "output_type": "stream",
     "text": [
      "推荐中: 100%|█████████████████████████████████████████████████████████████████████| 8427/8427 [01:23<00:00, 101.00it/s]\n"
     ]
    },
    {
     "name": "stdout",
     "output_type": "stream",
     "text": [
      "EvaluationMetrics: {'precision': 4.11, 'recall': 36.09, 'coverage': 100.0, 'popularity': 5.485354}\n",
      "10 100 2 50 100\n"
     ]
    },
    {
     "name": "stderr",
     "output_type": "stream",
     "text": [
      "推荐中: 100%|█████████████████████████████████████████████████████████████████████| 8427/8427 [01:23<00:00, 101.12it/s]\n"
     ]
    },
    {
     "name": "stdout",
     "output_type": "stream",
     "text": [
      "EvaluationMetrics: {'precision': 2.85, 'recall': 48.59, 'coverage': 100.0, 'popularity': 5.279771}\n",
      "10 100 2 100 20\n"
     ]
    },
    {
     "name": "stderr",
     "output_type": "stream",
     "text": [
      "推荐中: 100%|██████████████████████████████████████████████████████████████████████| 8427/8427 [01:25<00:00, 98.88it/s]\n"
     ]
    },
    {
     "name": "stdout",
     "output_type": "stream",
     "text": [
      "EvaluationMetrics: {'precision': 6.77, 'recall': 24.59, 'coverage': 99.19, 'popularity': 5.979608}\n",
      "10 100 2 100 50\n"
     ]
    },
    {
     "name": "stderr",
     "output_type": "stream",
     "text": [
      "推荐中: 100%|██████████████████████████████████████████████████████████████████████| 8427/8427 [01:24<00:00, 99.51it/s]\n"
     ]
    },
    {
     "name": "stdout",
     "output_type": "stream",
     "text": [
      "EvaluationMetrics: {'precision': 4.28, 'recall': 38.76, 'coverage': 100.0, 'popularity': 5.629387}\n",
      "10 100 2 100 100\n"
     ]
    },
    {
     "name": "stderr",
     "output_type": "stream",
     "text": [
      "推荐中: 100%|██████████████████████████████████████████████████████████████████████| 8427/8427 [01:25<00:00, 98.72it/s]\n"
     ]
    },
    {
     "name": "stdout",
     "output_type": "stream",
     "text": [
      "EvaluationMetrics: {'precision': 2.93, 'recall': 52.35, 'coverage': 100.0, 'popularity': 5.381603}\n",
      "10 100 2 500 20\n"
     ]
    },
    {
     "name": "stderr",
     "output_type": "stream",
     "text": [
      "推荐中: 100%|██████████████████████████████████████████████████████████████████████| 8427/8427 [01:31<00:00, 91.69it/s]\n"
     ]
    },
    {
     "name": "stdout",
     "output_type": "stream",
     "text": [
      "EvaluationMetrics: {'precision': 6.49, 'recall': 23.57, 'coverage': 47.33, 'popularity': 6.282811}\n",
      "10 100 2 500 50\n"
     ]
    },
    {
     "name": "stderr",
     "output_type": "stream",
     "text": [
      "推荐中: 100%|██████████████████████████████████████████████████████████████████████| 8427/8427 [01:32<00:00, 91.56it/s]\n"
     ]
    },
    {
     "name": "stdout",
     "output_type": "stream",
     "text": [
      "EvaluationMetrics: {'precision': 4.26, 'recall': 38.69, 'coverage': 82.07, 'popularity': 5.92702}\n",
      "10 100 2 500 100\n"
     ]
    },
    {
     "name": "stderr",
     "output_type": "stream",
     "text": [
      "推荐中: 100%|██████████████████████████████████████████████████████████████████████| 8427/8427 [01:32<00:00, 90.93it/s]\n",
      "切割数据:   0%|                                                                               | 0/8427 [00:00<?, ?it/s]"
     ]
    },
    {
     "name": "stdout",
     "output_type": "stream",
     "text": [
      "EvaluationMetrics: {'precision': 2.97, 'recall': 54.02, 'coverage': 100.0, 'popularity': 5.633152}\n"
     ]
    },
    {
     "name": "stderr",
     "output_type": "stream",
     "text": [
      "切割数据: 100%|███████████████████████████████████████████████████████████████████| 8427/8427 [00:11<00:00, 710.15it/s]\n",
      "用户间相似度: 100%|██████████████████████████████████████████████████████████████████| 619/619 [00:24<00:00, 24.85it/s]\n"
     ]
    },
    {
     "name": "stdout",
     "output_type": "stream",
     "text": [
      "倒排表约使计算量减少至原来的0.19倍.\n",
      "10 100 3 10 20\n"
     ]
    },
    {
     "name": "stderr",
     "output_type": "stream",
     "text": [
      "推荐中: 100%|█████████████████████████████████████████████████████████████████████| 8427/8427 [01:22<00:00, 101.83it/s]\n"
     ]
    },
    {
     "name": "stdout",
     "output_type": "stream",
     "text": [
      "EvaluationMetrics: {'precision': 5.0, 'recall': 15.98, 'coverage': 100.0, 'popularity': 5.383189}\n",
      "10 100 3 10 50\n"
     ]
    },
    {
     "name": "stderr",
     "output_type": "stream",
     "text": [
      "推荐中: 100%|█████████████████████████████████████████████████████████████████████| 8427/8427 [01:22<00:00, 102.16it/s]\n"
     ]
    },
    {
     "name": "stdout",
     "output_type": "stream",
     "text": [
      "EvaluationMetrics: {'precision': 3.95, 'recall': 25.7, 'coverage': 100.0, 'popularity': 5.257715}\n",
      "10 100 3 10 100\n"
     ]
    },
    {
     "name": "stderr",
     "output_type": "stream",
     "text": [
      "推荐中: 100%|█████████████████████████████████████████████████████████████████████| 8427/8427 [01:22<00:00, 101.84it/s]\n"
     ]
    },
    {
     "name": "stdout",
     "output_type": "stream",
     "text": [
      "EvaluationMetrics: {'precision': 3.59, 'recall': 32.47, 'coverage': 100.0, 'popularity': 5.206805}\n",
      "10 100 3 50 20\n"
     ]
    },
    {
     "name": "stderr",
     "output_type": "stream",
     "text": [
      "推荐中: 100%|█████████████████████████████████████████████████████████████████████| 8427/8427 [01:23<00:00, 100.60it/s]\n"
     ]
    },
    {
     "name": "stdout",
     "output_type": "stream",
     "text": [
      "EvaluationMetrics: {'precision': 6.48, 'recall': 23.08, 'coverage': 99.84, 'popularity': 5.788342}\n",
      "10 100 3 50 50\n"
     ]
    },
    {
     "name": "stderr",
     "output_type": "stream",
     "text": [
      "推荐中: 100%|█████████████████████████████████████████████████████████████████████| 8427/8427 [01:23<00:00, 100.78it/s]\n"
     ]
    },
    {
     "name": "stdout",
     "output_type": "stream",
     "text": [
      "EvaluationMetrics: {'precision': 4.11, 'recall': 36.18, 'coverage': 100.0, 'popularity': 5.477747}\n",
      "10 100 3 50 100\n"
     ]
    },
    {
     "name": "stderr",
     "output_type": "stream",
     "text": [
      "推荐中: 100%|█████████████████████████████████████████████████████████████████████| 8427/8427 [01:23<00:00, 100.47it/s]\n"
     ]
    },
    {
     "name": "stdout",
     "output_type": "stream",
     "text": [
      "EvaluationMetrics: {'precision': 2.85, 'recall': 48.67, 'coverage': 100.0, 'popularity': 5.277413}\n",
      "10 100 3 100 20\n"
     ]
    },
    {
     "name": "stderr",
     "output_type": "stream",
     "text": [
      "推荐中: 100%|██████████████████████████████████████████████████████████████████████| 8427/8427 [01:25<00:00, 99.13it/s]\n"
     ]
    },
    {
     "name": "stdout",
     "output_type": "stream",
     "text": [
      "EvaluationMetrics: {'precision': 6.74, 'recall': 24.48, 'coverage': 98.87, 'popularity': 5.978317}\n",
      "10 100 3 100 50\n"
     ]
    },
    {
     "name": "stderr",
     "output_type": "stream",
     "text": [
      "推荐中: 100%|██████████████████████████████████████████████████████████████████████| 8427/8427 [01:24<00:00, 99.28it/s]\n"
     ]
    },
    {
     "name": "stdout",
     "output_type": "stream",
     "text": [
      "EvaluationMetrics: {'precision': 4.27, 'recall': 38.57, 'coverage': 100.0, 'popularity': 5.631686}\n",
      "10 100 3 100 100\n"
     ]
    },
    {
     "name": "stderr",
     "output_type": "stream",
     "text": [
      "推荐中: 100%|██████████████████████████████████████████████████████████████████████| 8427/8427 [01:25<00:00, 98.98it/s]\n"
     ]
    },
    {
     "name": "stdout",
     "output_type": "stream",
     "text": [
      "EvaluationMetrics: {'precision': 2.94, 'recall': 52.38, 'coverage': 100.0, 'popularity': 5.383318}\n",
      "10 100 3 500 20\n"
     ]
    },
    {
     "name": "stderr",
     "output_type": "stream",
     "text": [
      "推荐中: 100%|██████████████████████████████████████████████████████████████████████| 8427/8427 [01:32<00:00, 90.74it/s]\n"
     ]
    },
    {
     "name": "stdout",
     "output_type": "stream",
     "text": [
      "EvaluationMetrics: {'precision': 6.52, 'recall': 23.7, 'coverage': 47.17, 'popularity': 6.280459}\n",
      "10 100 3 500 50\n"
     ]
    },
    {
     "name": "stderr",
     "output_type": "stream",
     "text": [
      "推荐中: 100%|██████████████████████████████████████████████████████████████████████| 8427/8427 [01:32<00:00, 90.83it/s]\n"
     ]
    },
    {
     "name": "stdout",
     "output_type": "stream",
     "text": [
      "EvaluationMetrics: {'precision': 4.26, 'recall': 38.7, 'coverage': 83.36, 'popularity': 5.925527}\n",
      "10 100 3 500 100\n"
     ]
    },
    {
     "name": "stderr",
     "output_type": "stream",
     "text": [
      "推荐中: 100%|██████████████████████████████████████████████████████████████████████| 8427/8427 [01:32<00:00, 90.78it/s]\n",
      "切割数据:   0%|                                                                               | 0/8675 [00:00<?, ?it/s]"
     ]
    },
    {
     "name": "stdout",
     "output_type": "stream",
     "text": [
      "EvaluationMetrics: {'precision': 2.98, 'recall': 54.14, 'coverage': 99.19, 'popularity': 5.634786}\n"
     ]
    },
    {
     "name": "stderr",
     "output_type": "stream",
     "text": [
      "切割数据: 100%|███████████████████████████████████████████████████████████████████| 8675/8675 [00:25<00:00, 344.33it/s]\n",
      "用户间相似度: 100%|█████████████████████████████████████████████████████████████| 10778/10778 [00:42<00:00, 255.08it/s]\n"
     ]
    },
    {
     "name": "stdout",
     "output_type": "stream",
     "text": [
      "倒排表约使计算量减少至原来的0.21倍.\n",
      "10 10 1 10 20\n"
     ]
    },
    {
     "name": "stderr",
     "output_type": "stream",
     "text": [
      "推荐中: 100%|██████████████████████████████████████████████████████████████████████| 8675/8675 [01:30<00:00, 95.46it/s]\n"
     ]
    },
    {
     "name": "stdout",
     "output_type": "stream",
     "text": [
      "EvaluationMetrics: {'precision': 6.25, 'recall': 8.96, 'coverage': 84.91, 'popularity': 4.628977}\n",
      "10 10 1 10 50\n"
     ]
    },
    {
     "name": "stderr",
     "output_type": "stream",
     "text": [
      "推荐中: 100%|██████████████████████████████████████████████████████████████████████| 8675/8675 [01:30<00:00, 95.83it/s]\n"
     ]
    },
    {
     "name": "stdout",
     "output_type": "stream",
     "text": [
      "EvaluationMetrics: {'precision': 4.03, 'recall': 14.03, 'coverage': 98.85, 'popularity': 4.263959}\n",
      "10 10 1 10 100\n"
     ]
    },
    {
     "name": "stderr",
     "output_type": "stream",
     "text": [
      "推荐中: 100%|██████████████████████████████████████████████████████████████████████| 8675/8675 [01:30<00:00, 95.73it/s]\n"
     ]
    },
    {
     "name": "stdout",
     "output_type": "stream",
     "text": [
      "EvaluationMetrics: {'precision': 2.87, 'recall': 18.64, 'coverage': 99.98, 'popularity': 4.064063}\n",
      "10 10 1 50 20\n"
     ]
    },
    {
     "name": "stderr",
     "output_type": "stream",
     "text": [
      "推荐中: 100%|██████████████████████████████████████████████████████████████████████| 8675/8675 [01:33<00:00, 92.62it/s]\n"
     ]
    },
    {
     "name": "stdout",
     "output_type": "stream",
     "text": [
      "EvaluationMetrics: {'precision': 7.56, 'recall': 10.99, 'coverage': 40.3, 'popularity': 5.599809}\n",
      "10 10 1 50 50\n"
     ]
    },
    {
     "name": "stderr",
     "output_type": "stream",
     "text": [
      "推荐中: 100%|██████████████████████████████████████████████████████████████████████| 8675/8675 [01:34<00:00, 91.69it/s]\n"
     ]
    },
    {
     "name": "stdout",
     "output_type": "stream",
     "text": [
      "EvaluationMetrics: {'precision': 5.0, 'recall': 18.15, 'coverage': 74.36, 'popularity': 5.15866}\n",
      "10 10 1 50 100\n"
     ]
    },
    {
     "name": "stderr",
     "output_type": "stream",
     "text": [
      "推荐中: 100%|██████████████████████████████████████████████████████████████████████| 8675/8675 [01:34<00:00, 91.93it/s]\n"
     ]
    },
    {
     "name": "stdout",
     "output_type": "stream",
     "text": [
      "EvaluationMetrics: {'precision': 3.47, 'recall': 25.07, 'coverage': 94.85, 'popularity': 4.793848}\n",
      "10 10 1 100 20\n"
     ]
    },
    {
     "name": "stderr",
     "output_type": "stream",
     "text": [
      "推荐中: 100%|██████████████████████████████████████████████████████████████████████| 8675/8675 [01:37<00:00, 88.60it/s]\n"
     ]
    },
    {
     "name": "stdout",
     "output_type": "stream",
     "text": [
      "EvaluationMetrics: {'precision': 7.36, 'recall': 10.69, 'coverage': 21.15, 'popularity': 5.916473}\n",
      "10 10 1 100 50\n"
     ]
    },
    {
     "name": "stderr",
     "output_type": "stream",
     "text": [
      "推荐中: 100%|██████████████████████████████████████████████████████████████████████| 8675/8675 [01:38<00:00, 88.25it/s]\n"
     ]
    },
    {
     "name": "stdout",
     "output_type": "stream",
     "text": [
      "EvaluationMetrics: {'precision': 4.95, 'recall': 17.99, 'coverage': 48.22, 'popularity': 5.503876}\n",
      "10 10 1 100 100\n"
     ]
    },
    {
     "name": "stderr",
     "output_type": "stream",
     "text": [
      "推荐中: 100%|██████████████████████████████████████████████████████████████████████| 8675/8675 [01:38<00:00, 88.26it/s]\n"
     ]
    },
    {
     "name": "stdout",
     "output_type": "stream",
     "text": [
      "EvaluationMetrics: {'precision': 3.52, 'recall': 25.58, 'coverage': 75.95, 'popularity': 5.139485}\n",
      "10 10 1 500 20\n"
     ]
    },
    {
     "name": "stderr",
     "output_type": "stream",
     "text": [
      "推荐中: 100%|██████████████████████████████████████████████████████████████████████| 8675/8675 [02:05<00:00, 68.91it/s]\n"
     ]
    },
    {
     "name": "stdout",
     "output_type": "stream",
     "text": [
      "EvaluationMetrics: {'precision': 6.15, 'recall': 8.94, 'coverage': 3.15, 'popularity': 6.3059}\n",
      "10 10 1 500 50\n"
     ]
    },
    {
     "name": "stderr",
     "output_type": "stream",
     "text": [
      "推荐中: 100%|██████████████████████████████████████████████████████████████████████| 8675/8675 [02:06<00:00, 68.83it/s]\n"
     ]
    },
    {
     "name": "stdout",
     "output_type": "stream",
     "text": [
      "EvaluationMetrics: {'precision': 4.09, 'recall': 14.85, 'coverage': 7.55, 'popularity': 5.960027}\n",
      "10 10 1 500 100\n"
     ]
    },
    {
     "name": "stderr",
     "output_type": "stream",
     "text": [
      "推荐中: 100%|██████████████████████████████████████████████████████████████████████| 8675/8675 [02:06<00:00, 68.63it/s]\n",
      "切割数据:   0%|                                                                               | 0/8675 [00:00<?, ?it/s]"
     ]
    },
    {
     "name": "stdout",
     "output_type": "stream",
     "text": [
      "EvaluationMetrics: {'precision': 2.99, 'recall': 21.71, 'coverage': 16.19, 'popularity': 5.65311}\n"
     ]
    },
    {
     "name": "stderr",
     "output_type": "stream",
     "text": [
      "切割数据: 100%|███████████████████████████████████████████████████████████████████| 8675/8675 [00:25<00:00, 337.56it/s]\n",
      "用户间相似度: 100%|█████████████████████████████████████████████████████████████| 10779/10779 [00:42<00:00, 254.40it/s]\n"
     ]
    },
    {
     "name": "stdout",
     "output_type": "stream",
     "text": [
      "倒排表约使计算量减少至原来的0.21倍.\n",
      "10 10 2 10 20\n"
     ]
    },
    {
     "name": "stderr",
     "output_type": "stream",
     "text": [
      "推荐中: 100%|██████████████████████████████████████████████████████████████████████| 8675/8675 [01:30<00:00, 95.60it/s]\n"
     ]
    },
    {
     "name": "stdout",
     "output_type": "stream",
     "text": [
      "EvaluationMetrics: {'precision': 6.21, 'recall': 8.9, 'coverage': 84.44, 'popularity': 4.617661}\n",
      "10 10 2 10 50\n"
     ]
    },
    {
     "name": "stderr",
     "output_type": "stream",
     "text": [
      "推荐中: 100%|██████████████████████████████████████████████████████████████████████| 8675/8675 [01:30<00:00, 96.21it/s]\n"
     ]
    },
    {
     "name": "stdout",
     "output_type": "stream",
     "text": [
      "EvaluationMetrics: {'precision': 4.01, 'recall': 13.92, 'coverage': 98.88, 'popularity': 4.254028}\n",
      "10 10 2 10 100\n"
     ]
    },
    {
     "name": "stderr",
     "output_type": "stream",
     "text": [
      "推荐中: 100%|██████████████████████████████████████████████████████████████████████| 8675/8675 [01:30<00:00, 96.12it/s]\n"
     ]
    },
    {
     "name": "stdout",
     "output_type": "stream",
     "text": [
      "EvaluationMetrics: {'precision': 2.88, 'recall': 18.58, 'coverage': 99.98, 'popularity': 4.056623}\n",
      "10 10 2 50 20\n"
     ]
    },
    {
     "name": "stderr",
     "output_type": "stream",
     "text": [
      "推荐中: 100%|██████████████████████████████████████████████████████████████████████| 8675/8675 [01:33<00:00, 92.31it/s]\n"
     ]
    },
    {
     "name": "stdout",
     "output_type": "stream",
     "text": [
      "EvaluationMetrics: {'precision': 7.63, 'recall': 11.09, 'coverage': 41.57, 'popularity': 5.595002}\n",
      "10 10 2 50 50\n"
     ]
    },
    {
     "name": "stderr",
     "output_type": "stream",
     "text": [
      "推荐中: 100%|██████████████████████████████████████████████████████████████████████| 8675/8675 [01:34<00:00, 92.05it/s]\n"
     ]
    },
    {
     "name": "stdout",
     "output_type": "stream",
     "text": [
      "EvaluationMetrics: {'precision': 5.03, 'recall': 18.27, 'coverage': 74.41, 'popularity': 5.146861}\n",
      "10 10 2 50 100\n"
     ]
    },
    {
     "name": "stderr",
     "output_type": "stream",
     "text": [
      "推荐中: 100%|██████████████████████████████████████████████████████████████████████| 8675/8675 [01:33<00:00, 92.53it/s]\n"
     ]
    },
    {
     "name": "stdout",
     "output_type": "stream",
     "text": [
      "EvaluationMetrics: {'precision': 3.49, 'recall': 25.18, 'coverage': 95.18, 'popularity': 4.777889}\n",
      "10 10 2 100 20\n"
     ]
    },
    {
     "name": "stderr",
     "output_type": "stream",
     "text": [
      "推荐中: 100%|██████████████████████████████████████████████████████████████████████| 8675/8675 [01:38<00:00, 88.38it/s]\n"
     ]
    },
    {
     "name": "stdout",
     "output_type": "stream",
     "text": [
      "EvaluationMetrics: {'precision': 7.43, 'recall': 10.79, 'coverage': 21.51, 'popularity': 5.918746}\n",
      "10 10 2 100 50\n"
     ]
    },
    {
     "name": "stderr",
     "output_type": "stream",
     "text": [
      "推荐中: 100%|██████████████████████████████████████████████████████████████████████| 8675/8675 [01:38<00:00, 88.44it/s]\n"
     ]
    },
    {
     "name": "stdout",
     "output_type": "stream",
     "text": [
      "EvaluationMetrics: {'precision': 4.99, 'recall': 18.12, 'coverage': 49.23, 'popularity': 5.489652}\n",
      "10 10 2 100 100\n"
     ]
    },
    {
     "name": "stderr",
     "output_type": "stream",
     "text": [
      "推荐中: 100%|██████████████████████████████████████████████████████████████████████| 8675/8675 [01:38<00:00, 88.50it/s]\n"
     ]
    },
    {
     "name": "stdout",
     "output_type": "stream",
     "text": [
      "EvaluationMetrics: {'precision': 3.54, 'recall': 25.69, 'coverage': 76.49, 'popularity': 5.119633}\n",
      "10 10 2 500 20\n"
     ]
    },
    {
     "name": "stderr",
     "output_type": "stream",
     "text": [
      "推荐中: 100%|██████████████████████████████████████████████████████████████████████| 8675/8675 [02:05<00:00, 69.20it/s]\n"
     ]
    },
    {
     "name": "stdout",
     "output_type": "stream",
     "text": [
      "EvaluationMetrics: {'precision': 6.11, 'recall': 8.88, 'coverage': 3.27, 'popularity': 6.31067}\n",
      "10 10 2 500 50\n"
     ]
    },
    {
     "name": "stderr",
     "output_type": "stream",
     "text": [
      "推荐中: 100%|██████████████████████████████████████████████████████████████████████| 8675/8675 [02:05<00:00, 69.05it/s]\n"
     ]
    },
    {
     "name": "stdout",
     "output_type": "stream",
     "text": [
      "EvaluationMetrics: {'precision': 4.13, 'recall': 15.01, 'coverage': 8.11, 'popularity': 5.952244}\n",
      "10 10 2 500 100\n"
     ]
    },
    {
     "name": "stderr",
     "output_type": "stream",
     "text": [
      "推荐中: 100%|██████████████████████████████████████████████████████████████████████| 8675/8675 [02:06<00:00, 68.72it/s]\n",
      "切割数据:   0%|                                                                               | 0/8675 [00:00<?, ?it/s]"
     ]
    },
    {
     "name": "stdout",
     "output_type": "stream",
     "text": [
      "EvaluationMetrics: {'precision': 3.04, 'recall': 22.06, 'coverage': 17.52, 'popularity': 5.63856}\n"
     ]
    },
    {
     "name": "stderr",
     "output_type": "stream",
     "text": [
      "切割数据: 100%|███████████████████████████████████████████████████████████████████| 8675/8675 [00:25<00:00, 344.19it/s]\n",
      "用户间相似度: 100%|█████████████████████████████████████████████████████████████| 10779/10779 [00:44<00:00, 239.98it/s]\n"
     ]
    },
    {
     "name": "stdout",
     "output_type": "stream",
     "text": [
      "倒排表约使计算量减少至原来的0.21倍.\n",
      "10 10 3 10 20\n"
     ]
    },
    {
     "name": "stderr",
     "output_type": "stream",
     "text": [
      "推荐中: 100%|██████████████████████████████████████████████████████████████████████| 8675/8675 [01:30<00:00, 95.36it/s]\n"
     ]
    },
    {
     "name": "stdout",
     "output_type": "stream",
     "text": [
      "EvaluationMetrics: {'precision': 6.15, 'recall': 8.81, 'coverage': 84.78, 'popularity': 4.619539}\n",
      "10 10 3 10 50\n"
     ]
    },
    {
     "name": "stderr",
     "output_type": "stream",
     "text": [
      "推荐中: 100%|██████████████████████████████████████████████████████████████████████| 8675/8675 [01:30<00:00, 95.83it/s]\n"
     ]
    },
    {
     "name": "stdout",
     "output_type": "stream",
     "text": [
      "EvaluationMetrics: {'precision': 4.03, 'recall': 13.96, 'coverage': 98.79, 'popularity': 4.258384}\n",
      "10 10 3 10 100\n"
     ]
    },
    {
     "name": "stderr",
     "output_type": "stream",
     "text": [
      "推荐中: 100%|██████████████████████████████████████████████████████████████████████| 8675/8675 [01:30<00:00, 95.75it/s]\n"
     ]
    },
    {
     "name": "stdout",
     "output_type": "stream",
     "text": [
      "EvaluationMetrics: {'precision': 2.86, 'recall': 18.47, 'coverage': 99.94, 'popularity': 4.059773}\n",
      "10 10 3 50 20\n"
     ]
    },
    {
     "name": "stderr",
     "output_type": "stream",
     "text": [
      "推荐中: 100%|██████████████████████████████████████████████████████████████████████| 8675/8675 [01:34<00:00, 92.25it/s]\n"
     ]
    },
    {
     "name": "stdout",
     "output_type": "stream",
     "text": [
      "EvaluationMetrics: {'precision': 7.55, 'recall': 10.97, 'coverage': 40.61, 'popularity': 5.595071}\n",
      "10 10 3 50 50\n"
     ]
    },
    {
     "name": "stderr",
     "output_type": "stream",
     "text": [
      "推荐中: 100%|██████████████████████████████████████████████████████████████████████| 8675/8675 [01:35<00:00, 91.26it/s]\n"
     ]
    },
    {
     "name": "stdout",
     "output_type": "stream",
     "text": [
      "EvaluationMetrics: {'precision': 4.95, 'recall': 17.97, 'coverage': 74.93, 'popularity': 5.152809}\n",
      "10 10 3 50 100\n"
     ]
    },
    {
     "name": "stderr",
     "output_type": "stream",
     "text": [
      "推荐中: 100%|██████████████████████████████████████████████████████████████████████| 8675/8675 [01:34<00:00, 91.64it/s]\n"
     ]
    },
    {
     "name": "stdout",
     "output_type": "stream",
     "text": [
      "EvaluationMetrics: {'precision': 3.46, 'recall': 25.0, 'coverage': 94.98, 'popularity': 4.782049}\n",
      "10 10 3 100 20\n"
     ]
    },
    {
     "name": "stderr",
     "output_type": "stream",
     "text": [
      "推荐中: 100%|██████████████████████████████████████████████████████████████████████| 8675/8675 [01:38<00:00, 87.64it/s]\n"
     ]
    },
    {
     "name": "stdout",
     "output_type": "stream",
     "text": [
      "EvaluationMetrics: {'precision': 7.32, 'recall': 10.64, 'coverage': 21.17, 'popularity': 5.917593}\n",
      "10 10 3 100 50\n"
     ]
    },
    {
     "name": "stderr",
     "output_type": "stream",
     "text": [
      "推荐中: 100%|██████████████████████████████████████████████████████████████████████| 8675/8675 [01:38<00:00, 88.26it/s]\n"
     ]
    },
    {
     "name": "stdout",
     "output_type": "stream",
     "text": [
      "EvaluationMetrics: {'precision': 4.95, 'recall': 17.98, 'coverage': 48.66, 'popularity': 5.494708}\n",
      "10 10 3 100 100\n"
     ]
    },
    {
     "name": "stderr",
     "output_type": "stream",
     "text": [
      "推荐中: 100%|██████████████████████████████████████████████████████████████████████| 8675/8675 [01:39<00:00, 87.17it/s]\n"
     ]
    },
    {
     "name": "stdout",
     "output_type": "stream",
     "text": [
      "EvaluationMetrics: {'precision': 3.51, 'recall': 25.49, 'coverage': 77.0, 'popularity': 5.127034}\n",
      "10 10 3 500 20\n"
     ]
    },
    {
     "name": "stderr",
     "output_type": "stream",
     "text": [
      "推荐中: 100%|██████████████████████████████████████████████████████████████████████| 8675/8675 [02:06<00:00, 68.74it/s]\n"
     ]
    },
    {
     "name": "stdout",
     "output_type": "stream",
     "text": [
      "EvaluationMetrics: {'precision': 6.13, 'recall': 8.91, 'coverage': 3.18, 'popularity': 6.305945}\n",
      "10 10 3 500 50\n"
     ]
    },
    {
     "name": "stderr",
     "output_type": "stream",
     "text": [
      "推荐中: 100%|██████████████████████████████████████████████████████████████████████| 8675/8675 [02:06<00:00, 68.74it/s]\n"
     ]
    },
    {
     "name": "stdout",
     "output_type": "stream",
     "text": [
      "EvaluationMetrics: {'precision': 4.08, 'recall': 14.82, 'coverage': 8.09, 'popularity': 5.957953}\n",
      "10 10 3 500 100\n"
     ]
    },
    {
     "name": "stderr",
     "output_type": "stream",
     "text": [
      "推荐中: 100%|██████████████████████████████████████████████████████████████████████| 8675/8675 [02:07<00:00, 67.98it/s]\n"
     ]
    },
    {
     "name": "stdout",
     "output_type": "stream",
     "text": [
      "EvaluationMetrics: {'precision': 3.0, 'recall': 21.82, 'coverage': 17.17, 'popularity': 5.647832}\n"
     ]
    }
   ],
   "source": [
    "for ignore_user_n,ignore_up_n,seed in its.product([10],[100,10],[1,2,3]):\n",
    "    model_usercf = UserCF(dt_fmt,K=30,N=30,split_n=0.7,\n",
    "                          ignore_user_n=ignore_user_n,ignore_up_n=ignore_up_n,seed=seed)\n",
    "    for K,N in its.product([10,50,100,500],[20,50,100]):\n",
    "        print(ignore_user_n,ignore_up_n,seed,\n",
    "              K,N)\n",
    "        time.sleep(0.5)\n",
    "        model_usercf.K = K\n",
    "        model_usercf.N = N\n",
    "        usercf_exp = Experiment(model_usercf,5)\n",
    "\n",
    "        res = usercf_exp.validate()\n",
    "        res[\"model\"] = \"UserCF\"\n",
    "        res[\"split_n\"] = 0.7\n",
    "        res[\"ignore_user_n\"] = ignore_user_n\n",
    "        res[\"ignore_up_n\"] = ignore_up_n\n",
    "        res[\"seed\"] = seed\n",
    "        res[\"K\"] = K\n",
    "        res[\"N\"] = N\n",
    "        results = results.append(res,ignore_index=True)"
   ]
  },
  {
   "cell_type": "code",
   "execution_count": 11,
   "metadata": {},
   "outputs": [
    {
     "data": {
      "text/html": [
       "<div>\n",
       "<style scoped>\n",
       "    .dataframe tbody tr th:only-of-type {\n",
       "        vertical-align: middle;\n",
       "    }\n",
       "\n",
       "    .dataframe tbody tr th {\n",
       "        vertical-align: top;\n",
       "    }\n",
       "\n",
       "    .dataframe thead th {\n",
       "        text-align: right;\n",
       "    }\n",
       "</style>\n",
       "<table border=\"1\" class=\"dataframe\">\n",
       "  <thead>\n",
       "    <tr style=\"text-align: right;\">\n",
       "      <th></th>\n",
       "      <th>model</th>\n",
       "      <th>split_n</th>\n",
       "      <th>K</th>\n",
       "      <th>N</th>\n",
       "      <th>ignore_user_n</th>\n",
       "      <th>ignore_up_n</th>\n",
       "      <th>seed</th>\n",
       "      <th>precision</th>\n",
       "      <th>recall</th>\n",
       "      <th>coverage</th>\n",
       "      <th>popularity</th>\n",
       "    </tr>\n",
       "  </thead>\n",
       "  <tbody>\n",
       "    <tr>\n",
       "      <th>5</th>\n",
       "      <td>UserCF</td>\n",
       "      <td>0.7</td>\n",
       "      <td>50</td>\n",
       "      <td>100</td>\n",
       "      <td>10</td>\n",
       "      <td>100</td>\n",
       "      <td>1</td>\n",
       "      <td>2.84</td>\n",
       "      <td>48.51</td>\n",
       "      <td>100.00</td>\n",
       "      <td>5.273921</td>\n",
       "    </tr>\n",
       "    <tr>\n",
       "      <th>29</th>\n",
       "      <td>UserCF</td>\n",
       "      <td>0.7</td>\n",
       "      <td>50</td>\n",
       "      <td>100</td>\n",
       "      <td>10</td>\n",
       "      <td>100</td>\n",
       "      <td>3</td>\n",
       "      <td>2.85</td>\n",
       "      <td>48.67</td>\n",
       "      <td>100.00</td>\n",
       "      <td>5.277413</td>\n",
       "    </tr>\n",
       "    <tr>\n",
       "      <th>17</th>\n",
       "      <td>UserCF</td>\n",
       "      <td>0.7</td>\n",
       "      <td>50</td>\n",
       "      <td>100</td>\n",
       "      <td>10</td>\n",
       "      <td>100</td>\n",
       "      <td>2</td>\n",
       "      <td>2.85</td>\n",
       "      <td>48.59</td>\n",
       "      <td>100.00</td>\n",
       "      <td>5.279771</td>\n",
       "    </tr>\n",
       "    <tr>\n",
       "      <th>62</th>\n",
       "      <td>UserCF</td>\n",
       "      <td>0.7</td>\n",
       "      <td>10</td>\n",
       "      <td>100</td>\n",
       "      <td>10</td>\n",
       "      <td>10</td>\n",
       "      <td>3</td>\n",
       "      <td>2.86</td>\n",
       "      <td>18.47</td>\n",
       "      <td>99.94</td>\n",
       "      <td>4.059773</td>\n",
       "    </tr>\n",
       "    <tr>\n",
       "      <th>38</th>\n",
       "      <td>UserCF</td>\n",
       "      <td>0.7</td>\n",
       "      <td>10</td>\n",
       "      <td>100</td>\n",
       "      <td>10</td>\n",
       "      <td>10</td>\n",
       "      <td>1</td>\n",
       "      <td>2.87</td>\n",
       "      <td>18.64</td>\n",
       "      <td>99.98</td>\n",
       "      <td>4.064063</td>\n",
       "    </tr>\n",
       "    <tr>\n",
       "      <th>...</th>\n",
       "      <td>...</td>\n",
       "      <td>...</td>\n",
       "      <td>...</td>\n",
       "      <td>...</td>\n",
       "      <td>...</td>\n",
       "      <td>...</td>\n",
       "      <td>...</td>\n",
       "      <td>...</td>\n",
       "      <td>...</td>\n",
       "      <td>...</td>\n",
       "      <td>...</td>\n",
       "    </tr>\n",
       "    <tr>\n",
       "      <th>42</th>\n",
       "      <td>UserCF</td>\n",
       "      <td>0.7</td>\n",
       "      <td>100</td>\n",
       "      <td>20</td>\n",
       "      <td>10</td>\n",
       "      <td>10</td>\n",
       "      <td>1</td>\n",
       "      <td>7.36</td>\n",
       "      <td>10.69</td>\n",
       "      <td>21.15</td>\n",
       "      <td>5.916473</td>\n",
       "    </tr>\n",
       "    <tr>\n",
       "      <th>54</th>\n",
       "      <td>UserCF</td>\n",
       "      <td>0.7</td>\n",
       "      <td>100</td>\n",
       "      <td>20</td>\n",
       "      <td>10</td>\n",
       "      <td>10</td>\n",
       "      <td>2</td>\n",
       "      <td>7.43</td>\n",
       "      <td>10.79</td>\n",
       "      <td>21.51</td>\n",
       "      <td>5.918746</td>\n",
       "    </tr>\n",
       "    <tr>\n",
       "      <th>63</th>\n",
       "      <td>UserCF</td>\n",
       "      <td>0.7</td>\n",
       "      <td>50</td>\n",
       "      <td>20</td>\n",
       "      <td>10</td>\n",
       "      <td>10</td>\n",
       "      <td>3</td>\n",
       "      <td>7.55</td>\n",
       "      <td>10.97</td>\n",
       "      <td>40.61</td>\n",
       "      <td>5.595071</td>\n",
       "    </tr>\n",
       "    <tr>\n",
       "      <th>39</th>\n",
       "      <td>UserCF</td>\n",
       "      <td>0.7</td>\n",
       "      <td>50</td>\n",
       "      <td>20</td>\n",
       "      <td>10</td>\n",
       "      <td>10</td>\n",
       "      <td>1</td>\n",
       "      <td>7.56</td>\n",
       "      <td>10.99</td>\n",
       "      <td>40.30</td>\n",
       "      <td>5.599809</td>\n",
       "    </tr>\n",
       "    <tr>\n",
       "      <th>51</th>\n",
       "      <td>UserCF</td>\n",
       "      <td>0.7</td>\n",
       "      <td>50</td>\n",
       "      <td>20</td>\n",
       "      <td>10</td>\n",
       "      <td>10</td>\n",
       "      <td>2</td>\n",
       "      <td>7.63</td>\n",
       "      <td>11.09</td>\n",
       "      <td>41.57</td>\n",
       "      <td>5.595002</td>\n",
       "    </tr>\n",
       "  </tbody>\n",
       "</table>\n",
       "<p>72 rows × 11 columns</p>\n",
       "</div>"
      ],
      "text/plain": [
       "     model  split_n    K    N ignore_user_n ignore_up_n seed  precision  \\\n",
       "5   UserCF      0.7   50  100            10         100    1       2.84   \n",
       "29  UserCF      0.7   50  100            10         100    3       2.85   \n",
       "17  UserCF      0.7   50  100            10         100    2       2.85   \n",
       "62  UserCF      0.7   10  100            10          10    3       2.86   \n",
       "38  UserCF      0.7   10  100            10          10    1       2.87   \n",
       "..     ...      ...  ...  ...           ...         ...  ...        ...   \n",
       "42  UserCF      0.7  100   20            10          10    1       7.36   \n",
       "54  UserCF      0.7  100   20            10          10    2       7.43   \n",
       "63  UserCF      0.7   50   20            10          10    3       7.55   \n",
       "39  UserCF      0.7   50   20            10          10    1       7.56   \n",
       "51  UserCF      0.7   50   20            10          10    2       7.63   \n",
       "\n",
       "    recall  coverage  popularity  \n",
       "5    48.51    100.00    5.273921  \n",
       "29   48.67    100.00    5.277413  \n",
       "17   48.59    100.00    5.279771  \n",
       "62   18.47     99.94    4.059773  \n",
       "38   18.64     99.98    4.064063  \n",
       "..     ...       ...         ...  \n",
       "42   10.69     21.15    5.916473  \n",
       "54   10.79     21.51    5.918746  \n",
       "63   10.97     40.61    5.595071  \n",
       "39   10.99     40.30    5.599809  \n",
       "51   11.09     41.57    5.595002  \n",
       "\n",
       "[72 rows x 11 columns]"
      ]
     },
     "execution_count": 11,
     "metadata": {},
     "output_type": "execute_result"
    }
   ],
   "source": [
    "results.sort_values(\"precision\")"
   ]
  },
  {
   "cell_type": "code",
   "execution_count": 13,
   "metadata": {},
   "outputs": [
    {
     "data": {
      "text/plain": [
       "array([10, 50, 100, 500], dtype=object)"
      ]
     },
     "execution_count": 13,
     "metadata": {},
     "output_type": "execute_result"
    }
   ],
   "source": [
    "results.K.unique()"
   ]
  },
  {
   "cell_type": "code",
   "execution_count": 14,
   "metadata": {},
   "outputs": [
    {
     "data": {
      "text/plain": [
       "array([20, 50, 100], dtype=object)"
      ]
     },
     "execution_count": 14,
     "metadata": {},
     "output_type": "execute_result"
    }
   ],
   "source": [
    "results.N.unique()"
   ]
  },
  {
   "cell_type": "code",
   "execution_count": 12,
   "metadata": {},
   "outputs": [
    {
     "data": {
      "text/html": [
       "<div>\n",
       "<style scoped>\n",
       "    .dataframe tbody tr th:only-of-type {\n",
       "        vertical-align: middle;\n",
       "    }\n",
       "\n",
       "    .dataframe tbody tr th {\n",
       "        vertical-align: top;\n",
       "    }\n",
       "\n",
       "    .dataframe thead th {\n",
       "        text-align: right;\n",
       "    }\n",
       "</style>\n",
       "<table border=\"1\" class=\"dataframe\">\n",
       "  <thead>\n",
       "    <tr style=\"text-align: right;\">\n",
       "      <th></th>\n",
       "      <th>model</th>\n",
       "      <th>split_n</th>\n",
       "      <th>K</th>\n",
       "      <th>N</th>\n",
       "      <th>ignore_user_n</th>\n",
       "      <th>ignore_up_n</th>\n",
       "      <th>seed</th>\n",
       "      <th>precision</th>\n",
       "      <th>recall</th>\n",
       "      <th>coverage</th>\n",
       "      <th>popularity</th>\n",
       "    </tr>\n",
       "  </thead>\n",
       "  <tbody>\n",
       "    <tr>\n",
       "      <th>39</th>\n",
       "      <td>UserCF</td>\n",
       "      <td>0.7</td>\n",
       "      <td>50</td>\n",
       "      <td>20</td>\n",
       "      <td>10</td>\n",
       "      <td>10</td>\n",
       "      <td>1</td>\n",
       "      <td>7.56</td>\n",
       "      <td>10.99</td>\n",
       "      <td>40.30</td>\n",
       "      <td>5.599809</td>\n",
       "    </tr>\n",
       "    <tr>\n",
       "      <th>42</th>\n",
       "      <td>UserCF</td>\n",
       "      <td>0.7</td>\n",
       "      <td>100</td>\n",
       "      <td>20</td>\n",
       "      <td>10</td>\n",
       "      <td>10</td>\n",
       "      <td>1</td>\n",
       "      <td>7.36</td>\n",
       "      <td>10.69</td>\n",
       "      <td>21.15</td>\n",
       "      <td>5.916473</td>\n",
       "    </tr>\n",
       "    <tr>\n",
       "      <th>51</th>\n",
       "      <td>UserCF</td>\n",
       "      <td>0.7</td>\n",
       "      <td>50</td>\n",
       "      <td>20</td>\n",
       "      <td>10</td>\n",
       "      <td>10</td>\n",
       "      <td>2</td>\n",
       "      <td>7.63</td>\n",
       "      <td>11.09</td>\n",
       "      <td>41.57</td>\n",
       "      <td>5.595002</td>\n",
       "    </tr>\n",
       "    <tr>\n",
       "      <th>54</th>\n",
       "      <td>UserCF</td>\n",
       "      <td>0.7</td>\n",
       "      <td>100</td>\n",
       "      <td>20</td>\n",
       "      <td>10</td>\n",
       "      <td>10</td>\n",
       "      <td>2</td>\n",
       "      <td>7.43</td>\n",
       "      <td>10.79</td>\n",
       "      <td>21.51</td>\n",
       "      <td>5.918746</td>\n",
       "    </tr>\n",
       "    <tr>\n",
       "      <th>63</th>\n",
       "      <td>UserCF</td>\n",
       "      <td>0.7</td>\n",
       "      <td>50</td>\n",
       "      <td>20</td>\n",
       "      <td>10</td>\n",
       "      <td>10</td>\n",
       "      <td>3</td>\n",
       "      <td>7.55</td>\n",
       "      <td>10.97</td>\n",
       "      <td>40.61</td>\n",
       "      <td>5.595071</td>\n",
       "    </tr>\n",
       "    <tr>\n",
       "      <th>66</th>\n",
       "      <td>UserCF</td>\n",
       "      <td>0.7</td>\n",
       "      <td>100</td>\n",
       "      <td>20</td>\n",
       "      <td>10</td>\n",
       "      <td>10</td>\n",
       "      <td>3</td>\n",
       "      <td>7.32</td>\n",
       "      <td>10.64</td>\n",
       "      <td>21.17</td>\n",
       "      <td>5.917593</td>\n",
       "    </tr>\n",
       "  </tbody>\n",
       "</table>\n",
       "</div>"
      ],
      "text/plain": [
       "     model  split_n    K   N ignore_user_n ignore_up_n seed  precision  \\\n",
       "39  UserCF      0.7   50  20            10          10    1       7.56   \n",
       "42  UserCF      0.7  100  20            10          10    1       7.36   \n",
       "51  UserCF      0.7   50  20            10          10    2       7.63   \n",
       "54  UserCF      0.7  100  20            10          10    2       7.43   \n",
       "63  UserCF      0.7   50  20            10          10    3       7.55   \n",
       "66  UserCF      0.7  100  20            10          10    3       7.32   \n",
       "\n",
       "    recall  coverage  popularity  \n",
       "39   10.99     40.30    5.599809  \n",
       "42   10.69     21.15    5.916473  \n",
       "51   11.09     41.57    5.595002  \n",
       "54   10.79     21.51    5.918746  \n",
       "63   10.97     40.61    5.595071  \n",
       "66   10.64     21.17    5.917593  "
      ]
     },
     "execution_count": 12,
     "metadata": {},
     "output_type": "execute_result"
    }
   ],
   "source": [
    "results[results.precision>=7]"
   ]
  },
  {
   "cell_type": "code",
   "execution_count": 15,
   "metadata": {},
   "outputs": [
    {
     "name": "stderr",
     "output_type": "stream",
     "text": [
      "切割数据: 100%|███████████████████████████████████████████████████████████████████| 8675/8675 [00:25<00:00, 339.39it/s]\n",
      "用户间相似度: 100%|█████████████████████████████████████████████████████████████| 10778/10778 [00:41<00:00, 260.88it/s]\n"
     ]
    },
    {
     "name": "stdout",
     "output_type": "stream",
     "text": [
      "倒排表约使计算量减少至原来的0.21倍.\n",
      "10 10 1 30 25\n"
     ]
    },
    {
     "name": "stderr",
     "output_type": "stream",
     "text": [
      "推荐中: 100%|██████████████████████████████████████████████████████████████████████| 8675/8675 [01:33<00:00, 92.92it/s]\n"
     ]
    },
    {
     "name": "stdout",
     "output_type": "stream",
     "text": [
      "EvaluationMetrics: {'precision': 6.73, 'recall': 12.21, 'coverage': 65.04, 'popularity': 5.205999}\n",
      "10 10 1 30 40\n"
     ]
    },
    {
     "name": "stderr",
     "output_type": "stream",
     "text": [
      "推荐中: 100%|██████████████████████████████████████████████████████████████████████| 8675/8675 [01:32<00:00, 93.40it/s]\n"
     ]
    },
    {
     "name": "stdout",
     "output_type": "stream",
     "text": [
      "EvaluationMetrics: {'precision': 5.44, 'recall': 15.74, 'coverage': 82.7, 'popularity': 4.976051}\n",
      "10 10 1 50 25\n"
     ]
    },
    {
     "name": "stderr",
     "output_type": "stream",
     "text": [
      "推荐中: 100%|██████████████████████████████████████████████████████████████████████| 8675/8675 [01:35<00:00, 91.20it/s]\n"
     ]
    },
    {
     "name": "stdout",
     "output_type": "stream",
     "text": [
      "EvaluationMetrics: {'precision': 6.84, 'recall': 12.44, 'coverage': 47.94, 'popularity': 5.497091}\n",
      "10 10 1 50 40\n"
     ]
    },
    {
     "name": "stderr",
     "output_type": "stream",
     "text": [
      "推荐中: 100%|██████████████████████████████████████████████████████████████████████| 8675/8675 [01:34<00:00, 91.50it/s]\n"
     ]
    },
    {
     "name": "stdout",
     "output_type": "stream",
     "text": [
      "EvaluationMetrics: {'precision': 5.57, 'recall': 16.2, 'coverage': 65.62, 'popularity': 5.270234}\n",
      "10 10 1 75 25\n"
     ]
    },
    {
     "name": "stderr",
     "output_type": "stream",
     "text": [
      "推荐中: 100%|██████████████████████████████████████████████████████████████████████| 8675/8675 [01:36<00:00, 89.52it/s]\n"
     ]
    },
    {
     "name": "stdout",
     "output_type": "stream",
     "text": [
      "EvaluationMetrics: {'precision': 6.83, 'recall': 12.42, 'coverage': 34.52, 'popularity': 5.696026}\n",
      "10 10 1 75 40\n"
     ]
    },
    {
     "name": "stderr",
     "output_type": "stream",
     "text": [
      "推荐中: 100%|██████████████████████████████████████████████████████████████████████| 8675/8675 [01:37<00:00, 89.41it/s]\n"
     ]
    },
    {
     "name": "stdout",
     "output_type": "stream",
     "text": [
      "EvaluationMetrics: {'precision': 5.57, 'recall': 16.19, 'coverage': 50.38, 'popularity': 5.48015}\n",
      "10 10 1 100 25\n"
     ]
    },
    {
     "name": "stderr",
     "output_type": "stream",
     "text": [
      "推荐中: 100%|██████████████████████████████████████████████████████████████████████| 8675/8675 [01:37<00:00, 88.68it/s]\n"
     ]
    },
    {
     "name": "stdout",
     "output_type": "stream",
     "text": [
      "EvaluationMetrics: {'precision': 6.7, 'recall': 12.17, 'coverage': 26.11, 'popularity': 5.821234}\n",
      "10 10 1 100 40\n"
     ]
    },
    {
     "name": "stderr",
     "output_type": "stream",
     "text": [
      "推荐中: 100%|██████████████████████████████████████████████████████████████████████| 8675/8675 [01:38<00:00, 88.11it/s]\n",
      "切割数据:   0%|                                                                               | 0/8675 [00:00<?, ?it/s]"
     ]
    },
    {
     "name": "stdout",
     "output_type": "stream",
     "text": [
      "EvaluationMetrics: {'precision': 5.48, 'recall': 15.93, 'coverage': 40.38, 'popularity': 5.610306}\n"
     ]
    },
    {
     "name": "stderr",
     "output_type": "stream",
     "text": [
      "切割数据: 100%|███████████████████████████████████████████████████████████████████| 8675/8675 [00:25<00:00, 340.97it/s]\n",
      "用户间相似度: 100%|█████████████████████████████████████████████████████████████| 10779/10779 [00:41<00:00, 259.63it/s]\n"
     ]
    },
    {
     "name": "stdout",
     "output_type": "stream",
     "text": [
      "倒排表约使计算量减少至原来的0.21倍.\n",
      "10 10 2 30 25\n"
     ]
    },
    {
     "name": "stderr",
     "output_type": "stream",
     "text": [
      "推荐中: 100%|██████████████████████████████████████████████████████████████████████| 8675/8675 [01:32<00:00, 93.66it/s]\n"
     ]
    },
    {
     "name": "stdout",
     "output_type": "stream",
     "text": [
      "EvaluationMetrics: {'precision': 6.73, 'recall': 12.21, 'coverage': 65.93, 'popularity': 5.198134}\n",
      "10 10 2 30 40\n"
     ]
    },
    {
     "name": "stderr",
     "output_type": "stream",
     "text": [
      "推荐中: 100%|██████████████████████████████████████████████████████████████████████| 8675/8675 [01:31<00:00, 94.32it/s]\n"
     ]
    },
    {
     "name": "stdout",
     "output_type": "stream",
     "text": [
      "EvaluationMetrics: {'precision': 5.44, 'recall': 15.73, 'coverage': 82.63, 'popularity': 4.967641}\n",
      "10 10 2 50 25\n"
     ]
    },
    {
     "name": "stderr",
     "output_type": "stream",
     "text": [
      "推荐中: 100%|██████████████████████████████████████████████████████████████████████| 8675/8675 [01:34<00:00, 92.17it/s]\n"
     ]
    },
    {
     "name": "stdout",
     "output_type": "stream",
     "text": [
      "EvaluationMetrics: {'precision': 6.92, 'recall': 12.57, 'coverage': 48.98, 'popularity': 5.489223}\n",
      "10 10 2 50 40\n"
     ]
    },
    {
     "name": "stderr",
     "output_type": "stream",
     "text": [
      "推荐中: 100%|██████████████████████████████████████████████████████████████████████| 8675/8675 [01:34<00:00, 92.13it/s]\n"
     ]
    },
    {
     "name": "stdout",
     "output_type": "stream",
     "text": [
      "EvaluationMetrics: {'precision': 5.61, 'recall': 16.3, 'coverage': 66.01, 'popularity': 5.260022}\n",
      "10 10 2 75 25\n"
     ]
    },
    {
     "name": "stderr",
     "output_type": "stream",
     "text": [
      "推荐中: 100%|██████████████████████████████████████████████████████████████████████| 8675/8675 [01:35<00:00, 90.59it/s]\n"
     ]
    },
    {
     "name": "stdout",
     "output_type": "stream",
     "text": [
      "EvaluationMetrics: {'precision': 6.91, 'recall': 12.54, 'coverage': 35.42, 'popularity': 5.69219}\n",
      "10 10 2 75 40\n"
     ]
    },
    {
     "name": "stderr",
     "output_type": "stream",
     "text": [
      "推荐中: 100%|██████████████████████████████████████████████████████████████████████| 8675/8675 [01:36<00:00, 89.84it/s]\n"
     ]
    },
    {
     "name": "stdout",
     "output_type": "stream",
     "text": [
      "EvaluationMetrics: {'precision': 5.61, 'recall': 16.31, 'coverage': 51.49, 'popularity': 5.471019}\n",
      "10 10 2 100 25\n"
     ]
    },
    {
     "name": "stderr",
     "output_type": "stream",
     "text": [
      "推荐中: 100%|██████████████████████████████████████████████████████████████████████| 8675/8675 [01:38<00:00, 88.50it/s]\n"
     ]
    },
    {
     "name": "stdout",
     "output_type": "stream",
     "text": [
      "EvaluationMetrics: {'precision': 6.78, 'recall': 12.31, 'coverage': 27.33, 'popularity': 5.815268}\n",
      "10 10 2 100 40\n"
     ]
    },
    {
     "name": "stderr",
     "output_type": "stream",
     "text": [
      "推荐中: 100%|██████████████████████████████████████████████████████████████████████| 8675/8675 [01:37<00:00, 88.88it/s]\n",
      "切割数据:   0%|                                                                               | 0/8675 [00:00<?, ?it/s]"
     ]
    },
    {
     "name": "stdout",
     "output_type": "stream",
     "text": [
      "EvaluationMetrics: {'precision': 5.53, 'recall': 16.07, 'coverage': 41.31, 'popularity': 5.598872}\n"
     ]
    },
    {
     "name": "stderr",
     "output_type": "stream",
     "text": [
      "切割数据: 100%|███████████████████████████████████████████████████████████████████| 8675/8675 [00:25<00:00, 344.69it/s]\n",
      "用户间相似度: 100%|█████████████████████████████████████████████████████████████| 10779/10779 [00:41<00:00, 260.60it/s]\n"
     ]
    },
    {
     "name": "stdout",
     "output_type": "stream",
     "text": [
      "倒排表约使计算量减少至原来的0.21倍.\n",
      "10 10 3 30 25\n"
     ]
    },
    {
     "name": "stderr",
     "output_type": "stream",
     "text": [
      "推荐中: 100%|██████████████████████████████████████████████████████████████████████| 8675/8675 [01:33<00:00, 92.91it/s]\n"
     ]
    },
    {
     "name": "stdout",
     "output_type": "stream",
     "text": [
      "EvaluationMetrics: {'precision': 6.72, 'recall': 12.2, 'coverage': 65.9, 'popularity': 5.198539}\n",
      "10 10 3 30 40\n"
     ]
    },
    {
     "name": "stderr",
     "output_type": "stream",
     "text": [
      "推荐中: 100%|██████████████████████████████████████████████████████████████████████| 8675/8675 [01:32<00:00, 93.51it/s]\n"
     ]
    },
    {
     "name": "stdout",
     "output_type": "stream",
     "text": [
      "EvaluationMetrics: {'precision': 5.37, 'recall': 15.55, 'coverage': 82.78, 'popularity': 4.969525}\n",
      "10 10 3 50 25\n"
     ]
    },
    {
     "name": "stderr",
     "output_type": "stream",
     "text": [
      "推荐中: 100%|██████████████████████████████████████████████████████████████████████| 8675/8675 [01:34<00:00, 91.95it/s]\n"
     ]
    },
    {
     "name": "stdout",
     "output_type": "stream",
     "text": [
      "EvaluationMetrics: {'precision': 6.87, 'recall': 12.47, 'coverage': 48.43, 'popularity': 5.493913}\n",
      "10 10 3 50 40\n"
     ]
    },
    {
     "name": "stderr",
     "output_type": "stream",
     "text": [
      "推荐中: 100%|██████████████████████████████████████████████████████████████████████| 8675/8675 [01:34<00:00, 91.67it/s]\n"
     ]
    },
    {
     "name": "stdout",
     "output_type": "stream",
     "text": [
      "EvaluationMetrics: {'precision': 5.53, 'recall': 16.08, 'coverage': 66.04, 'popularity': 5.265916}\n",
      "10 10 3 75 25\n"
     ]
    },
    {
     "name": "stderr",
     "output_type": "stream",
     "text": [
      "推荐中: 100%|██████████████████████████████████████████████████████████████████████| 8675/8675 [01:36<00:00, 89.85it/s]\n"
     ]
    },
    {
     "name": "stdout",
     "output_type": "stream",
     "text": [
      "EvaluationMetrics: {'precision': 6.82, 'recall': 12.38, 'coverage': 35.32, 'popularity': 5.692492}\n",
      "10 10 3 75 40\n"
     ]
    },
    {
     "name": "stderr",
     "output_type": "stream",
     "text": [
      "推荐中: 100%|██████████████████████████████████████████████████████████████████████| 8675/8675 [01:34<00:00, 91.74it/s]\n"
     ]
    },
    {
     "name": "stdout",
     "output_type": "stream",
     "text": [
      "EvaluationMetrics: {'precision': 5.53, 'recall': 16.07, 'coverage': 50.9, 'popularity': 5.47657}\n",
      "10 10 3 100 25\n"
     ]
    },
    {
     "name": "stderr",
     "output_type": "stream",
     "text": [
      "推荐中: 100%|██████████████████████████████████████████████████████████████████████| 8675/8675 [01:36<00:00, 90.17it/s]\n"
     ]
    },
    {
     "name": "stdout",
     "output_type": "stream",
     "text": [
      "EvaluationMetrics: {'precision': 6.71, 'recall': 12.18, 'coverage': 26.52, 'popularity': 5.816454}\n",
      "10 10 3 100 40\n"
     ]
    },
    {
     "name": "stderr",
     "output_type": "stream",
     "text": [
      "推荐中: 100%|██████████████████████████████████████████████████████████████████████| 8675/8675 [01:36<00:00, 90.33it/s]\n"
     ]
    },
    {
     "name": "stdout",
     "output_type": "stream",
     "text": [
      "EvaluationMetrics: {'precision': 5.47, 'recall': 15.89, 'coverage': 41.04, 'popularity': 5.601536}\n"
     ]
    }
   ],
   "source": [
    "for ignore_user_n,ignore_up_n,seed in its.product([10],[10],[1,2,3]):\n",
    "    model_usercf = UserCF(dt_fmt,K=30,N=30,split_n=0.7,\n",
    "                          ignore_user_n=ignore_user_n,ignore_up_n=ignore_up_n,seed=seed)\n",
    "#     for K,N in its.product([10,50,100,500],[20,50,100]):\n",
    "    for K,N in its.product([30,50,75,100],[25,40]):\n",
    "        print(ignore_user_n,ignore_up_n,seed,\n",
    "              K,N)\n",
    "        time.sleep(0.5)\n",
    "        model_usercf.K = K\n",
    "        model_usercf.N = N\n",
    "        usercf_exp = Experiment(model_usercf,5)\n",
    "\n",
    "        res = usercf_exp.validate()\n",
    "        res[\"model\"] = \"UserCF\"\n",
    "        res[\"split_n\"] = 0.7\n",
    "        res[\"ignore_user_n\"] = ignore_user_n\n",
    "        res[\"ignore_up_n\"] = ignore_up_n\n",
    "        res[\"seed\"] = seed\n",
    "        res[\"K\"] = K\n",
    "        res[\"N\"] = N\n",
    "        results = results.append(res,ignore_index=True)"
   ]
  },
  {
   "cell_type": "code",
   "execution_count": 16,
   "metadata": {},
   "outputs": [
    {
     "name": "stderr",
     "output_type": "stream",
     "text": [
      "切割数据: 100%|███████████████████████████████████████████████████████████████████| 8675/8675 [00:24<00:00, 349.73it/s]\n",
      "用户间相似度: 100%|█████████████████████████████████████████████████████████████| 10778/10778 [00:41<00:00, 262.09it/s]\n"
     ]
    },
    {
     "name": "stdout",
     "output_type": "stream",
     "text": [
      "倒排表约使计算量减少至原来的0.21倍.\n",
      "10 10 1 30 10\n"
     ]
    },
    {
     "name": "stderr",
     "output_type": "stream",
     "text": [
      "推荐中: 100%|██████████████████████████████████████████████████████████████████████| 8675/8675 [01:31<00:00, 95.00it/s]\n"
     ]
    },
    {
     "name": "stdout",
     "output_type": "stream",
     "text": [
      "EvaluationMetrics: {'precision': 9.73, 'recall': 7.07, 'coverage': 35.54, 'popularity': 5.618514}\n",
      "10 10 1 30 15\n"
     ]
    },
    {
     "name": "stderr",
     "output_type": "stream",
     "text": [
      "推荐中: 100%|██████████████████████████████████████████████████████████████████████| 8675/8675 [01:31<00:00, 95.22it/s]\n"
     ]
    },
    {
     "name": "stdout",
     "output_type": "stream",
     "text": [
      "EvaluationMetrics: {'precision': 8.36, 'recall': 9.12, 'coverage': 47.48, 'popularity': 5.440985}\n",
      "10 10 1 50 10\n"
     ]
    },
    {
     "name": "stderr",
     "output_type": "stream",
     "text": [
      "推荐中: 100%|██████████████████████████████████████████████████████████████████████| 8675/8675 [01:32<00:00, 93.44it/s]\n"
     ]
    },
    {
     "name": "stdout",
     "output_type": "stream",
     "text": [
      "EvaluationMetrics: {'precision': 9.77, 'recall': 7.1, 'coverage': 22.82, 'popularity': 5.907749}\n",
      "10 10 1 50 15\n"
     ]
    },
    {
     "name": "stderr",
     "output_type": "stream",
     "text": [
      "推荐中: 100%|██████████████████████████████████████████████████████████████████████| 8675/8675 [01:32<00:00, 93.44it/s]\n"
     ]
    },
    {
     "name": "stdout",
     "output_type": "stream",
     "text": [
      "EvaluationMetrics: {'precision': 8.5, 'recall': 9.27, 'coverage': 31.88, 'popularity': 5.729287}\n",
      "10 10 1 75 10\n"
     ]
    },
    {
     "name": "stderr",
     "output_type": "stream",
     "text": [
      "推荐中: 100%|██████████████████████████████████████████████████████████████████████| 8675/8675 [01:35<00:00, 90.57it/s]\n"
     ]
    },
    {
     "name": "stdout",
     "output_type": "stream",
     "text": [
      "EvaluationMetrics: {'precision': 9.71, 'recall': 7.06, 'coverage': 14.64, 'popularity': 6.097343}\n",
      "10 10 1 75 15\n"
     ]
    },
    {
     "name": "stderr",
     "output_type": "stream",
     "text": [
      "推荐中: 100%|██████████████████████████████████████████████████████████████████████| 8675/8675 [01:36<00:00, 89.59it/s]\n"
     ]
    },
    {
     "name": "stdout",
     "output_type": "stream",
     "text": [
      "EvaluationMetrics: {'precision': 8.38, 'recall': 9.13, 'coverage': 21.56, 'popularity': 5.924904}\n",
      "10 10 1 100 10\n"
     ]
    },
    {
     "name": "stderr",
     "output_type": "stream",
     "text": [
      "推荐中: 100%|██████████████████████████████████████████████████████████████████████| 8675/8675 [01:38<00:00, 88.17it/s]\n"
     ]
    },
    {
     "name": "stdout",
     "output_type": "stream",
     "text": [
      "EvaluationMetrics: {'precision': 9.59, 'recall': 6.97, 'coverage': 10.71, 'popularity': 6.213484}\n",
      "10 10 1 100 15\n"
     ]
    },
    {
     "name": "stderr",
     "output_type": "stream",
     "text": [
      "推荐中: 100%|██████████████████████████████████████████████████████████████████████| 8675/8675 [01:38<00:00, 88.19it/s]\n",
      "切割数据:   0%|                                                                               | 0/8675 [00:00<?, ?it/s]"
     ]
    },
    {
     "name": "stdout",
     "output_type": "stream",
     "text": [
      "EvaluationMetrics: {'precision': 8.23, 'recall': 8.97, 'coverage': 15.76, 'popularity': 6.041149}\n"
     ]
    },
    {
     "name": "stderr",
     "output_type": "stream",
     "text": [
      "切割数据: 100%|███████████████████████████████████████████████████████████████████| 8675/8675 [00:25<00:00, 341.67it/s]\n",
      "用户间相似度: 100%|█████████████████████████████████████████████████████████████| 10779/10779 [00:41<00:00, 262.25it/s]\n"
     ]
    },
    {
     "name": "stdout",
     "output_type": "stream",
     "text": [
      "倒排表约使计算量减少至原来的0.21倍.\n",
      "10 10 2 30 10\n"
     ]
    },
    {
     "name": "stderr",
     "output_type": "stream",
     "text": [
      "推荐中: 100%|██████████████████████████████████████████████████████████████████████| 8675/8675 [01:33<00:00, 92.50it/s]\n"
     ]
    },
    {
     "name": "stdout",
     "output_type": "stream",
     "text": [
      "EvaluationMetrics: {'precision': 9.75, 'recall': 7.08, 'coverage': 36.07, 'popularity': 5.615969}\n",
      "10 10 2 30 15\n"
     ]
    },
    {
     "name": "stderr",
     "output_type": "stream",
     "text": [
      "推荐中: 100%|██████████████████████████████████████████████████████████████████████| 8675/8675 [01:33<00:00, 93.06it/s]\n"
     ]
    },
    {
     "name": "stdout",
     "output_type": "stream",
     "text": [
      "EvaluationMetrics: {'precision': 8.35, 'recall': 9.1, 'coverage': 48.17, 'popularity': 5.437011}\n",
      "10 10 2 50 10\n"
     ]
    },
    {
     "name": "stderr",
     "output_type": "stream",
     "text": [
      "推荐中: 100%|██████████████████████████████████████████████████████████████████████| 8675/8675 [01:34<00:00, 91.82it/s]\n"
     ]
    },
    {
     "name": "stdout",
     "output_type": "stream",
     "text": [
      "EvaluationMetrics: {'precision': 9.94, 'recall': 7.22, 'coverage': 22.9, 'popularity': 5.907453}\n",
      "10 10 2 50 15\n"
     ]
    },
    {
     "name": "stderr",
     "output_type": "stream",
     "text": [
      "推荐中: 100%|██████████████████████████████████████████████████████████████████████| 8675/8675 [01:34<00:00, 91.77it/s]\n"
     ]
    },
    {
     "name": "stdout",
     "output_type": "stream",
     "text": [
      "EvaluationMetrics: {'precision': 8.59, 'recall': 9.36, 'coverage': 32.76, 'popularity': 5.727317}\n",
      "10 10 2 75 10\n"
     ]
    },
    {
     "name": "stderr",
     "output_type": "stream",
     "text": [
      "推荐中: 100%|██████████████████████████████████████████████████████████████████████| 8675/8675 [01:36<00:00, 90.12it/s]\n"
     ]
    },
    {
     "name": "stdout",
     "output_type": "stream",
     "text": [
      "EvaluationMetrics: {'precision': 9.85, 'recall': 7.16, 'coverage': 14.88, 'popularity': 6.105255}\n",
      "10 10 2 75 15\n"
     ]
    },
    {
     "name": "stderr",
     "output_type": "stream",
     "text": [
      "推荐中: 100%|██████████████████████████████████████████████████████████████████████| 8675/8675 [01:36<00:00, 89.69it/s]\n"
     ]
    },
    {
     "name": "stdout",
     "output_type": "stream",
     "text": [
      "EvaluationMetrics: {'precision': 8.47, 'recall': 9.23, 'coverage': 22.67, 'popularity': 5.924569}\n",
      "10 10 2 100 10\n"
     ]
    },
    {
     "name": "stderr",
     "output_type": "stream",
     "text": [
      "推荐中: 100%|██████████████████████████████████████████████████████████████████████| 8675/8675 [01:38<00:00, 88.17it/s]\n"
     ]
    },
    {
     "name": "stdout",
     "output_type": "stream",
     "text": [
      "EvaluationMetrics: {'precision': 9.7, 'recall': 7.05, 'coverage': 10.52, 'popularity': 6.21891}\n",
      "10 10 2 100 15\n"
     ]
    },
    {
     "name": "stderr",
     "output_type": "stream",
     "text": [
      "推荐中: 100%|██████████████████████████████████████████████████████████████████████| 8675/8675 [01:38<00:00, 88.49it/s]\n",
      "切割数据:   0%|                                                                               | 0/8675 [00:00<?, ?it/s]"
     ]
    },
    {
     "name": "stdout",
     "output_type": "stream",
     "text": [
      "EvaluationMetrics: {'precision': 8.3, 'recall': 9.05, 'coverage': 15.99, 'popularity': 6.047737}\n"
     ]
    },
    {
     "name": "stderr",
     "output_type": "stream",
     "text": [
      "切割数据: 100%|███████████████████████████████████████████████████████████████████| 8675/8675 [00:25<00:00, 343.05it/s]\n",
      "用户间相似度: 100%|█████████████████████████████████████████████████████████████| 10779/10779 [00:41<00:00, 259.76it/s]\n"
     ]
    },
    {
     "name": "stdout",
     "output_type": "stream",
     "text": [
      "倒排表约使计算量减少至原来的0.21倍.\n",
      "10 10 3 30 10\n"
     ]
    },
    {
     "name": "stderr",
     "output_type": "stream",
     "text": [
      "推荐中: 100%|██████████████████████████████████████████████████████████████████████| 8675/8675 [01:33<00:00, 92.86it/s]\n"
     ]
    },
    {
     "name": "stdout",
     "output_type": "stream",
     "text": [
      "EvaluationMetrics: {'precision': 9.63, 'recall': 7.0, 'coverage': 35.56, 'popularity': 5.614009}\n",
      "10 10 3 30 15\n"
     ]
    },
    {
     "name": "stderr",
     "output_type": "stream",
     "text": [
      "推荐中: 100%|██████████████████████████████████████████████████████████████████████| 8675/8675 [01:32<00:00, 93.41it/s]\n"
     ]
    },
    {
     "name": "stdout",
     "output_type": "stream",
     "text": [
      "EvaluationMetrics: {'precision': 8.29, 'recall': 9.03, 'coverage': 48.0, 'popularity': 5.432033}\n",
      "10 10 3 50 10\n"
     ]
    },
    {
     "name": "stderr",
     "output_type": "stream",
     "text": [
      "推荐中: 100%|██████████████████████████████████████████████████████████████████████| 8675/8675 [01:34<00:00, 91.55it/s]\n"
     ]
    },
    {
     "name": "stdout",
     "output_type": "stream",
     "text": [
      "EvaluationMetrics: {'precision': 9.79, 'recall': 7.11, 'coverage': 22.87, 'popularity': 5.904116}\n",
      "10 10 3 50 15\n"
     ]
    },
    {
     "name": "stderr",
     "output_type": "stream",
     "text": [
      "推荐中: 100%|██████████████████████████████████████████████████████████████████████| 8675/8675 [01:35<00:00, 91.28it/s]\n"
     ]
    },
    {
     "name": "stdout",
     "output_type": "stream",
     "text": [
      "EvaluationMetrics: {'precision': 8.48, 'recall': 9.24, 'coverage': 32.2, 'popularity': 5.725873}\n",
      "10 10 3 75 10\n"
     ]
    },
    {
     "name": "stderr",
     "output_type": "stream",
     "text": [
      "推荐中: 100%|██████████████████████████████████████████████████████████████████████| 8675/8675 [01:38<00:00, 88.31it/s]\n"
     ]
    },
    {
     "name": "stdout",
     "output_type": "stream",
     "text": [
      "EvaluationMetrics: {'precision': 9.82, 'recall': 7.14, 'coverage': 14.44, 'popularity': 6.103686}\n",
      "10 10 3 75 15\n"
     ]
    },
    {
     "name": "stderr",
     "output_type": "stream",
     "text": [
      "推荐中: 100%|██████████████████████████████████████████████████████████████████████| 8675/8675 [01:36<00:00, 89.49it/s]\n"
     ]
    },
    {
     "name": "stdout",
     "output_type": "stream",
     "text": [
      "EvaluationMetrics: {'precision': 8.42, 'recall': 9.17, 'coverage': 21.64, 'popularity': 5.923604}\n",
      "10 10 3 100 10\n"
     ]
    },
    {
     "name": "stderr",
     "output_type": "stream",
     "text": [
      "推荐中: 100%|██████████████████████████████████████████████████████████████████████| 8675/8675 [01:38<00:00, 88.01it/s]\n"
     ]
    },
    {
     "name": "stdout",
     "output_type": "stream",
     "text": [
      "EvaluationMetrics: {'precision': 9.65, 'recall': 7.01, 'coverage': 10.79, 'popularity': 6.211846}\n",
      "10 10 3 100 15\n"
     ]
    },
    {
     "name": "stderr",
     "output_type": "stream",
     "text": [
      "推荐中: 100%|██████████████████████████████████████████████████████████████████████| 8675/8675 [01:38<00:00, 88.21it/s]\n"
     ]
    },
    {
     "name": "stdout",
     "output_type": "stream",
     "text": [
      "EvaluationMetrics: {'precision': 8.28, 'recall': 9.02, 'coverage': 15.98, 'popularity': 6.042135}\n"
     ]
    }
   ],
   "source": [
    "for ignore_user_n,ignore_up_n,seed in its.product([10],[10],[1,2,3]):\n",
    "    model_usercf = UserCF(dt_fmt,K=30,N=30,split_n=0.7,\n",
    "                          ignore_user_n=ignore_user_n,ignore_up_n=ignore_up_n,seed=seed)\n",
    "#     for K,N in its.product([10,50,100,500],[20,50,100]):\n",
    "    for K,N in its.product([30,50,75,100],[10,15]):\n",
    "        print(ignore_user_n,ignore_up_n,seed,\n",
    "              K,N)\n",
    "        time.sleep(0.5)\n",
    "        model_usercf.K = K\n",
    "        model_usercf.N = N\n",
    "        usercf_exp = Experiment(model_usercf,5)\n",
    "\n",
    "        res = usercf_exp.validate()\n",
    "        res[\"model\"] = \"UserCF\"\n",
    "        res[\"split_n\"] = 0.7\n",
    "        res[\"ignore_user_n\"] = ignore_user_n\n",
    "        res[\"ignore_up_n\"] = ignore_up_n\n",
    "        res[\"seed\"] = seed\n",
    "        res[\"K\"] = K\n",
    "        res[\"N\"] = N\n",
    "        results = results.append(res,ignore_index=True)"
   ]
  },
  {
   "cell_type": "code",
   "execution_count": 17,
   "metadata": {},
   "outputs": [],
   "source": [
    "results.to_excel(\"../data/ExperimentResults.xlsx\")"
   ]
  },
  {
   "cell_type": "code",
   "execution_count": 18,
   "metadata": {},
   "outputs": [
    {
     "data": {
      "text/html": [
       "<div>\n",
       "<style scoped>\n",
       "    .dataframe tbody tr th:only-of-type {\n",
       "        vertical-align: middle;\n",
       "    }\n",
       "\n",
       "    .dataframe tbody tr th {\n",
       "        vertical-align: top;\n",
       "    }\n",
       "\n",
       "    .dataframe thead th {\n",
       "        text-align: right;\n",
       "    }\n",
       "</style>\n",
       "<table border=\"1\" class=\"dataframe\">\n",
       "  <thead>\n",
       "    <tr style=\"text-align: right;\">\n",
       "      <th></th>\n",
       "      <th>model</th>\n",
       "      <th>split_n</th>\n",
       "      <th>K</th>\n",
       "      <th>N</th>\n",
       "      <th>ignore_user_n</th>\n",
       "      <th>ignore_up_n</th>\n",
       "      <th>seed</th>\n",
       "      <th>precision</th>\n",
       "      <th>recall</th>\n",
       "      <th>coverage</th>\n",
       "      <th>popularity</th>\n",
       "    </tr>\n",
       "  </thead>\n",
       "  <tbody>\n",
       "    <tr>\n",
       "      <th>0</th>\n",
       "      <td>UserCF</td>\n",
       "      <td>0.7</td>\n",
       "      <td>10</td>\n",
       "      <td>20</td>\n",
       "      <td>10</td>\n",
       "      <td>100</td>\n",
       "      <td>1</td>\n",
       "      <td>5.08</td>\n",
       "      <td>16.21</td>\n",
       "      <td>100.00</td>\n",
       "      <td>5.385470</td>\n",
       "    </tr>\n",
       "    <tr>\n",
       "      <th>1</th>\n",
       "      <td>UserCF</td>\n",
       "      <td>0.7</td>\n",
       "      <td>10</td>\n",
       "      <td>50</td>\n",
       "      <td>10</td>\n",
       "      <td>100</td>\n",
       "      <td>1</td>\n",
       "      <td>3.96</td>\n",
       "      <td>25.60</td>\n",
       "      <td>100.00</td>\n",
       "      <td>5.257789</td>\n",
       "    </tr>\n",
       "    <tr>\n",
       "      <th>2</th>\n",
       "      <td>UserCF</td>\n",
       "      <td>0.7</td>\n",
       "      <td>10</td>\n",
       "      <td>100</td>\n",
       "      <td>10</td>\n",
       "      <td>100</td>\n",
       "      <td>1</td>\n",
       "      <td>3.62</td>\n",
       "      <td>32.54</td>\n",
       "      <td>100.00</td>\n",
       "      <td>5.205964</td>\n",
       "    </tr>\n",
       "    <tr>\n",
       "      <th>3</th>\n",
       "      <td>UserCF</td>\n",
       "      <td>0.7</td>\n",
       "      <td>50</td>\n",
       "      <td>20</td>\n",
       "      <td>10</td>\n",
       "      <td>100</td>\n",
       "      <td>1</td>\n",
       "      <td>6.46</td>\n",
       "      <td>23.00</td>\n",
       "      <td>100.00</td>\n",
       "      <td>5.786311</td>\n",
       "    </tr>\n",
       "    <tr>\n",
       "      <th>4</th>\n",
       "      <td>UserCF</td>\n",
       "      <td>0.7</td>\n",
       "      <td>50</td>\n",
       "      <td>50</td>\n",
       "      <td>10</td>\n",
       "      <td>100</td>\n",
       "      <td>1</td>\n",
       "      <td>4.08</td>\n",
       "      <td>35.93</td>\n",
       "      <td>100.00</td>\n",
       "      <td>5.478618</td>\n",
       "    </tr>\n",
       "    <tr>\n",
       "      <th>...</th>\n",
       "      <td>...</td>\n",
       "      <td>...</td>\n",
       "      <td>...</td>\n",
       "      <td>...</td>\n",
       "      <td>...</td>\n",
       "      <td>...</td>\n",
       "      <td>...</td>\n",
       "      <td>...</td>\n",
       "      <td>...</td>\n",
       "      <td>...</td>\n",
       "      <td>...</td>\n",
       "    </tr>\n",
       "    <tr>\n",
       "      <th>115</th>\n",
       "      <td>UserCF</td>\n",
       "      <td>0.7</td>\n",
       "      <td>50</td>\n",
       "      <td>15</td>\n",
       "      <td>10</td>\n",
       "      <td>10</td>\n",
       "      <td>3</td>\n",
       "      <td>8.48</td>\n",
       "      <td>9.24</td>\n",
       "      <td>32.20</td>\n",
       "      <td>5.725873</td>\n",
       "    </tr>\n",
       "    <tr>\n",
       "      <th>116</th>\n",
       "      <td>UserCF</td>\n",
       "      <td>0.7</td>\n",
       "      <td>75</td>\n",
       "      <td>10</td>\n",
       "      <td>10</td>\n",
       "      <td>10</td>\n",
       "      <td>3</td>\n",
       "      <td>9.82</td>\n",
       "      <td>7.14</td>\n",
       "      <td>14.44</td>\n",
       "      <td>6.103686</td>\n",
       "    </tr>\n",
       "    <tr>\n",
       "      <th>117</th>\n",
       "      <td>UserCF</td>\n",
       "      <td>0.7</td>\n",
       "      <td>75</td>\n",
       "      <td>15</td>\n",
       "      <td>10</td>\n",
       "      <td>10</td>\n",
       "      <td>3</td>\n",
       "      <td>8.42</td>\n",
       "      <td>9.17</td>\n",
       "      <td>21.64</td>\n",
       "      <td>5.923604</td>\n",
       "    </tr>\n",
       "    <tr>\n",
       "      <th>118</th>\n",
       "      <td>UserCF</td>\n",
       "      <td>0.7</td>\n",
       "      <td>100</td>\n",
       "      <td>10</td>\n",
       "      <td>10</td>\n",
       "      <td>10</td>\n",
       "      <td>3</td>\n",
       "      <td>9.65</td>\n",
       "      <td>7.01</td>\n",
       "      <td>10.79</td>\n",
       "      <td>6.211846</td>\n",
       "    </tr>\n",
       "    <tr>\n",
       "      <th>119</th>\n",
       "      <td>UserCF</td>\n",
       "      <td>0.7</td>\n",
       "      <td>100</td>\n",
       "      <td>15</td>\n",
       "      <td>10</td>\n",
       "      <td>10</td>\n",
       "      <td>3</td>\n",
       "      <td>8.28</td>\n",
       "      <td>9.02</td>\n",
       "      <td>15.98</td>\n",
       "      <td>6.042135</td>\n",
       "    </tr>\n",
       "  </tbody>\n",
       "</table>\n",
       "<p>120 rows × 11 columns</p>\n",
       "</div>"
      ],
      "text/plain": [
       "      model  split_n    K    N ignore_user_n ignore_up_n seed  precision  \\\n",
       "0    UserCF      0.7   10   20            10         100    1       5.08   \n",
       "1    UserCF      0.7   10   50            10         100    1       3.96   \n",
       "2    UserCF      0.7   10  100            10         100    1       3.62   \n",
       "3    UserCF      0.7   50   20            10         100    1       6.46   \n",
       "4    UserCF      0.7   50   50            10         100    1       4.08   \n",
       "..      ...      ...  ...  ...           ...         ...  ...        ...   \n",
       "115  UserCF      0.7   50   15            10          10    3       8.48   \n",
       "116  UserCF      0.7   75   10            10          10    3       9.82   \n",
       "117  UserCF      0.7   75   15            10          10    3       8.42   \n",
       "118  UserCF      0.7  100   10            10          10    3       9.65   \n",
       "119  UserCF      0.7  100   15            10          10    3       8.28   \n",
       "\n",
       "     recall  coverage  popularity  \n",
       "0     16.21    100.00    5.385470  \n",
       "1     25.60    100.00    5.257789  \n",
       "2     32.54    100.00    5.205964  \n",
       "3     23.00    100.00    5.786311  \n",
       "4     35.93    100.00    5.478618  \n",
       "..      ...       ...         ...  \n",
       "115    9.24     32.20    5.725873  \n",
       "116    7.14     14.44    6.103686  \n",
       "117    9.17     21.64    5.923604  \n",
       "118    7.01     10.79    6.211846  \n",
       "119    9.02     15.98    6.042135  \n",
       "\n",
       "[120 rows x 11 columns]"
      ]
     },
     "execution_count": 18,
     "metadata": {},
     "output_type": "execute_result"
    }
   ],
   "source": [
    "results."
   ]
  },
  {
   "cell_type": "code",
   "execution_count": null,
   "metadata": {},
   "outputs": [],
   "source": []
  },
  {
   "cell_type": "code",
   "execution_count": null,
   "metadata": {},
   "outputs": [],
   "source": []
  },
  {
   "cell_type": "code",
   "execution_count": null,
   "metadata": {},
   "outputs": [],
   "source": []
  },
  {
   "cell_type": "code",
   "execution_count": null,
   "metadata": {},
   "outputs": [],
   "source": []
  },
  {
   "cell_type": "code",
   "execution_count": null,
   "metadata": {},
   "outputs": [],
   "source": []
  }
 ],
 "metadata": {
  "kernelspec": {
   "display_name": "Python 3",
   "language": "python",
   "name": "python3"
  },
  "language_info": {
   "codemirror_mode": {
    "name": "ipython",
    "version": 3
   },
   "file_extension": ".py",
   "mimetype": "text/x-python",
   "name": "python",
   "nbconvert_exporter": "python",
   "pygments_lexer": "ipython3",
   "version": "3.6.7"
  }
 },
 "nbformat": 4,
 "nbformat_minor": 4
}
