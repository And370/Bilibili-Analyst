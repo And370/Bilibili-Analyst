{
 "cells": [
  {
   "cell_type": "code",
   "execution_count": 1,
   "id": "stunning-discussion",
   "metadata": {},
   "outputs": [],
   "source": [
    "import numpy as np\n",
    "import pandas as pd\n",
    "import tensorflow.keras as keras"
   ]
  },
  {
   "cell_type": "code",
   "execution_count": 2,
   "id": "progressive-happiness",
   "metadata": {},
   "outputs": [],
   "source": [
    "from collections import Counter"
   ]
  },
  {
   "cell_type": "markdown",
   "id": "proprietary-drawing",
   "metadata": {},
   "source": [
    "# 基础数据加工"
   ]
  },
  {
   "cell_type": "code",
   "execution_count": 3,
   "id": "coastal-heaven",
   "metadata": {},
   "outputs": [],
   "source": [
    "dt = pd.read_csv(\"../data/user2up.csv\", encoding=\"utf_8_sig\")\n",
    "dt.rename(columns={\"from\": \"user\", \"mid\": \"item\"}, inplace=True)\n",
    "dt2 = dt[[\"user\", \"item\"]]\n",
    "dt2 = dt2.astype(int)\n",
    "# dt2 = dt2[:10000]\n",
    "# dt2 = dt2.sample(n=1000, random_state=123)\n",
    "\n",
    "matrix_user2up = dt2.groupby(\"user\").agg(list)\n",
    "\n",
    "# items = {key: value for value, key in enumerate(set(dt2[\"item\"]))}\n",
    "items = set(dt2[\"item\"])"
   ]
  },
  {
   "cell_type": "code",
   "execution_count": 4,
   "id": "spanish-crystal",
   "metadata": {},
   "outputs": [],
   "source": [
    "users = set(dt2.user)\n",
    "items = set(dt2.item)"
   ]
  },
  {
   "cell_type": "code",
   "execution_count": 5,
   "id": "apparent-somewhere",
   "metadata": {},
   "outputs": [],
   "source": [
    "def onehot_spec(raw):\n",
    "    raw = set(raw)\n",
    "    return [1 if item in raw else 0 for item in items]\n",
    "\n",
    "\n",
    "matrix_user2up[\"vec\"] = matrix_user2up[\"item\"].apply(onehot_spec)\n",
    "\n",
    "dt3 = matrix_user2up[\"vec\"].sample(frac=1, random_state=123).values\n",
    "dt3 = np.array([np.array(i) for i in dt3])\n",
    "\n",
    "split_n = int(len(dt3) * 0.7)\n",
    "X_train = dt3[:split_n]\n",
    "X_test = dt3[split_n:]"
   ]
  },
  {
   "cell_type": "code",
   "execution_count": 6,
   "id": "expanded-austin",
   "metadata": {},
   "outputs": [],
   "source": [
    "dims = len(X_train[0])"
   ]
  },
  {
   "cell_type": "markdown",
   "id": "appointed-chapel",
   "metadata": {},
   "source": [
    "# sklearn的KMeans(仅支持欧氏距离)"
   ]
  },
  {
   "cell_type": "code",
   "execution_count": 7,
   "id": "adequate-review",
   "metadata": {},
   "outputs": [],
   "source": [
    "from sklearn.cluster import KMeans"
   ]
  },
  {
   "cell_type": "code",
   "execution_count": 8,
   "id": "directed-literature",
   "metadata": {},
   "outputs": [
    {
     "data": {
      "text/plain": [
       "(2669, 96167)"
      ]
     },
     "execution_count": 8,
     "metadata": {},
     "output_type": "execute_result"
    }
   ],
   "source": [
    "X_train.shape"
   ]
  },
  {
   "cell_type": "code",
   "execution_count": 9,
   "id": "nervous-district",
   "metadata": {},
   "outputs": [],
   "source": [
    "model = KMeans(n_clusters=4)"
   ]
  },
  {
   "cell_type": "code",
   "execution_count": 10,
   "id": "needed-steal",
   "metadata": {},
   "outputs": [
    {
     "data": {
      "text/plain": [
       "KMeans(n_clusters=4)"
      ]
     },
     "execution_count": 10,
     "metadata": {},
     "output_type": "execute_result"
    }
   ],
   "source": [
    "model.fit(dt3)"
   ]
  },
  {
   "cell_type": "code",
   "execution_count": 11,
   "id": "stupid-delhi",
   "metadata": {},
   "outputs": [],
   "source": [
    "ys_sklearn_eu = model.predict(dt3)"
   ]
  },
  {
   "cell_type": "code",
   "execution_count": 12,
   "id": "prospective-sierra",
   "metadata": {},
   "outputs": [],
   "source": [
    "ct_sklearn_ud = Counter(ys_sklearn_eu)"
   ]
  },
  {
   "cell_type": "code",
   "execution_count": 13,
   "id": "naval-wales",
   "metadata": {},
   "outputs": [
    {
     "data": {
      "text/plain": [
       "Counter({3: 3369, 0: 441, 1: 3, 2: 1})"
      ]
     },
     "execution_count": 13,
     "metadata": {},
     "output_type": "execute_result"
    }
   ],
   "source": [
    "ct_sklearn_ud"
   ]
  },
  {
   "cell_type": "markdown",
   "id": "elegant-cornell",
   "metadata": {},
   "source": [
    "#### 欧氏距离对于这种高维稀疏的向量聚类效果并不好 "
   ]
  },
  {
   "cell_type": "markdown",
   "id": "divided-package",
   "metadata": {},
   "source": [
    "# NLTK的KMeans(支持欧式距离/余弦距离/自定义距离)"
   ]
  },
  {
   "cell_type": "code",
   "execution_count": 14,
   "id": "entertaining-invite",
   "metadata": {},
   "outputs": [],
   "source": [
    "import nltk"
   ]
  },
  {
   "cell_type": "code",
   "execution_count": 15,
   "id": "cellular-excitement",
   "metadata": {},
   "outputs": [],
   "source": [
    "from nltk.cluster.kmeans import KMeansClusterer"
   ]
  },
  {
   "cell_type": "code",
   "execution_count": 16,
   "id": "multiple-constitutional",
   "metadata": {},
   "outputs": [],
   "source": [
    "from nltk.cluster.util import euclidean_distance"
   ]
  },
  {
   "cell_type": "code",
   "execution_count": 17,
   "id": "ignored-string",
   "metadata": {},
   "outputs": [],
   "source": [
    "model = KMeansClusterer(num_means=20,distance=nltk.cluster.util.cosine_distance)\n",
    "model.cluster(dt3[:])"
   ]
  },
  {
   "cell_type": "code",
   "execution_count": 19,
   "id": "familiar-latex",
   "metadata": {},
   "outputs": [],
   "source": [
    "ys_NLTK_cos = [model.classify(i) for i in dt3]"
   ]
  },
  {
   "cell_type": "code",
   "execution_count": 20,
   "id": "latest-administration",
   "metadata": {},
   "outputs": [],
   "source": [
    "ct_NLTK_cos = Counter(ys_NLTK_cos)"
   ]
  },
  {
   "cell_type": "code",
   "execution_count": 21,
   "id": "taken-chart",
   "metadata": {},
   "outputs": [
    {
     "data": {
      "text/plain": [
       "Counter({14: 112,\n",
       "         4: 274,\n",
       "         19: 616,\n",
       "         15: 258,\n",
       "         9: 447,\n",
       "         0: 370,\n",
       "         13: 166,\n",
       "         5: 61,\n",
       "         1: 294,\n",
       "         2: 203,\n",
       "         3: 141,\n",
       "         17: 62,\n",
       "         6: 133,\n",
       "         8: 56,\n",
       "         11: 199,\n",
       "         16: 124,\n",
       "         7: 46,\n",
       "         18: 194,\n",
       "         10: 31,\n",
       "         12: 27})"
      ]
     },
     "execution_count": 21,
     "metadata": {},
     "output_type": "execute_result"
    }
   ],
   "source": [
    "ct_NLTK_cos"
   ]
  },
  {
   "cell_type": "code",
   "execution_count": 34,
   "id": "theoretical-prescription",
   "metadata": {},
   "outputs": [],
   "source": [
    "matrix_user2up[\"vec_class\"] = ys_NLTK_cos"
   ]
  },
  {
   "cell_type": "code",
   "execution_count": 35,
   "id": "continued-translator",
   "metadata": {},
   "outputs": [
    {
     "data": {
      "text/html": [
       "<div>\n",
       "<style scoped>\n",
       "    .dataframe tbody tr th:only-of-type {\n",
       "        vertical-align: middle;\n",
       "    }\n",
       "\n",
       "    .dataframe tbody tr th {\n",
       "        vertical-align: top;\n",
       "    }\n",
       "\n",
       "    .dataframe thead th {\n",
       "        text-align: right;\n",
       "    }\n",
       "</style>\n",
       "<table border=\"1\" class=\"dataframe\">\n",
       "  <thead>\n",
       "    <tr style=\"text-align: right;\">\n",
       "      <th></th>\n",
       "      <th>item</th>\n",
       "      <th>vec</th>\n",
       "      <th>vec_class</th>\n",
       "    </tr>\n",
       "    <tr>\n",
       "      <th>user</th>\n",
       "      <th></th>\n",
       "      <th></th>\n",
       "      <th></th>\n",
       "    </tr>\n",
       "  </thead>\n",
       "  <tbody>\n",
       "    <tr>\n",
       "      <th>1</th>\n",
       "      <td>[335115, 2, 12, 9099524, 867152]</td>\n",
       "      <td>[0, 1, 0, 0, 0, 0, 0, 0, 0, 1, 0, 0, 0, 0, 0, ...</td>\n",
       "      <td>14</td>\n",
       "    </tr>\n",
       "    <tr>\n",
       "      <th>2</th>\n",
       "      <td>[1868902080, 623512391, 43855, 520811440, 3941...</td>\n",
       "      <td>[0, 0, 0, 0, 0, 0, 0, 1, 0, 1, 0, 0, 1, 0, 0, ...</td>\n",
       "      <td>4</td>\n",
       "    </tr>\n",
       "    <tr>\n",
       "      <th>4</th>\n",
       "      <td>[9617619, 7584632, 2026561407, 22721144, 48163...</td>\n",
       "      <td>[0, 0, 0, 0, 0, 0, 0, 1, 0, 1, 0, 0, 0, 0, 0, ...</td>\n",
       "      <td>19</td>\n",
       "    </tr>\n",
       "    <tr>\n",
       "      <th>6</th>\n",
       "      <td>[454560170, 488034462, 102774573, 346563107, 1...</td>\n",
       "      <td>[0, 1, 0, 0, 0, 0, 0, 1, 0, 1, 0, 0, 0, 0, 0, ...</td>\n",
       "      <td>15</td>\n",
       "    </tr>\n",
       "    <tr>\n",
       "      <th>8</th>\n",
       "      <td>[319274146, 1724598, 389552703, 489412051, 142...</td>\n",
       "      <td>[0, 0, 0, 0, 0, 0, 0, 0, 0, 0, 0, 0, 0, 0, 0, ...</td>\n",
       "      <td>9</td>\n",
       "    </tr>\n",
       "    <tr>\n",
       "      <th>...</th>\n",
       "      <td>...</td>\n",
       "      <td>...</td>\n",
       "      <td>...</td>\n",
       "    </tr>\n",
       "    <tr>\n",
       "      <th>1999942692</th>\n",
       "      <td>[174501086, 320840078, 473222648, 37090048]</td>\n",
       "      <td>[0, 0, 0, 0, 0, 0, 0, 0, 0, 0, 0, 0, 0, 0, 0, ...</td>\n",
       "      <td>1</td>\n",
       "    </tr>\n",
       "    <tr>\n",
       "      <th>2013795079</th>\n",
       "      <td>[393275307, 360429426, 6831706, 20912712, 2659...</td>\n",
       "      <td>[0, 0, 0, 0, 0, 0, 0, 0, 0, 0, 0, 0, 0, 0, 0, ...</td>\n",
       "      <td>18</td>\n",
       "    </tr>\n",
       "    <tr>\n",
       "      <th>2016676980</th>\n",
       "      <td>[386917389, 473222648, 37090048]</td>\n",
       "      <td>[0, 0, 0, 0, 0, 0, 0, 0, 0, 0, 0, 0, 0, 0, 0, ...</td>\n",
       "      <td>2</td>\n",
       "    </tr>\n",
       "    <tr>\n",
       "      <th>2113149532</th>\n",
       "      <td>[5532624, 19888246, 37090048, 179694948]</td>\n",
       "      <td>[0, 0, 0, 0, 0, 0, 0, 0, 0, 0, 0, 0, 0, 0, 0, ...</td>\n",
       "      <td>16</td>\n",
       "    </tr>\n",
       "    <tr>\n",
       "      <th>2123106871</th>\n",
       "      <td>[1898204174, 1124967290]</td>\n",
       "      <td>[0, 0, 0, 0, 0, 0, 0, 0, 0, 0, 0, 0, 0, 0, 0, ...</td>\n",
       "      <td>16</td>\n",
       "    </tr>\n",
       "  </tbody>\n",
       "</table>\n",
       "<p>3814 rows × 3 columns</p>\n",
       "</div>"
      ],
      "text/plain": [
       "                                                         item  \\\n",
       "user                                                            \n",
       "1                            [335115, 2, 12, 9099524, 867152]   \n",
       "2           [1868902080, 623512391, 43855, 520811440, 3941...   \n",
       "4           [9617619, 7584632, 2026561407, 22721144, 48163...   \n",
       "6           [454560170, 488034462, 102774573, 346563107, 1...   \n",
       "8           [319274146, 1724598, 389552703, 489412051, 142...   \n",
       "...                                                       ...   \n",
       "1999942692        [174501086, 320840078, 473222648, 37090048]   \n",
       "2013795079  [393275307, 360429426, 6831706, 20912712, 2659...   \n",
       "2016676980                   [386917389, 473222648, 37090048]   \n",
       "2113149532           [5532624, 19888246, 37090048, 179694948]   \n",
       "2123106871                           [1898204174, 1124967290]   \n",
       "\n",
       "                                                          vec  vec_class  \n",
       "user                                                                      \n",
       "1           [0, 1, 0, 0, 0, 0, 0, 0, 0, 1, 0, 0, 0, 0, 0, ...         14  \n",
       "2           [0, 0, 0, 0, 0, 0, 0, 1, 0, 1, 0, 0, 1, 0, 0, ...          4  \n",
       "4           [0, 0, 0, 0, 0, 0, 0, 1, 0, 1, 0, 0, 0, 0, 0, ...         19  \n",
       "6           [0, 1, 0, 0, 0, 0, 0, 1, 0, 1, 0, 0, 0, 0, 0, ...         15  \n",
       "8           [0, 0, 0, 0, 0, 0, 0, 0, 0, 0, 0, 0, 0, 0, 0, ...          9  \n",
       "...                                                       ...        ...  \n",
       "1999942692  [0, 0, 0, 0, 0, 0, 0, 0, 0, 0, 0, 0, 0, 0, 0, ...          1  \n",
       "2013795079  [0, 0, 0, 0, 0, 0, 0, 0, 0, 0, 0, 0, 0, 0, 0, ...         18  \n",
       "2016676980  [0, 0, 0, 0, 0, 0, 0, 0, 0, 0, 0, 0, 0, 0, 0, ...          2  \n",
       "2113149532  [0, 0, 0, 0, 0, 0, 0, 0, 0, 0, 0, 0, 0, 0, 0, ...         16  \n",
       "2123106871  [0, 0, 0, 0, 0, 0, 0, 0, 0, 0, 0, 0, 0, 0, 0, ...         16  \n",
       "\n",
       "[3814 rows x 3 columns]"
      ]
     },
     "execution_count": 35,
     "metadata": {},
     "output_type": "execute_result"
    }
   ],
   "source": [
    "matrix_user2up"
   ]
  },
  {
   "cell_type": "code",
   "execution_count": 36,
   "id": "cellular-conference",
   "metadata": {},
   "outputs": [],
   "source": [
    "KMeansClusterer?"
   ]
  },
  {
   "cell_type": "markdown",
   "id": "aerial-genetics",
   "metadata": {},
   "source": [
    "## 尝试jaccard距离效果"
   ]
  },
  {
   "cell_type": "code",
   "execution_count": 40,
   "id": "engaging-folks",
   "metadata": {},
   "outputs": [],
   "source": [
    "def jaccard(u,v):\n",
    "    u = [1 if i else 0 for i in u]\n",
    "    v = [1 if i else 0 for i in v]\n",
    "    tmp = len([1 for i,j in zip(u,v) if i+j==2 ])\n",
    "    return tmp/(sum(u)+sum(v)-tmp)\n",
    "model = KMeansClusterer(num_means=8,distance=jaccard)"
   ]
  },
  {
   "cell_type": "code",
   "execution_count": null,
   "id": "satisfied-geology",
   "metadata": {},
   "outputs": [],
   "source": [
    "model.cluster(dt3[:])"
   ]
  },
  {
   "cell_type": "code",
   "execution_count": null,
   "id": "enclosed-edwards",
   "metadata": {},
   "outputs": [],
   "source": []
  },
  {
   "cell_type": "code",
   "execution_count": null,
   "id": "mysterious-therapy",
   "metadata": {},
   "outputs": [],
   "source": []
  }
 ],
 "metadata": {
  "kernelspec": {
   "display_name": "Python 3",
   "language": "python",
   "name": "python3"
  },
  "language_info": {
   "codemirror_mode": {
    "name": "ipython",
    "version": 3
   },
   "file_extension": ".py",
   "mimetype": "text/x-python",
   "name": "python",
   "nbconvert_exporter": "python",
   "pygments_lexer": "ipython3",
   "version": "3.8.5"
  }
 },
 "nbformat": 4,
 "nbformat_minor": 5
}
