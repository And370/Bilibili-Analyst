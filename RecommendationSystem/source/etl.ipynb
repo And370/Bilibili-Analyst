{
 "cells": [
  {
   "cell_type": "code",
   "execution_count": 1,
   "metadata": {},
   "outputs": [],
   "source": [
    "import pandas as pd"
   ]
  },
  {
   "cell_type": "code",
   "execution_count": 2,
   "metadata": {},
   "outputs": [],
   "source": [
    "dt = pd.read_excel(\"../data/follows_deep5.xlsx\")"
   ]
  },
  {
   "cell_type": "code",
   "execution_count": 8,
   "metadata": {},
   "outputs": [
    {
     "data": {
      "text/plain": [
       "(125, 4095)"
      ]
     },
     "execution_count": 8,
     "metadata": {},
     "output_type": "execute_result"
    }
   ],
   "source": [
    "len(dt[\"from\"].unique()),len(dt[\"mid\"].unique())"
   ]
  },
  {
   "cell_type": "code",
   "execution_count": 13,
   "metadata": {},
   "outputs": [],
   "source": [
    "dt_sim = dt[[\"from\",\"mid\"]]"
   ]
  },
  {
   "cell_type": "code",
   "execution_count": 24,
   "metadata": {},
   "outputs": [],
   "source": [
    "matrix_from2follow = dt_sim.groupby(\"from\").agg(set)"
   ]
  },
  {
   "cell_type": "code",
   "execution_count": 25,
   "metadata": {},
   "outputs": [
    {
     "data": {
      "text/html": [
       "<div>\n",
       "<style scoped>\n",
       "    .dataframe tbody tr th:only-of-type {\n",
       "        vertical-align: middle;\n",
       "    }\n",
       "\n",
       "    .dataframe tbody tr th {\n",
       "        vertical-align: top;\n",
       "    }\n",
       "\n",
       "    .dataframe thead th {\n",
       "        text-align: right;\n",
       "    }\n",
       "</style>\n",
       "<table border=\"1\" class=\"dataframe\">\n",
       "  <thead>\n",
       "    <tr style=\"text-align: right;\">\n",
       "      <th></th>\n",
       "      <th>mid</th>\n",
       "    </tr>\n",
       "    <tr>\n",
       "      <th>from</th>\n",
       "      <th></th>\n",
       "    </tr>\n",
       "  </thead>\n",
       "  <tbody>\n",
       "    <tr>\n",
       "      <th>75</th>\n",
       "      <td>{526530563, 12, 562197, 14519839, 662670880, 1...</td>\n",
       "    </tr>\n",
       "    <tr>\n",
       "      <th>116683</th>\n",
       "      <td>{2, 208259, 9099524, 259333, 5197192, 52833281...</td>\n",
       "    </tr>\n",
       "    <tr>\n",
       "      <th>122879</th>\n",
       "      <td>{777536, 295711424, 254463269, 617285, 116683,...</td>\n",
       "    </tr>\n",
       "    <tr>\n",
       "      <th>168598</th>\n",
       "      <td>{2, 208259, 9099524, 44473221, 19642758, 53820...</td>\n",
       "    </tr>\n",
       "    <tr>\n",
       "      <th>208259</th>\n",
       "      <td>{605205509, 7392261, 3678731, 257433099, 12027...</td>\n",
       "    </tr>\n",
       "    <tr>\n",
       "      <th>...</th>\n",
       "      <td>...</td>\n",
       "    </tr>\n",
       "    <tr>\n",
       "      <th>517327498</th>\n",
       "      <td>{37090048, 208259, 526546916, 94613244, 519178...</td>\n",
       "    </tr>\n",
       "    <tr>\n",
       "      <th>537849376</th>\n",
       "      <td>{37090048, 151482404, 510362725, 286973680, 68...</td>\n",
       "    </tr>\n",
       "    <tr>\n",
       "      <th>544368017</th>\n",
       "      <td>{37090048}</td>\n",
       "    </tr>\n",
       "    <tr>\n",
       "      <th>627663012</th>\n",
       "      <td>{203581440, 37090048, 351899011, 1532165, 1964...</td>\n",
       "    </tr>\n",
       "    <tr>\n",
       "      <th>686150641</th>\n",
       "      <td>{213899402}</td>\n",
       "    </tr>\n",
       "  </tbody>\n",
       "</table>\n",
       "<p>125 rows × 1 columns</p>\n",
       "</div>"
      ],
      "text/plain": [
       "                                                         mid\n",
       "from                                                        \n",
       "75         {526530563, 12, 562197, 14519839, 662670880, 1...\n",
       "116683     {2, 208259, 9099524, 259333, 5197192, 52833281...\n",
       "122879     {777536, 295711424, 254463269, 617285, 116683,...\n",
       "168598     {2, 208259, 9099524, 44473221, 19642758, 53820...\n",
       "208259     {605205509, 7392261, 3678731, 257433099, 12027...\n",
       "...                                                      ...\n",
       "517327498  {37090048, 208259, 526546916, 94613244, 519178...\n",
       "537849376  {37090048, 151482404, 510362725, 286973680, 68...\n",
       "544368017                                         {37090048}\n",
       "627663012  {203581440, 37090048, 351899011, 1532165, 1964...\n",
       "686150641                                        {213899402}\n",
       "\n",
       "[125 rows x 1 columns]"
      ]
     },
     "execution_count": 25,
     "metadata": {},
     "output_type": "execute_result"
    }
   ],
   "source": [
    "matrix_from2follow"
   ]
  },
  {
   "cell_type": "code",
   "execution_count": 28,
   "metadata": {},
   "outputs": [
    {
     "data": {
      "text/plain": [
       "4095"
      ]
     },
     "execution_count": 28,
     "metadata": {},
     "output_type": "execute_result"
    }
   ],
   "source": [
    "len(dt.mid.unique())"
   ]
  },
  {
   "cell_type": "code",
   "execution_count": 31,
   "metadata": {},
   "outputs": [
    {
     "data": {
      "text/plain": [
       "125"
      ]
     },
     "execution_count": 31,
     "metadata": {},
     "output_type": "execute_result"
    }
   ],
   "source": [
    "len(dt[dt.mid.isin(dt_sim[\"from\"])][\"mid\"].unique())"
   ]
  },
  {
   "cell_type": "code",
   "execution_count": null,
   "metadata": {},
   "outputs": [],
   "source": []
  },
  {
   "cell_type": "code",
   "execution_count": null,
   "metadata": {},
   "outputs": [],
   "source": []
  }
 ],
 "metadata": {
  "kernelspec": {
   "display_name": "Python 3",
   "language": "python",
   "name": "python3"
  },
  "language_info": {
   "codemirror_mode": {
    "name": "ipython",
    "version": 3
   },
   "file_extension": ".py",
   "mimetype": "text/x-python",
   "name": "python",
   "nbconvert_exporter": "python",
   "pygments_lexer": "ipython3",
   "version": "3.6.7"
  }
 },
 "nbformat": 4,
 "nbformat_minor": 4
}
